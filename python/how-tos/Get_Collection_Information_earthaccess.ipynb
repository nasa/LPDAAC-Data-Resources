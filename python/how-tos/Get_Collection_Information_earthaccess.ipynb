{
 "cells": [
  {
   "cell_type": "markdown",
   "id": "bef6fd1c-98c4-40da-95f7-d5f04f36544b",
   "metadata": {},
   "source": [
    "# Get CMR Collection Information using `earthaccess`"
   ]
  },
  {
   "cell_type": "code",
   "execution_count": null,
   "id": "9d3d9519-8d36-4a2b-94af-63bfab97aa5a",
   "metadata": {},
   "outputs": [],
   "source": [
    "import earthaccess\n",
    "import pandas as pd"
   ]
  },
  {
   "cell_type": "code",
   "execution_count": null,
   "id": "e0c24a2d-a5fa-4dc7-8d51-91e559ea997f",
   "metadata": {},
   "outputs": [],
   "source": [
    "earthaccess.login(persist=True)"
   ]
  },
  {
   "cell_type": "code",
   "execution_count": null,
   "id": "ea5885f7-af96-43bf-8152-f4797f2f510c",
   "metadata": {},
   "outputs": [],
   "source": [
    "col_results = earthaccess.search_datasets(\n",
    "    instrument=\"VIIRS\",\n",
    "    daac=\"LPDAAC\",\n",
    "    cloud_hosted=True\n",
    ")\n",
    "len(col_results)"
   ]
  },
  {
   "cell_type": "code",
   "execution_count": null,
   "id": "2bea55da-f9a0-48fc-bbdf-42c94599da33",
   "metadata": {},
   "outputs": [],
   "source": [
    "col_ids_dict = {x.summary()['short-name']:x.summary()['concept-id'] for x in col_results}"
   ]
  },
  {
   "cell_type": "code",
   "execution_count": null,
   "id": "585a7565-9288-4623-a754-04faa71f7e04",
   "metadata": {},
   "outputs": [],
   "source": [
    "col_ids_df = pd.DataFrame(col_ids_dict.items(), columns=['short_name', 'concept-id'])\n",
    "col_ids_df.head()"
   ]
  },
  {
   "cell_type": "code",
   "execution_count": null,
   "id": "35854253-cf08-44e8-9515-d935ba6ad940",
   "metadata": {},
   "outputs": [],
   "source": [
    "col_ids_df[col_ids_df['short_name'].str.match('VNP09')]"
   ]
  },
  {
   "cell_type": "code",
   "execution_count": null,
   "id": "a75d9fec-9d3a-4e36-87b6-149d30943226",
   "metadata": {},
   "outputs": [],
   "source": []
  }
 ],
 "metadata": {
  "kernelspec": {
   "display_name": "Python 3 (ipykernel)",
   "language": "python",
   "name": "python3"
  },
  "language_info": {
   "codemirror_mode": {
    "name": "ipython",
    "version": 3
   },
   "file_extension": ".py",
   "mimetype": "text/x-python",
   "name": "python",
   "nbconvert_exporter": "python",
   "pygments_lexer": "ipython3",
   "version": "3.10.14"
  }
 },
 "nbformat": 4,
 "nbformat_minor": 5
}
