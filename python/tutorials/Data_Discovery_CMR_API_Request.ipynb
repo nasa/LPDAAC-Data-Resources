{
 "cells": [
  {
   "attachments": {},
   "cell_type": "markdown",
   "id": "ef03c624-93e5-4fe3-920f-3d8e666daf52",
   "metadata": {
    "tags": []
   },
   "source": [
    "# Data Discovery with NASA's CMR\n",
    "\n",
    "## Summary\n",
    "\n",
    "In this notebook, we will walk through how to search for Earthdata data collections and granules. Along the way we will explore the available search parameters, information return, and specific contrains when using the CMR API. Our object is to identify assets to access that we would downloaded, or perform S3 direct access, within an analysis workflow \n",
    "\n",
    "\n",
    "## Learning Objectives\n",
    "\n",
    "- Understand what CMR/CMR API is and what CMR/CMR API can be used for \n",
    "- How to use the `requests` package to search data collections and granules\n",
    "- How to parse the results of these searches.\n",
    "\n",
    "## What is CMR\n",
    "CMR is the Common Metadata Repository.  It catalogs all data for NASA's Earth Observing System Data and Information System (EOSDIS).  It is the backend of [Earthdata Search](https://search.earthdata.nasa.gov/search), the GUI search interface.  More information about CMR can be found [here](https://earthdata.nasa.gov/eosdis/science-system-description/eosdis-components/cmr).\n",
    "\n",
    "Unfortunately, the GUI for Earthdata Search is not accessible from a cloud instance - at least not without some work.  Earthdata Search is also not immediately reproducible.  What I mean by that is if you create a search using the GUI you would have to note the search criteria (date range, search area, collection name, etc), take a screenshot, copy the search url, or save the list of data granules returned by the search, in order to recreate the search.  This information would have to be re-entered each time you or someone else wanted to do the search.  You could make typos or other mistakes.  A cleaner, reproducible solution is to search CMR programmatically using the CMR API.\n",
    "\n",
    "## What is the CMR API\n",
    "API stands for Application Programming Interface.  It allows applications (software, services, etc) to send information to each other.  A helpful analogy is a waiter in a restaurant.  The waiter takes your drink or food order that you select from the menu, often translated into short-hand, to the bar or kitchen, and then returns (hopefully) with what you ordered when it is ready.\n",
    "\n",
    "The CMR API accepts search terms such as collection name, keywords, datetime range, and location, queries the CMR database and returns the results."
   ]
  },
  {
   "attachments": {},
   "cell_type": "markdown",
   "id": "4c0e6feb-7e22-49e8-ad2f-14341e025608",
   "metadata": {},
   "source": [
    "---"
   ]
  },
  {
   "attachments": {},
   "cell_type": "markdown",
   "id": "instant-parliament",
   "metadata": {},
   "source": [
    "## Getting Started: How to search CMR from Python\n",
    "The first step is to import python packages.  We will use:  \n",
    "- `requests` This package does most of the work for us accessing the CMR API using HTTP methods.\n",
    "- `pprint` to _pretty print_ the results of the search.  \n",
    "\n",
    "A more in-depth tutorial on `requests` is [here](https://realpython.com/python-requests/)"
   ]
  },
  {
   "cell_type": "code",
   "execution_count": 1,
   "id": "prime-hierarchy",
   "metadata": {
    "tags": []
   },
   "outputs": [],
   "source": [
    "import requests\n",
    "import json\n",
    "from pprint import pprint"
   ]
  },
  {
   "attachments": {},
   "cell_type": "markdown",
   "id": "authorized-conditioning",
   "metadata": {},
   "source": [
    "To conduct a search using the CMR API, `requests` needs the url for the root CMR search endpoint. We'll assign this url to a python variable as a _string_."
   ]
  },
  {
   "cell_type": "code",
   "execution_count": 2,
   "id": "existing-concert",
   "metadata": {},
   "outputs": [],
   "source": [
    "CMR_OPS = 'https://cmr.earthdata.nasa.gov/search'"
   ]
  },
  {
   "attachments": {},
   "cell_type": "markdown",
   "id": "34ea78c1",
   "metadata": {},
   "source": [
    "# Searching for Collections"
   ]
  },
  {
   "attachments": {},
   "cell_type": "markdown",
   "id": "sorted-possession",
   "metadata": {},
   "source": [
    "CMR allows search by __collections__, which are datasets, and __granules__, which are files that contain data. Many of the same search parameters can be used for collections and granules but the type of results returned differ. Search parameters can be found in the [API Documentation](https://cmr.earthdata.nasa.gov/search/site/docs/search/api.html).  \n",
    "\n",
    "Whether we search __collections__ or __granules__ is distinguished by adding `\"collections\"` or `\"granules\"` to the end of the CMR endpoint URL.  \n",
    "\n",
    "We are going to search collections first, so we add `\"collections\"` to the URL. We are using a `python` format string in the examples below."
   ]
  },
  {
   "cell_type": "code",
   "execution_count": 3,
   "id": "floating-defensive",
   "metadata": {},
   "outputs": [
    {
     "data": {
      "text/plain": [
       "'https://cmr.earthdata.nasa.gov/search/collections'"
      ]
     },
     "execution_count": 3,
     "metadata": {},
     "output_type": "execute_result"
    }
   ],
   "source": [
    "url = f'{CMR_OPS}/{\"collections\"}'\n",
    "url"
   ]
  },
  {
   "attachments": {},
   "cell_type": "markdown",
   "id": "1fa23474",
   "metadata": {},
   "source": [
    "## Query CMR for Cloud Hosted Collections"
   ]
  },
  {
   "attachments": {},
   "cell_type": "markdown",
   "id": "907bb4fd-c7a8-4762-9347-3d2b11b7fea8",
   "metadata": {},
   "source": [
    "In this tutorial, we use different search parameters to search for collections in different ways. Below, we want to retrieve the collections that are hosted in the cloud (`'cloud_hosted': 'True'`) that has granules availble (`'has_granules': 'True'`). We also want to get the content in `json` (pronounced \"jason\") format, so I pass a dictionary to the header keyword argument to say that I want results returned as `json` (`'Accept': 'application/json'`).\n",
    "\n",
    "The `.get()` method is used to send this information to the CMR API. `get()` calls the HTTP method __GET__. "
   ]
  },
  {
   "cell_type": "code",
   "execution_count": 4,
   "id": "suited-wrestling",
   "metadata": {},
   "outputs": [],
   "source": [
    "response = requests.get(url,\n",
    "                        params={\n",
    "                            'cloud_hosted': 'True',\n",
    "                            'has_granules': 'True',\n",
    "                        },\n",
    "                        headers={\n",
    "                            'Accept': 'application/json'\n",
    "                        }\n",
    "                       )"
   ]
  },
  {
   "attachments": {},
   "cell_type": "markdown",
   "id": "monetary-harbor",
   "metadata": {},
   "source": [
    "The request returns a `Response` object.    \n",
    "\n",
    "To check that our request was successful we can print the `response` variable we saved the request to."
   ]
  },
  {
   "cell_type": "code",
   "execution_count": 5,
   "id": "ongoing-progressive",
   "metadata": {},
   "outputs": [
    {
     "data": {
      "text/plain": [
       "<Response [200]>"
      ]
     },
     "execution_count": 5,
     "metadata": {},
     "output_type": "execute_result"
    }
   ],
   "source": [
    "response"
   ]
  },
  {
   "attachments": {},
   "cell_type": "markdown",
   "id": "linear-collins",
   "metadata": {},
   "source": [
    "A __200__ response is what we want. This means that the requests was successful. For more information on HTTP status codes see <https://en.wikipedia.org/wiki/List_of_HTTP_status_codes>\n",
    "\n",
    "A more explict way to check the status code is to use the `status_code` attribute. Both methods return a HTTP status code."
   ]
  },
  {
   "cell_type": "code",
   "execution_count": 6,
   "id": "printable-determination",
   "metadata": {},
   "outputs": [
    {
     "data": {
      "text/plain": [
       "200"
      ]
     },
     "execution_count": 6,
     "metadata": {},
     "output_type": "execute_result"
    }
   ],
   "source": [
    "response.status_code"
   ]
  },
  {
   "attachments": {},
   "cell_type": "markdown",
   "id": "australian-resolution",
   "metadata": {},
   "source": [
    "The response from `requests.get` returns the results of the search and metadata about those results in the `headers`.  \n",
    "\n",
    "More information about the `response` object can be found by typing `help(response)`.\n",
    "\n",
    "`headers` contains useful information in a case-insensitive dictionary. We requested (above) that the information be return in json which means the object return is a dictionary in our Python environment. We'll iterate through the returned dictionary, looping throught each field (`k`) and its associated value (`v`). For more on interating through dictionary object click [here](https://realpython.com/iterate-through-dictionary-python/)."
   ]
  },
  {
   "cell_type": "code",
   "execution_count": 7,
   "id": "driving-vintage",
   "metadata": {},
   "outputs": [
    {
     "name": "stdout",
     "output_type": "stream",
     "text": [
      "Content-Type: application/json;charset=utf-8\n",
      "Transfer-Encoding: chunked\n",
      "Connection: keep-alive\n",
      "Date: Wed, 05 Jul 2023 21:47:57 GMT\n",
      "X-Frame-Options: SAMEORIGIN\n",
      "Access-Control-Allow-Origin: *\n",
      "X-XSS-Protection: 1; mode=block\n",
      "CMR-Request-Id: 6a23e6cd-89b8-4acb-9ce8-932e1028f7c3\n",
      "Strict-Transport-Security: max-age=31536000\n",
      "CMR-Search-After: [0.0,10400.0,\"VNP03IMG\",\"2\",2105092163,2]\n",
      "CMR-Hits: 2772\n",
      "Access-Control-Expose-Headers: CMR-Hits, CMR-Request-Id, X-Request-Id, CMR-Scroll-Id, CMR-Search-After, CMR-Timed-Out, CMR-Shapefile-Original-Point-Count, CMR-Shapefile-Simplified-Point-Count\n",
      "X-Content-Type-Options: nosniff\n",
      "CMR-Took: 1418\n",
      "X-Request-Id: D4zM66TwPjOtdYSk2YmXO74wtETxxxDNDE_ItkfC5JUVmLglIpN6ig==\n",
      "Vary: Accept-Encoding, User-Agent\n",
      "Content-Encoding: gzip\n",
      "Server: ServerTokens ProductOnly\n",
      "X-Cache: Miss from cloudfront\n",
      "Via: 1.1 7cc224be3664680df186a12039cdc424.cloudfront.net (CloudFront)\n",
      "X-Amz-Cf-Pop: MSP50-P2\n",
      "X-Amz-Cf-Id: D4zM66TwPjOtdYSk2YmXO74wtETxxxDNDE_ItkfC5JUVmLglIpN6ig==\n"
     ]
    }
   ],
   "source": [
    "for k, v in response.headers.items():\n",
    "    print(f'{k}: {v}')"
   ]
  },
  {
   "attachments": {},
   "cell_type": "markdown",
   "id": "durable-ceramic",
   "metadata": {},
   "source": [
    "Each item in the dictionary can be accessed in the normal way you access a `python` dictionary but the keys uniquely case-**in**sensitive. Let's take a look at the commonly used `CMR-Hits` key.\n",
    "\n"
   ]
  },
  {
   "cell_type": "code",
   "execution_count": 8,
   "id": "entertaining-blend",
   "metadata": {},
   "outputs": [
    {
     "data": {
      "text/plain": [
       "'2772'"
      ]
     },
     "execution_count": 8,
     "metadata": {},
     "output_type": "execute_result"
    }
   ],
   "source": [
    "response.headers['CMR-Hits']"
   ]
  },
  {
   "attachments": {},
   "cell_type": "markdown",
   "id": "governmental-disclosure",
   "metadata": {},
   "source": [
    "Note that \"cmr-hits\" works as well!"
   ]
  },
  {
   "cell_type": "code",
   "execution_count": 9,
   "id": "unsigned-january",
   "metadata": {},
   "outputs": [
    {
     "data": {
      "text/plain": [
       "'2772'"
      ]
     },
     "execution_count": 9,
     "metadata": {},
     "output_type": "execute_result"
    }
   ],
   "source": [
    "response.headers['cmr-hits']"
   ]
  },
  {
   "attachments": {},
   "cell_type": "markdown",
   "id": "174c2ad9",
   "metadata": {},
   "source": [
    "## Query CMR Using Provider "
   ]
  },
  {
   "attachments": {},
   "cell_type": "markdown",
   "id": "eleven-mother",
   "metadata": {},
   "source": [
    "In some situations the response to your query can return a very large number of result, some of which may not be relevant. We can add additional [query parameters](https://cmr.earthdata.nasa.gov/search/site/docs/search/api.html) to restrict the information returned. We're going to restrict the search by the `provider` parameter.\n",
    "\n",
    "You can modify the code below to explore all Earthdata data products hosted by the various providers. When searching by provider, use _Cloud Provider_ to search for cloud-hosted datasets and _On-Premises Provider_ to search for datasets archived at the DAACs. A partial list of providers is given below.\n",
    "\n",
    "DAAC      | Short Name                              | Cloud Provider | On-Premises Provider  \n",
    "----------|-----------------------------------------|----------------|----------------------  \n",
    "NSIDC     | National Snow and Ice Data Center       | NSIDC_CPRD     | NSIDC_ECS  \n",
    "GHRC DAAC | Global Hydrometeorology Resource Center | GHRC_DAAC      | GHRC_DAAC  \n",
    "PO DAAC   | Physical Oceanography Distributed Active Archive Center | POCLOUD | PODAAC  \n",
    "ASF       | Alaska Satellite Facility | ASF | ASF  \n",
    "ORNL DAAC | Oak Ridge National Laboratory | ORNL_CLOUD | ORNL_DAAC  \n",
    "LP DAAC   | Land Processes Distributed Active Archive Center | LPCLOUD | LPDAAC_ECS\n",
    "GES DISC  | NASA Goddard Earth Sciences (GES) Data and Information Services Center (DISC) | GES_DISC | GES_DISC\n",
    "OB DAAC   | NASA's Ocean Biology Distributed Active Archive Center |   | OB_DAAC\n",
    "SEDAC     | NASA's Socioeconomic Data and Applications Center |   | SEDAC"
   ]
  },
  {
   "attachments": {},
   "cell_type": "markdown",
   "id": "5842dc3b-639a-4cac-a838-6413ee1b4bb6",
   "metadata": {},
   "source": [
    "We'll assign the provider to a variable as a _string_ and insert the variable into the parameter argument in the request. "
   ]
  },
  {
   "cell_type": "code",
   "execution_count": 10,
   "id": "77daf931-54d6-40b0-823b-a36c352fd06c",
   "metadata": {},
   "outputs": [],
   "source": [
    "provider = 'LPCLOUD'"
   ]
  },
  {
   "cell_type": "code",
   "execution_count": 11,
   "id": "economic-airfare",
   "metadata": {},
   "outputs": [
    {
     "data": {
      "text/plain": [
       "<Response [200]>"
      ]
     },
     "execution_count": 11,
     "metadata": {},
     "output_type": "execute_result"
    }
   ],
   "source": [
    "response = requests.get(url,\n",
    "                        params={\n",
    "                            'cloud_hosted': 'True',\n",
    "                            'has_granules': 'True',\n",
    "                            'provider': provider,\n",
    "                        },\n",
    "                        headers= {\n",
    "                            'Accept': 'application/json'\n",
    "                            }\n",
    "                       )\n",
    "response"
   ]
  },
  {
   "attachments": {},
   "cell_type": "markdown",
   "id": "20735293",
   "metadata": {},
   "source": [
    "Let's see how many collections are available through `LPCOUD` provider."
   ]
  },
  {
   "cell_type": "code",
   "execution_count": 12,
   "id": "imperial-congo",
   "metadata": {},
   "outputs": [
    {
     "data": {
      "text/plain": [
       "'209'"
      ]
     },
     "execution_count": 12,
     "metadata": {},
     "output_type": "execute_result"
    }
   ],
   "source": [
    "response.headers['cmr-hits']"
   ]
  },
  {
   "attachments": {},
   "cell_type": "markdown",
   "id": "peripheral-static",
   "metadata": {},
   "source": [
    "Search results are contained in the __content__ part of the Response object. However, `response.content` returns information in bytes."
   ]
  },
  {
   "cell_type": "code",
   "execution_count": 13,
   "id": "hawaiian-honolulu",
   "metadata": {
    "tags": []
   },
   "outputs": [
    {
     "data": {
      "text/plain": [
       "b'{\"feed\":{\"updated\":\"2023-07-05T21:47:59.100Z\",\"id\":\"https://cmr.earthdata.nasa.gov:443/search/collections.json?cloud_hosted=True&has_granules=True&provider=LPCLOUD\",\"title\":\"ECHO dataset metadata\",\"entry\":[{\"processing_level_id\":\"3\",\"cloud_hosted\":true,\"boxes\":[\"-90 -180 90 180\"],\"time_start\":\"2013-04-11T00:00:00.000Z\",\"version_id\":\"2.0\",\"updated\":\"2015-12-03T10:57:07.000Z\",\"dataset_id\":\"HLS Landsat Operational Land Imager Surface Reflectance and TOA Brightness Daily Global 30m v2.0\",\"has_spatial_subsetting\":false,\"has_transforms\":false,\"associations\":{\"tools\":[\"TL1860232272-LPDAAC_ECS\"]},\"has_variables\":false,\"data_center\":\"LPCLOUD\",\"short_name\":\"HLSL30\",\"organizations\":[\"LP DAAC\",\"NASA/IMPACT\"],\"title\":\"HLS Landsat Operational Land Imager Surface Reflectance and TOA Brightness Daily Global 30m v2.0\",\"coordinate_system\":\"CARTESIAN\",\"summary\":\"The Harmonized Landsat Sentinel-2 (HLS) project provides consistent surface reflectance (SR) and top of atmosphere (TOA) brightness data from a virtual constellation of satellite sensors. The Operational Land Imager (OLI) is housed aboard the joint NASA/USGS Landsat 8 and Landsat 9 satellites, while the Multi-Spectral Instrument (MSI) is mounted aboard Europe\\xe2\\x80\\x99s Copernicus Sentinel-2A and Sentinel-2B satellites. The combined measurement enables global observations of the land every 2\\xe2\\x80\\x933 days at 30-meter (m) spatial resolution. The HLS project uses a set of algorithms to obtain seamless products from OLI and MSI that include atmospheric correction, cloud and cloud-shadow masking, spatial co-registration and common gridding, illumination and view angle normalization, and spectral bandpass adjustment.\\\\r\\\\n\\\\r\\\\nThe HLSL30 product provides 30-m Nadir Bidirectional Reflectance Distribution Function (BRDF)-Adjusted Reflectance (NBAR) and is derived from Landsat 8/9 OLI data products. The HLSS30 and HLSL30 products are gridded to the same resolution and Military Grid Reference System (MGRS)(https://hls.gsfc.nasa.gov/products-description/tiling-system/) tiling system, and thus are \\xe2\\x80\\x9cstackable\\xe2\\x80\\x9d for time series analysis.\\\\r\\\\n\\\\r\\\\nThe HLSL30 product is provided in Cloud Optimized GeoTIFF (COG) format, and each band is distributed as a separate file. There are 11 bands included in the HLSL30 product along with one quality assessment (QA) band and four angle bands. See the User Guide for a more detailed description of the individual bands provided in the HLSL30 product.\",\"service_features\":{\"opendap\":{\"has_formats\":false,\"has_variables\":false,\"has_transforms\":false,\"has_spatial_subsetting\":false,\"has_temporal_subsetting\":false},\"esi\":{\"has_formats\":false,\"has_variables\":false,\"has_transforms\":false,\"has_spatial_subsetting\":false,\"has_temporal_subsetting\":false},\"harmony\":{\"has_formats\":false,\"has_variables\":false,\"has_transforms\":false,\"has_spatial_subsetting\":false,\"has_temporal_subsetting\":false}},\"orbit_parameters\":{},\"id\":\"C2021957657-LPCLOUD\",\"has_formats\":false,\"consortiums\":[\"GEOSS\",\"EOSDIS\"],\"original_format\":\"UMM_JSON\",\"collection_data_type\":\"SCIENCE_QUALITY\",\"archive_center\":\"LP DAAC\",\"has_temporal_subsetting\":false,\"browse_flag\":true,\"platforms\":[\"LANDSAT-8\",\"LANDSAT-9\"],\"association_details\":{\"tools\":[{\"concept_id\":\"TL1860232272-LPDAAC_ECS\"}]},\"online_access_flag\":true,\"links\":[{\"rel\":\"http://esipfed.org/ns/fedsearch/1.1/data#\",\"hreflang\":\"en-US\",\"href\":\"https://search.earthdata.nasa.gov/search?q=C2021957657-LPCLOUD\"},{\"rel\":\"http://esipfed.org/ns/fedsearch/1.1/metadata#\",\"hreflang\":\"en-US\",\"href\":\"https://doi.org/10.5067/HLS/HLSL30.002\"},{\"rel\":\"http://esipfed.org/ns/fedsearch/1.1/metadata#\",\"hreflang\":\"en-US\",\"href\":\"https://lpdaac.usgs.gov/\"},{\"rel\":\"http://esipfed.org/ns/fedsearch/1.1/documentation#\",\"hreflang\":\"en-US\",\"href\":\"https://lpdaac.usgs.gov/documents/1326/HLS_User_Guide_V2.pdf\"},{\"rel\":\"http://esipfed.org/ns/fedsearch/1.1/documentation#\",\"hreflang\":\"en-US\",\"href\":\"https://lpdaac.usgs.gov/documents/769/HLS_ATBD_V15_provisional.pdf\"},{\"rel\":\"http://esipfed.org/ns/fedsearch/1.1/documentation#\",\"hreflang\":\"en-US\",\"href\":\"https://lpdaac.usgs.gov/documents/1117/HLS_Quick_Guide_v02.pdf\"},{\"rel\":\"http://esipfed.org/ns/fedsearch/1.1/documentation#\",\"hreflang\":\"en-US\",\"href\":\"https://git.earthdata.nasa.gov/projects/LPDUR/repos/hls-tutorial/browse\"},{\"rel\":\"http://esipfed.org/ns/fedsearch/1.1/documentation#\",\"hreflang\":\"en-US\",\"href\":\"https://git.earthdata.nasa.gov/projects/LPDUR/repos/hls-super-script/browse\"},{\"rel\":\"http://esipfed.org/ns/fedsearch/1.1/browse#\",\"hreflang\":\"en-US\",\"href\":\"https://cmr.earthdata.nasa.gov/browse-scaler/browse_images/granules/G2095313663-LPCLOUD?h=512&w=512\"},{\"rel\":\"http://esipfed.org/ns/fedsearch/1.1/documentation#\",\"hreflang\":\"en-US\",\"href\":\"https://git.earthdata.nasa.gov/projects/LPDUR/repos/hls-bulk-download/browse\"},{\"rel\":\"http://esipfed.org/ns/fedsearch/1.1/documentation#\",\"hreflang\":\"en-US\",\"href\":\"https://lpdaac.usgs.gov/resources/e-learning/getting-started-with-cloud-native-harmonized-landsat-sentinel-2-hls-data-in-r/\"},{\"rel\":\"http://esipfed.org/ns/fedsearch/1.1/data#\",\"hreflang\":\"en-US\",\"href\":\"https://appeears.earthdatacloud.nasa.gov/\"}]},{\"processing_level_id\":\"3\",\"cloud_hosted\":true,\"boxes\":[\"-90 -180 90 180\"],\"time_start\":\"2015-11-28T00:00:00.000Z\",\"version_id\":\"2.0\",\"updated\":\"2020-03-04T07:19:53.396Z\",\"dataset_id\":\"HLS Sentinel-2 Multi-spectral Instrument Surface Reflectance Daily Global 30m v2.0\",\"has_spatial_subsetting\":false,\"has_transforms\":false,\"associations\":{\"tools\":[\"TL1860232272-LPDAAC_ECS\"]},\"has_variables\":false,\"data_center\":\"LPCLOUD\",\"short_name\":\"HLSS30\",\"organizations\":[\"LP DAAC\",\"NASA/IMPACT\"],\"title\":\"HLS Sentinel-2 Multi-spectral Instrument Surface Reflectance Daily Global 30m v2.0\",\"coordinate_system\":\"CARTESIAN\",\"summary\":\"The Harmonized Landsat Sentinel-2 (HLS) project provides consistent surface reflectance data from the Operational Land Imager (OLI) aboard the joint NASA/USGS Landsat 8 satellite and the Multi-Spectral Instrument (MSI) aboard Europe\\xe2\\x80\\x99s Copernicus Sentinel-2A and Sentinel-2B satellites. The combined measurement enables global observations of the land every 2\\xe2\\x80\\x933 days at 30-meter (m) spatial resolution. The HLS project uses a set of algorithms to obtain seamless products from OLI and MSI that include atmospheric correction, cloud and cloud-shadow masking, spatial co-registration and common gridding, illumination and view angle normalization, and spectral bandpass adjustment. \\\\r\\\\n\\\\r\\\\nThe HLSS30 product provides 30-m Nadir Bidirectional Reflectance Distribution Function (BRDF)-Adjusted Reflectance (NBAR) and is derived from Sentinel-2A and Sentinel-2B MSI data products. The HLSS30 and HLSL30 products are gridded to the same resolution and Military Grid Reference System (MGRS) (https://hls.gsfc.nasa.gov/products-description/tiling-system/) tiling system, and thus are \\xe2\\x80\\x9cstackable\\xe2\\x80\\x9d for time series analysis.\\\\r\\\\n\\\\r\\\\nThe HLSS30 product is provided in Cloud Optimized GeoTIFF (COG) format, and each band is distributed as a separate COG. There are 13 bands included in the HLSS30 product along with four angle bands and a quality assessment (QA) band. See the User Guide for a more detailed description of the individual bands provided in the HLSS30 product.\\\\r\\\\n\",\"service_features\":{\"opendap\":{\"has_formats\":false,\"has_variables\":false,\"has_transforms\":false,\"has_spatial_subsetting\":false,\"has_temporal_subsetting\":false},\"esi\":{\"has_formats\":false,\"has_variables\":false,\"has_transforms\":false,\"has_spatial_subsetting\":false,\"has_temporal_subsetting\":false},\"harmony\":{\"has_formats\":false,\"has_variables\":false,\"has_transforms\":false,\"has_spatial_subsetting\":false,\"has_temporal_subsetting\":false}},\"orbit_parameters\":{},\"id\":\"C2021957295-LPCLOUD\",\"has_formats\":false,\"consortiums\":[\"GEOSS\",\"EOSDIS\"],\"original_format\":\"UMM_JSON\",\"collection_data_type\":\"SCIENCE_QUALITY\",\"archive_center\":\"LP DAAC\",\"has_temporal_subsetting\":false,\"browse_flag\":true,\"platforms\":[\"Sentinel-2A\",\"Sentinel-2B\"],\"association_details\":{\"tools\":[{\"concept_id\":\"TL1860232272-LPDAAC_ECS\"}]},\"online_access_flag\":true,\"links\":[{\"rel\":\"http://esipfed.org/ns/fedsearch/1.1/data#\",\"hreflang\":\"en-US\",\"href\":\"https://search.earthdata.nasa.gov/search?q=C2021957295-LPCLOUD\"},{\"rel\":\"http://esipfed.org/ns/fedsearch/1.1/metadata#\",\"hreflang\":\"en-US\",\"href\":\"https://doi.org/10.5067/HLS/HLSS30.002\"},{\"rel\":\"http://esipfed.org/ns/fedsearch/1.1/metadata#\",\"hreflang\":\"en-US\",\"href\":\"https://lpdaac.usgs.gov/\"},{\"rel\":\"http://esipfed.org/ns/fedsearch/1.1/documentation#\",\"hreflang\":\"en-US\",\"href\":\"https://lpdaac.usgs.gov/documents/1326/HLS_User_Guide_V2.pdf\"},{\"rel\":\"http://esipfed.org/ns/fedsearch/1.1/documentation#\",\"hreflang\":\"en-US\",\"href\":\"https://lpdaac.usgs.gov/documents/769/HLS_ATBD_V15_provisional.pdf\"},{\"rel\":\"http://esipfed.org/ns/fedsearch/1.1/documentation#\",\"hreflang\":\"en-US\",\"href\":\"https://lpdaac.usgs.gov/documents/1117/HLS_Quick_Guide_v02.pdf\"},{\"rel\":\"http://esipfed.org/ns/fedsearch/1.1/documentation#\",\"hreflang\":\"en-US\",\"href\":\"https://git.earthdata.nasa.gov/projects/LPDUR/repos/hls-tutorial/browse\"},{\"rel\":\"http://esipfed.org/ns/fedsearch/1.1/documentation#\",\"hreflang\":\"en-US\",\"href\":\"https://git.earthdata.nasa.gov/projects/LPDUR/repos/hls-super-script/browse\"},{\"rel\":\"http://esipfed.org/ns/fedsearch/1.1/browse#\",\"hreflang\":\"en-US\",\"href\":\"https://cmr.earthdata.nasa.gov/browse-scaler/browse_images/granules/G2095548655-LPCLOUD?h=512&w=512\"},{\"rel\":\"http://esipfed.org/ns/fedsearch/1.1/documentation#\",\"hreflang\":\"en-US\",\"href\":\"https://git.earthdata.nasa.gov/projects/LPDUR/repos/hls-bulk-download/browse\"},{\"rel\":\"http://esipfed.org/ns/fedsearch/1.1/documentation#\",\"hreflang\":\"en-US\",\"href\":\"https://lpdaac.usgs.gov/resources/e-learning/getting-started-with-cloud-native-harmonized-landsat-sentinel-2-hls-data-in-r/\"},{\"rel\":\"http://esipfed.org/ns/fedsearch/1.1/data#\",\"hreflang\":\"en-US\",\"href\":\"https://appeears.earthdatacloud.nasa.gov/\"}]},{\"processing_level_id\":\"3\",\"cloud_hosted\":true,\"boxes\":[\"-83 -180 82 180\"],\"time_start\":\"2000-03-01T00:00:00.000Z\",\"version_id\":\"003\",\"updated\":\"2015-09-30T10:42:35.418Z\",\"dataset_id\":\"ASTER Global Digital Elevation Model V003\",\"has_spatial_subsetting\":false,\"has_transforms\":false,\"has_variables\":false,\"data_center\":\"LPCLOUD\",\"short_name\":\"ASTGTM\",\"organizations\":[\"LP DAAC\",\"NASA/JPL/ASTER\"],\"title\":\"ASTER Global Digital Elevation Model V003\",\"coordinate_system\":\"CARTESIAN\",\"summary\":\"The ASTER Global Digital Elevation Model (GDEM) Version 3 (ASTGTM) provides a global digital elevation model (DEM) of land areas on Earth at a spatial resolution of 1 arc second (approximately 30 meter horizontal posting at the equator).\\\\r\\\\n\\\\r\\\\nThe development of the ASTER GDEM data products is a collaborative effort between National Aeronautics and Space Administration (NASA) and Japan\\xe2\\x80\\x99s Ministry of Economy, Trade, and Industry (METI). The ASTER GDEM data products are created by the Sensor Information Laboratory Corporation (SILC) in Tokyo. \\\\r\\\\n\\\\r\\\\nThe ASTER GDEM Version 3 data product was created from the automated processing of the entire ASTER Level 1A (https://doi.org/10.5067/ASTER/AST_L1A.003) archive of scenes acquired between March 1, 2000, and November 30, 2013. Stereo correlation was used to produce over one million individual scene based ASTER DEMs, to which cloud masking was applied. All cloud screened DEMs and non-cloud screened DEMs were stacked. Residual bad values and outliers were removed. In areas with limited data stacking, several existing reference DEMs were used to supplement ASTER data to correct for residual anomalies. Selected data were averaged to create final pixel values before partitioning the data into 1 degree latitude by 1 degree longitude tiles with a one pixel overlap. To correct elevation values of water body surfaces, the ASTER Global Water Bodies Database (ASTWBD) (https://doi.org/10.5067/ASTER/ASTWBD.001) Version 1 data product was also generated. \\\\r\\\\n\\\\r\\\\nThe geographic coverage of the ASTER GDEM extends from 83\\xc2\\xb0 North to 83\\xc2\\xb0 South. Each tile is distributed in GeoTIFF format and projected on the 1984 World Geodetic System (WGS84)/1996 Earth Gravitational Model (EGM96) geoid. Each of the 22,912 tiles in the collection contain at least 0.01% land area. \\\\r\\\\n\\\\r\\\\nProvided in the ASTER GDEM product are layers for DEM and number of scenes (NUM). The NUM layer indicates the number of scenes that were processed for each pixel and the source of the data.\\\\r\\\\n\\\\r\\\\nWhile the ASTER GDEM Version 3 data products offer substantial improvements over Version 2, users are advised that the products still may contain anomalies and artifacts that will reduce its usability for certain applications. \\\\r\\\\n\\\\r\\\\nImprovements/Changes from Previous Versions \\\\r\\\\n\\xe2\\x80\\xa2 Expansion of acquisition coverage to increase the amount of cloud-free input scenes from about 1.5 million in Version 2 to about 1.88 million scenes in Version 3.\\\\r\\\\n\\xe2\\x80\\xa2 Separation of rivers from lakes in the water body processing. \\\\r\\\\n\\xe2\\x80\\xa2 Minimum water body detection size decreased from 1 km2 to 0.2 km2. \",\"time_end\":\"2013-11-30T23:59:59.999Z\",\"service_features\":{\"opendap\":{\"has_formats\":false,\"has_variables\":false,\"has_transforms\":false,\"has_spatial_subsetting\":false,\"has_temporal_subsetting\":false},\"esi\":{\"has_formats\":false,\"has_variables\":false,\"has_transforms\":false,\"has_spatial_subsetting\":false,\"has_temporal_subsetting\":false},\"harmony\":{\"has_formats\":false,\"has_variables\":false,\"has_transforms\":false,\"has_spatial_subsetting\":false,\"has_temporal_subsetting\":false}},\"orbit_parameters\":{},\"id\":\"C1711961296-LPCLOUD\",\"has_formats\":false,\"consortiums\":[\"GEOSS\",\"EOSDIS\"],\"original_format\":\"UMM_JSON\",\"collection_data_type\":\"SCIENCE_QUALITY\",\"archive_center\":\"LP DAAC\",\"has_temporal_subsetting\":false,\"browse_flag\":true,\"platforms\":[\"Terra\"],\"online_access_flag\":true,\"links\":[{\"rel\":\"http://esipfed.org/ns/fedsearch/1.1/data#\",\"hreflang\":\"en-US\",\"href\":\"https://search.earthdata.nasa.gov/search?q= C1711961296-LPCLOUD\"},{\"rel\":\"http://esipfed.org/ns/fedsearch/1.1/metadata#\",\"hreflang\":\"en-US\",\"href\":\"https://doi.org/10.5067/ASTER/ASTGTM.003\"},{\"rel\":\"http://esipfed.org/ns/fedsearch/1.1/metadata#\",\"hreflang\":\"en-US\",\"href\":\"https://lpdaac.usgs.gov\"},{\"rel\":\"http://esipfed.org/ns/fedsearch/1.1/metadata#\",\"hreflang\":\"en-US\",\"href\":\"https://asterweb.jpl.nasa.gov/\"},{\"rel\":\"http://esipfed.org/ns/fedsearch/1.1/documentation#\",\"hreflang\":\"en-US\",\"href\":\"https://lpdaac.usgs.gov/documents/434/ASTGTM_User_Guide_V3.pdf\"},{\"rel\":\"http://esipfed.org/ns/fedsearch/1.1/browse#\",\"hreflang\":\"en-US\",\"href\":\"https://data.lpdaac.earthdatacloud.nasa.gov/lp-prod-public/ASTGTM.003/ASTGTMV003_N03E021.1.jpg\"}]},{\"processing_level_id\":\"3\",\"cloud_hosted\":true,\"boxes\":[\"-90 -180 90 180\"],\"time_start\":\"2002-07-04T00:00:00.000Z\",\"version_id\":\"061\",\"updated\":\"2016-01-20T09:38:26.775Z\",\"dataset_id\":\"MODIS/Aqua Land Surface Temperature/Emissivity Daily L3 Global 1km SIN Grid V061\",\"has_spatial_subsetting\":false,\"has_transforms\":false,\"has_variables\":false,\"data_center\":\"LPCLOUD\",\"short_name\":\"MYD11A1\",\"organizations\":[\"LP DAAC\",\"NASA/GSFC/SED/ESD/TISL/MODAPS\"],\"title\":\"MODIS/Aqua Land Surface Temperature/Emissivity Daily L3 Global 1km SIN Grid V061\",\"coordinate_system\":\"CARTESIAN\",\"summary\":\"The MYD11A1 Version 6.1 product provides daily per-pixel Land Surface Temperature and Emissivity (LST&E) with 1 kilometer (km) spatial resolution in a 1,200 by 1,200 km grid. The pixel temperature value is derived from the MYD11_L2 (https://doi.org/10.5067/MODIS/MYD11_L2.061) swath product. Above 30 degrees latitude, some pixels may have multiple observations where the criteria for clear-sky are met. When this occurs, the pixel value is a result of the average of all qualifying observations. Provided along with the daytime and nighttime surface temperature bands are associated quality control assessments, observation times, view zenith angles, and clear-sky coverages along with bands 31 and 32 emissivities from land cover types. Validation at stage 2 (https://modis-land.gsfc.nasa.gov/MODLAND_val.html) has been achieved for all MODIS Land Surface Temperature and Emissivity products. Further details regarding MODIS land product validation for the MYD11 data products are available from the MODIS Land Team Validation site (https://modis-land.gsfc.nasa.gov/ValStatus.php?ProductID=MOD11). Improvements/Changes from Previous Versions * The Version 6.1 Level-1B (L1B) products have been improved by undergoing various calibration changes that include: changes to the response-versus-scan angle (RVS) approach that affects reflectance bands for Aqua and Terra MODIS, corrections to adjust for the optical crosstalk in Terra MODIS infrared (IR) bands, and corrections to the Terra MODIS forward look-up table (LUT) update for the period 2012 - 2017. * A polarization correction has been applied to the L1B Reflective Solar Bands (RSB). \",\"service_features\":{\"opendap\":{\"has_formats\":false,\"has_variables\":false,\"has_transforms\":false,\"has_spatial_subsetting\":false,\"has_temporal_subsetting\":false},\"esi\":{\"has_formats\":false,\"has_variables\":false,\"has_transforms\":false,\"has_spatial_subsetting\":false,\"has_temporal_subsetting\":false},\"harmony\":{\"has_formats\":false,\"has_variables\":false,\"has_transforms\":false,\"has_spatial_subsetting\":false,\"has_temporal_subsetting\":false}},\"orbit_parameters\":{},\"id\":\"C1748046084-LPCLOUD\",\"has_formats\":false,\"consortiums\":[\"GEOSS\",\"EOSDIS\"],\"original_format\":\"UMM_JSON\",\"collection_data_type\":\"SCIENCE_QUALITY\",\"archive_center\":\"LP DAAC\",\"has_temporal_subsetting\":false,\"browse_flag\":true,\"platforms\":[\"Aqua\"],\"online_access_flag\":true,\"links\":[{\"rel\":\"http://esipfed.org/ns/fedsearch/1.1/metadata#\",\"hreflang\":\"en-US\",\"href\":\"https://doi.org/10.5067/MODIS/MYD11A1.061\"},{\"rel\":\"http://esipfed.org/ns/fedsearch/1.1/metadata#\",\"hreflang\":\"en-US\",\"href\":\"https://lpdaac.usgs.gov/\"},{\"rel\":\"http://esipfed.org/ns/fedsearch/1.1/data#\",\"hreflang\":\"en-US\",\"href\":\"https://e4ftl01.cr.usgs.gov/MOLA/MYD11A1.061/\"},{\"rel\":\"http://esipfed.org/ns/fedsearch/1.1/data#\",\"hreflang\":\"en-US\",\"href\":\"https://search.earthdata.nasa.gov/search/granules?p=C1748046084-LPCLOUD\"},{\"rel\":\"http://esipfed.org/ns/fedsearch/1.1/data#\",\"hreflang\":\"en-US\",\"href\":\"https://appeears.earthdatacloud.nasa.gov/\"},{\"rel\":\"http://esipfed.org/ns/fedsearch/1.1/data#\",\"hreflang\":\"en-US\",\"href\":\"https://earthexplorer.usgs.gov/\"},{\"rel\":\"http://esipfed.org/ns/fedsearch/1.1/service#\",\"hreflang\":\"en-US\",\"href\":\"https://opendap.cr.usgs.gov/opendap/hyrax/DP128/MOLA/MYD11A1.061/contents.html\"},{\"rel\":\"http://esipfed.org/ns/fedsearch/1.1/documentation#\",\"hreflang\":\"en-US\",\"href\":\"https://lpdaac.usgs.gov/documents/119/MOD11_ATBD.pdf\"},{\"rel\":\"http://esipfed.org/ns/fedsearch/1.1/documentation#\",\"hreflang\":\"en-US\",\"href\":\"https://lpdaac.usgs.gov/documents/715/MOD11_User_Guide_V61.pdf\"},{\"rel\":\"http://esipfed.org/ns/fedsearch/1.1/documentation#\",\"hreflang\":\"en-US\",\"href\":\"https://ladsweb.modaps.eosdis.nasa.gov/filespec/MODIS/61/MYD11A1\"},{\"rel\":\"http://esipfed.org/ns/fedsearch/1.1/documentation#\",\"hreflang\":\"en-US\",\"href\":\"https://modis-land.gsfc.nasa.gov/ValStatus.php?ProductID=MOD11\"},{\"rel\":\"http://esipfed.org/ns/fedsearch/1.1/documentation#\",\"hreflang\":\"en-US\",\"href\":\"https://modis-land.gsfc.nasa.gov/MODLAND_val.html\"},{\"rel\":\"http://esipfed.org/ns/fedsearch/1.1/documentation#\",\"hreflang\":\"en-US\",\"href\":\"https://landweb.modaps.eosdis.nasa.gov/cgi-bin/QA_WWW/qaFlagPage.cgi?sat=aqua&ver=C6\"},{\"rel\":\"http://esipfed.org/ns/fedsearch/1.1/browse#\",\"hreflang\":\"en-US\",\"href\":\"https://cmr.earthdata.nasa.gov/browse-scaler/browse_images/granules/G2357187151-LPCLOUD?h=500&w=500\"}]},{\"processing_level_id\":\"3\",\"cloud_hosted\":true,\"boxes\":[\"-90 -180 90 180\"],\"time_start\":\"2000-02-18T00:00:00.000Z\",\"version_id\":\"061\",\"updated\":\"2015-09-30T10:47:59.761Z\",\"dataset_id\":\"MODIS/Terra Vegetation Indices 16-Day L3 Global 250m SIN Grid V061\",\"has_spatial_subsetting\":false,\"has_transforms\":false,\"has_variables\":false,\"data_center\":\"LPCLOUD\",\"short_name\":\"MOD13Q1\",\"organizations\":[\"LP DAAC\",\"NASA/GSFC/SED/ESD/TISL/MODAPS\"],\"title\":\"MODIS/Terra Vegetation Indices 16-Day L3 Global 250m SIN Grid V061\",\"coordinate_system\":\"CARTESIAN\",\"summary\":\"The Terra Moderate Resolution Imaging Spectroradiometer (MODIS) Vegetation Indices (MOD13Q1) Version 6.1 data are generated every 16 days at 250 meter (m) spatial resolution as a Level 3 product. The MOD13Q1 product provides two primary vegetation layers. The first is the Normalized Difference Vegetation Index (NDVI) which is referred to as the continuity index to the existing National Oceanic and Atmospheric Administration-Advanced Very High Resolution Radiometer (NOAA-AVHRR) derived NDVI. The second vegetation layer is the Enhanced Vegetation Index (EVI), which has improved sensitivity over high biomass regions. The algorithm chooses the best available pixel value from all the acquisitions from the 16 day period. The criteria used is low clouds, low view angle, and the highest NDVI/EVI value.\\\\n\\\\nAlong with the vegetation layers and the two quality layers, the HDF file will have MODIS reflectance bands 1 (red), 2 (near-infrared), 3 (blue), and 7 (mid-infrared), as well as four observation layers. \\\\n\\\\nValidation at stage 3 (https://landweb.modaps.eosdis.nasa.gov/cgi-bin/QA_WWW/newPage.cgi?fileName=maturity) has been achieved for all MOD13 vegetation products. Further details regarding product validation for the MOD13Q1 data product is available from the MODIS land team validation site (https://landval.gsfc.nasa.gov/ProductStatus.php?ProductID=MOD13).\\\\n\\\\nImprovements/Changes from Previous Versions\\\\n\\\\n* The Version 6.1 Level-1B (L1B) products have been improved by undergoing various calibration changes that include: changes to the response-versus-scan angle (RVS) approach that affects reflectance bands for Aqua and Terra MODIS, corrections to adjust for the optical crosstalk in Terra MODIS infrared (IR) bands, and corrections to the Terra MODIS forward look-up table (LUT) update for the period 2012 - 2017.\\\\n* A polarization correction has been applied to the L1B Reflective Solar Bands (RSB).\",\"service_features\":{\"opendap\":{\"has_formats\":false,\"has_variables\":false,\"has_transforms\":false,\"has_spatial_subsetting\":false,\"has_temporal_subsetting\":false},\"esi\":{\"has_formats\":false,\"has_variables\":false,\"has_transforms\":false,\"has_spatial_subsetting\":false,\"has_temporal_subsetting\":false},\"harmony\":{\"has_formats\":false,\"has_variables\":false,\"has_transforms\":false,\"has_spatial_subsetting\":false,\"has_temporal_subsetting\":false}},\"orbit_parameters\":{},\"id\":\"C1748066515-LPCLOUD\",\"has_formats\":false,\"consortiums\":[\"GEOSS\",\"EOSDIS\"],\"original_format\":\"UMM_JSON\",\"collection_data_type\":\"SCIENCE_QUALITY\",\"archive_center\":\"LP DAAC\",\"has_temporal_subsetting\":false,\"browse_flag\":true,\"platforms\":[\"Terra\"],\"online_access_flag\":true,\"links\":[{\"rel\":\"http://esipfed.org/ns/fedsearch/1.1/metadata#\",\"hreflang\":\"en-US\",\"href\":\"https://doi.org/10.5067/MODIS/MOD13Q1.061\"},{\"rel\":\"http://esipfed.org/ns/fedsearch/1.1/metadata#\",\"hreflang\":\"en-US\",\"href\":\"https://lpdaac.usgs.gov/\"},{\"rel\":\"http://esipfed.org/ns/fedsearch/1.1/data#\",\"hreflang\":\"en-US\",\"href\":\"https://e4ftl01.cr.usgs.gov/MOLT/MOD13Q1.061/\"},{\"rel\":\"http://esipfed.org/ns/fedsearch/1.1/data#\",\"hreflang\":\"en-US\",\"href\":\"https://search.earthdata.nasa.gov/search/granules?p=C1748066515-LPCLOUD\"},{\"rel\":\"http://esipfed.org/ns/fedsearch/1.1/data#\",\"hreflang\":\"en-US\",\"href\":\"https://appeears.earthdatacloud.nasa.gov/\"},{\"rel\":\"http://esipfed.org/ns/fedsearch/1.1/data#\",\"hreflang\":\"en-US\",\"href\":\"https://earthexplorer.usgs.gov/\"},{\"rel\":\"http://esipfed.org/ns/fedsearch/1.1/service#\",\"hreflang\":\"en-US\",\"href\":\"https://opendap.cr.usgs.gov/opendap/hyrax/MOD13Q1.061/contents.html\"},{\"rel\":\"http://esipfed.org/ns/fedsearch/1.1/documentation#\",\"hreflang\":\"en-US\",\"href\":\"https://lpdaac.usgs.gov/documents/104/MOD13_ATBD.pdf\"},{\"rel\":\"http://esipfed.org/ns/fedsearch/1.1/documentation#\",\"hreflang\":\"en-US\",\"href\":\"https://lpdaac.usgs.gov/documents/621/MOD13_User_Guide_V61.pdf\"},{\"rel\":\"http://esipfed.org/ns/fedsearch/1.1/documentation#\",\"hreflang\":\"en-US\",\"href\":\"https://ladsweb.modaps.eosdis.nasa.gov/filespec/MODIS/61/MOD13Q1\"},{\"rel\":\"http://esipfed.org/ns/fedsearch/1.1/documentation#\",\"hreflang\":\"en-US\",\"href\":\"https://modis-land.gsfc.nasa.gov/ValStatus.php?ProductID=MOD13Q1\"},{\"rel\":\"http://esipfed.org/ns/fedsearch/1.1/documentation#\",\"hreflang\":\"en-US\",\"href\":\"https://modis-land.gsfc.nasa.gov/MODLAND_val.html\"},{\"rel\":\"http://esipfed.org/ns/fedsearch/1.1/documentation#\",\"hreflang\":\"en-US\",\"href\":\"https://landweb.modaps.eosdis.nasa.gov/cgi-bin/QA_WWW/qaFlagPage.cgi?sat=terra&ver=C6\"},{\"rel\":\"http://esipfed.org/ns/fedsearch/1.1/browse#\",\"hreflang\":\"en-US\",\"href\":\"https://cmr.earthdata.nasa.gov/browse-scaler/browse_images/granules/G2346280125-LPCLOUD?h=500&w=500\"}]},{\"processing_level_id\":\"2G\",\"cloud_hosted\":true,\"boxes\":[\"-90 -180 90 180\"],\"time_start\":\"2000-02-24T00:00:00.000Z\",\"version_id\":\"061\",\"updated\":\"2015-09-30T10:47:32.717Z\",\"dataset_id\":\"MODIS/Terra Surface Reflectance Daily L2G Global 1km and 500m SIN Grid V061\",\"has_spatial_subsetting\":false,\"has_transforms\":false,\"has_variables\":false,\"data_center\":\"LPCLOUD\",\"short_name\":\"MOD09GA\",\"organizations\":[\"LP DAAC\",\"NASA/GSFC/SED/ESD/TISL/MODAPS\"],\"title\":\"MODIS/Terra Surface Reflectance Daily L2G Global 1km and 500m SIN Grid V061\",\"coordinate_system\":\"CARTESIAN\",\"summary\":\"The MOD09GA Version 6.1 product provides an estimate of the surface spectral reflectance of Terra Moderate Resolution Imaging Spectroradiometer (MODIS) Bands 1 through 7, corrected for atmospheric conditions such as gasses, aerosols, and Rayleigh scattering. Provided along with the 500 meter (m) surface reflectance, observation, and quality bands are a set of ten 1 kilometer (km) observation bands and geolocation flags. The reflectance layers from the MOD09GA are used as the source data for many of the MODIS land products. \\\\n\\\\nValidation at stage 3 (https://modis-land.gsfc.nasa.gov/MODLAND_val.html) has been achieved for the MODIS Surface Reflectance products. Further details regarding MODIS land product validation for the MOD09 data product is available from the MODIS Land Team Validation site (https://modis-land.gsfc.nasa.gov/ValStatus.php?ProductID=MOD09).\\\\n\\\\n Improvements/Changes from Previous Versions\\\\n\\\\n* The Version 6.1 Level-1B (L1B) products have been improved by undergoing various calibration changes that include: changes to the response-versus-scan angle (RVS) approach that affects reflectance bands for Aqua and Terra MODIS, corrections to adjust for the optical crosstalk in Terra MODIS infrared (IR) bands, and corrections to the Terra MODIS forward look-up table (LUT) update for the period 2012 - 2017.\\\\n* A polarization correction has been applied to the L1B Reflective Solar Bands (RSB).\\\\n\\\\n\",\"service_features\":{\"opendap\":{\"has_formats\":false,\"has_variables\":false,\"has_transforms\":false,\"has_spatial_subsetting\":false,\"has_temporal_subsetting\":false},\"esi\":{\"has_formats\":false,\"has_variables\":false,\"has_transforms\":false,\"has_spatial_subsetting\":false,\"has_temporal_subsetting\":false},\"harmony\":{\"has_formats\":false,\"has_variables\":false,\"has_transforms\":false,\"has_spatial_subsetting\":false,\"has_temporal_subsetting\":false}},\"orbit_parameters\":{},\"id\":\"C2202497474-LPCLOUD\",\"has_formats\":false,\"consortiums\":[\"GEOSS\",\"EOSDIS\"],\"original_format\":\"UMM_JSON\",\"collection_data_type\":\"SCIENCE_QUALITY\",\"archive_center\":\"LP DAAC\",\"has_temporal_subsetting\":false,\"browse_flag\":true,\"platforms\":[\"Terra\"],\"online_access_flag\":true,\"links\":[{\"rel\":\"http://esipfed.org/ns/fedsearch/1.1/metadata#\",\"hreflang\":\"en-US\",\"href\":\"https://doi.org/10.5067/MODIS/MOD09GA.061\"},{\"rel\":\"http://esipfed.org/ns/fedsearch/1.1/metadata#\",\"hreflang\":\"en-US\",\"href\":\"https://lpdaac.usgs.gov/\"},{\"rel\":\"http://esipfed.org/ns/fedsearch/1.1/data#\",\"hreflang\":\"en-US\",\"href\":\"https://e4ftl01.cr.usgs.gov/MOLT/MOD09GA.061/\"},{\"rel\":\"http://esipfed.org/ns/fedsearch/1.1/data#\",\"hreflang\":\"en-US\",\"href\":\"https://search.earthdata.nasa.gov/search/granules?p=C2202497474-LPCLOUD\"},{\"rel\":\"http://esipfed.org/ns/fedsearch/1.1/data#\",\"hreflang\":\"en-US\",\"href\":\"https://appeears.earthdatacloud.nasa.gov/\"},{\"rel\":\"http://esipfed.org/ns/fedsearch/1.1/data#\",\"hreflang\":\"en-US\",\"href\":\"https://earthexplorer.usgs.gov/\"},{\"rel\":\"http://esipfed.org/ns/fedsearch/1.1/service#\",\"hreflang\":\"en-US\",\"href\":\"https://opendap.cr.usgs.gov/opendap/hyrax/MOD09GA.061/contents.html\"},{\"rel\":\"http://esipfed.org/ns/fedsearch/1.1/documentation#\",\"hreflang\":\"en-US\",\"href\":\"https://lpdaac.usgs.gov/documents/305/MOD09_ATBD.pdf\"},{\"rel\":\"http://esipfed.org/ns/fedsearch/1.1/documentation#\",\"hreflang\":\"en-US\",\"href\":\"https://lpdaac.usgs.gov/documents/925/MOD09_User_Guide_V61.pdf\"},{\"rel\":\"http://esipfed.org/ns/fedsearch/1.1/documentation#\",\"hreflang\":\"en-US\",\"href\":\"https://ladsweb.modaps.eosdis.nasa.gov/filespec/MODIS/61/MOD09GA\"},{\"rel\":\"http://esipfed.org/ns/fedsearch/1.1/documentation#\",\"hreflang\":\"en-US\",\"href\":\"https://modis-land.gsfc.nasa.gov/ValStatus.php?ProductID=MOD09\"},{\"rel\":\"http://esipfed.org/ns/fedsearch/1.1/documentation#\",\"hreflang\":\"en-US\",\"href\":\"https://modis-land.gsfc.nasa.gov/MODLAND_val.html\"},{\"rel\":\"http://esipfed.org/ns/fedsearch/1.1/documentation#\",\"hreflang\":\"en-US\",\"href\":\"https://landweb.modaps.eosdis.nasa.gov/cgi-bin/QA_WWW/qaFlagPage.cgi?sat=terra&ver=C6\"},{\"rel\":\"http://esipfed.org/ns/fedsearch/1.1/browse#\",\"hreflang\":\"en-US\",\"href\":\"https://cmr.earthdata.nasa.gov/browse-scaler/browse_images/granules/G2358429497-LPCLOUD?h=500&w=500\"}]},{\"processing_level_id\":\"2G\",\"cloud_hosted\":true,\"boxes\":[\"-90 -180 90 180\"],\"time_start\":\"2000-02-24T00:00:00.000Z\",\"version_id\":\"061\",\"updated\":\"2016-03-21T09:32:15.906Z\",\"dataset_id\":\"MODIS/Terra Surface Reflectance Daily L2G Global 250m SIN Grid V061\",\"has_spatial_subsetting\":false,\"has_transforms\":false,\"has_variables\":false,\"data_center\":\"LPCLOUD\",\"short_name\":\"MOD09GQ\",\"organizations\":[\"LP DAAC\",\"NASA/GSFC/SED/ESD/TISL/MODAPS\"],\"title\":\"MODIS/Terra Surface Reflectance Daily L2G Global 250m SIN Grid V061\",\"coordinate_system\":\"CARTESIAN\",\"summary\":\"The MOD09GQ Version 6.1 product provides an estimate of the surface spectral reflectance of Terra Moderate Resolution Imaging Spectroradiometer (MODIS) 250 meter (m) bands 1 and 2, corrected for atmospheric conditions such as gasses, aerosols, and Rayleigh scattering. Along with the 250 m surface reflectance bands are the Quality Assurance (QA) layer and five observation layers. This product is intended to be used in conjunction with the quality and viewing geometry information of the 500 m product (MOD09GA). \\\\n\\\\nValidation at stage 3 (https://modis-land.gsfc.nasa.gov/MODLAND_val.html) has been achieved for the MODIS Surface Reflectance products. Further details regarding MODIS land product validation for the MOD09 data product is available from the MODIS Land Team Validation site (https://modis-land.gsfc.nasa.gov/ValStatus.php?ProductID=MOD09).\\\\n\\\\nImprovements/Changes from Previous Versions\\\\n\\\\n* The Version 6.1 Level-1B (L1B) products have been improved by undergoing various calibration changes that include: changes to the response-versus-scan angle (RVS) approach that affects reflectance bands for Aqua and Terra MODIS, corrections to adjust for the optical crosstalk in Terra MODIS infrared (IR) bands, and corrections to the Terra MODIS forward look-up table (LUT) update for the period 2012 - 2017.\\\\n* A polarization correction has been applied to the L1B Reflective Solar Bands (RSB).\",\"service_features\":{\"opendap\":{\"has_formats\":false,\"has_variables\":false,\"has_transforms\":false,\"has_spatial_subsetting\":false,\"has_temporal_subsetting\":false},\"esi\":{\"has_formats\":false,\"has_variables\":false,\"has_transforms\":false,\"has_spatial_subsetting\":false,\"has_temporal_subsetting\":false},\"harmony\":{\"has_formats\":false,\"has_variables\":false,\"has_transforms\":false,\"has_spatial_subsetting\":false,\"has_temporal_subsetting\":false}},\"orbit_parameters\":{},\"id\":\"C2343115666-LPCLOUD\",\"has_formats\":false,\"consortiums\":[\"GEOSS\",\"EOSDIS\"],\"original_format\":\"UMM_JSON\",\"collection_data_type\":\"SCIENCE_QUALITY\",\"archive_center\":\"LP DAAC\",\"has_temporal_subsetting\":false,\"browse_flag\":true,\"platforms\":[\"Terra\"],\"online_access_flag\":true,\"links\":[{\"rel\":\"http://esipfed.org/ns/fedsearch/1.1/data#\",\"hreflang\":\"en-US\",\"href\":\"https://e4ftl01.cr.usgs.gov/MOLT/MOD09GQ.061/\"},{\"rel\":\"http://esipfed.org/ns/fedsearch/1.1/data#\",\"hreflang\":\"en-US\",\"href\":\"https://search.earthdata.nasa.gov/search?q=C2343115666-LPCLOUD\"},{\"rel\":\"http://esipfed.org/ns/fedsearch/1.1/data#\",\"hreflang\":\"en-US\",\"href\":\"https://earthexplorer.usgs.gov/\"},{\"rel\":\"http://esipfed.org/ns/fedsearch/1.1/data#\",\"hreflang\":\"en-US\",\"href\":\"https://appeears.earthdatacloud.nasa.gov/\"},{\"rel\":\"http://esipfed.org/ns/fedsearch/1.1/metadata#\",\"hreflang\":\"en-US\",\"href\":\"https://doi.org/10.5067/MODIS/MOD09GQ.061\"},{\"rel\":\"http://esipfed.org/ns/fedsearch/1.1/metadata#\",\"hreflang\":\"en-US\",\"href\":\"https://lpdaac.usgs.gov/\"},{\"rel\":\"http://esipfed.org/ns/fedsearch/1.1/documentation#\",\"hreflang\":\"en-US\",\"href\":\"https://lpdaac.usgs.gov/documents/925/MOD09_User_Guide_V61.pdf\"},{\"rel\":\"http://esipfed.org/ns/fedsearch/1.1/documentation#\",\"hreflang\":\"en-US\",\"href\":\"https://lpdaac.usgs.gov/documents/305/MOD09_ATBD.pdf\"},{\"rel\":\"http://esipfed.org/ns/fedsearch/1.1/documentation#\",\"hreflang\":\"en-US\",\"href\":\"https://ladsweb.modaps.eosdis.nasa.gov/filespec/MODIS/61/MOD09GQ\"},{\"rel\":\"http://esipfed.org/ns/fedsearch/1.1/documentation#\",\"hreflang\":\"en-US\",\"href\":\"https://modis-land.gsfc.nasa.gov/MODLAND_val.html\"},{\"rel\":\"http://esipfed.org/ns/fedsearch/1.1/documentation#\",\"hreflang\":\"en-US\",\"href\":\"https://modis-land.gsfc.nasa.gov/ValStatus.php?ProductID=MOD09\"},{\"rel\":\"http://esipfed.org/ns/fedsearch/1.1/service#\",\"hreflang\":\"en-US\",\"href\":\"https://opendap.cr.usgs.gov/opendap/hyrax/DP124/MOLT/MOD09GQ.061/contents.html\"},{\"rel\":\"http://esipfed.org/ns/fedsearch/1.1/browse#\",\"hreflang\":\"en-US\",\"href\":\"https://cmr.earthdata.nasa.gov/browse-scaler/browse_images/granules/G2509506318-LPCLOUD?h=85&w=85\"}]},{\"processing_level_id\":\"3\",\"cloud_hosted\":true,\"boxes\":[\"-90 -180 90 180\"],\"time_start\":\"2000-02-24T00:00:00.000Z\",\"version_id\":\"061\",\"updated\":\"2015-09-30T10:47:37.333Z\",\"dataset_id\":\"MODIS/Terra Land Surface Temperature/Emissivity Daily L3 Global 1km SIN Grid V061\",\"has_spatial_subsetting\":false,\"has_transforms\":false,\"has_variables\":false,\"data_center\":\"LPCLOUD\",\"short_name\":\"MOD11A1\",\"organizations\":[\"LP DAAC\",\"NASA/GSFC/SED/ESD/TISL/MODAPS\"],\"title\":\"MODIS/Terra Land Surface Temperature/Emissivity Daily L3 Global 1km SIN Grid V061\",\"coordinate_system\":\"CARTESIAN\",\"summary\":\"The MOD11A1 Version 6.1 product provides daily per-pixel Land Surface Temperature and Emissivity (LST&E) with 1 kilometer (km) spatial resolution in a 1,200 by 1,200 km grid. The pixel temperature value is derived from the MOD11_L2 (https://doi.org/10.5067/MODIS/MOD11_L2.006) swath product. Above 30 degrees latitude, some pixels may have multiple observations where the criteria for clear-sky are met. When this occurs, the pixel value is a result of the average of all qualifying observations. Provided along with the daytime and nighttime surface temperature bands are associated quality control assessments, observation times, view zenith angles, and clear-sky coverages along with bands 31 and 32 emissivities from land cover types. Validation at stage 2 (https://modis-land.gsfc.nasa.gov/MODLAND_val.html) has been achieved for all MODIS Land Surface Temperature and Emissivity products. Further details regarding MODIS land product validation for the MOD11 data products are available from the MODIS Land Team Validation site (https://modis-land.gsfc.nasa.gov/ValStatus.php?ProductID=MOD11). Improvements/Changes from Previous Versions * The Version 6.1 Level-1B (L1B) products have been improved by undergoing various calibration changes that include: changes to the response-versus-scan angle (RVS) approach that affects reflectance bands for Aqua and Terra MODIS, corrections to adjust for the optical crosstalk in Terra MODIS infrared (IR) bands, and corrections to the Terra MODIS forward look-up table (LUT) update for the period 2012 - 2017. * A polarization correction has been applied to the L1B Reflective Solar Bands (RSB). \",\"service_features\":{\"opendap\":{\"has_formats\":false,\"has_variables\":false,\"has_transforms\":false,\"has_spatial_subsetting\":false,\"has_temporal_subsetting\":false},\"esi\":{\"has_formats\":false,\"has_variables\":false,\"has_transforms\":false,\"has_spatial_subsetting\":false,\"has_temporal_subsetting\":false},\"harmony\":{\"has_formats\":false,\"has_variables\":false,\"has_transforms\":false,\"has_spatial_subsetting\":false,\"has_temporal_subsetting\":false}},\"orbit_parameters\":{},\"id\":\"C1748058432-LPCLOUD\",\"has_formats\":false,\"consortiums\":[\"GEOSS\",\"EOSDIS\"],\"original_format\":\"UMM_JSON\",\"collection_data_type\":\"SCIENCE_QUALITY\",\"archive_center\":\"LP DAAC\",\"has_temporal_subsetting\":false,\"browse_flag\":true,\"platforms\":[\"Terra\"],\"online_access_flag\":true,\"links\":[{\"rel\":\"http://esipfed.org/ns/fedsearch/1.1/metadata#\",\"hreflang\":\"en-US\",\"href\":\"https://doi.org/10.5067/MODIS/MOD11A1.061\"},{\"rel\":\"http://esipfed.org/ns/fedsearch/1.1/metadata#\",\"hreflang\":\"en-US\",\"href\":\"https://lpdaac.usgs.gov/\"},{\"rel\":\"http://esipfed.org/ns/fedsearch/1.1/data#\",\"hreflang\":\"en-US\",\"href\":\"https://e4ftl01.cr.usgs.gov/MOLT/MOD11A1.061/\"},{\"rel\":\"http://esipfed.org/ns/fedsearch/1.1/data#\",\"hreflang\":\"en-US\",\"href\":\"https://search.earthdata.nasa.gov/search/granules?p=C1748058432-LPCLOUD\"},{\"rel\":\"http://esipfed.org/ns/fedsearch/1.1/data#\",\"hreflang\":\"en-US\",\"href\":\"https://appeears.earthdatacloud.nasa.gov/\"},{\"rel\":\"http://esipfed.org/ns/fedsearch/1.1/data#\",\"hreflang\":\"en-US\",\"href\":\"https://earthexplorer.usgs.gov/\"},{\"rel\":\"http://esipfed.org/ns/fedsearch/1.1/service#\",\"hreflang\":\"en-US\",\"href\":\"https://opendap.cr.usgs.gov/opendap/hyrax/DP128/MOLT/MOD11A1.061/contents.html\"},{\"rel\":\"http://esipfed.org/ns/fedsearch/1.1/documentation#\",\"hreflang\":\"en-US\",\"href\":\"https://lpdaac.usgs.gov/documents/119/MOD11_ATBD.pdf\"},{\"rel\":\"http://esipfed.org/ns/fedsearch/1.1/documentation#\",\"hreflang\":\"en-US\",\"href\":\"https://lpdaac.usgs.gov/documents/715/MOD11_User_Guide_V61.pdf\"},{\"rel\":\"http://esipfed.org/ns/fedsearch/1.1/documentation#\",\"hreflang\":\"en-US\",\"href\":\"https://ladsweb.modaps.eosdis.nasa.gov/filespec/MODIS/61/MOD11A1\"},{\"rel\":\"http://esipfed.org/ns/fedsearch/1.1/documentation#\",\"hreflang\":\"en-US\",\"href\":\"https://modis-land.gsfc.nasa.gov/ValStatus.php?ProductID=MOD11\"},{\"rel\":\"http://esipfed.org/ns/fedsearch/1.1/documentation#\",\"hreflang\":\"en-US\",\"href\":\"https://modis-land.gsfc.nasa.gov/MODLAND_val.html\"},{\"rel\":\"http://esipfed.org/ns/fedsearch/1.1/documentation#\",\"hreflang\":\"en-US\",\"href\":\"https://landweb.modaps.eosdis.nasa.gov/cgi-bin/QA_WWW/qaFlagPage.cgi?sat=terra&ver=C6\"},{\"rel\":\"http://esipfed.org/ns/fedsearch/1.1/browse#\",\"hreflang\":\"en-US\",\"href\":\"https://cmr.earthdata.nasa.gov/browse-scaler/browse_images/granules/G2357124367-LPCLOUD?h=500&w=500\"}]},{\"processing_level_id\":\"2G\",\"cloud_hosted\":true,\"boxes\":[\"-90 -180 90 180\"],\"time_start\":\"2002-07-04T00:00:00.000Z\",\"version_id\":\"061\",\"updated\":\"2015-09-30T10:48:18.602Z\",\"dataset_id\":\"MODIS/Aqua Surface Reflectance Daily L2G Global 1km and 500m SIN Grid V061\",\"has_spatial_subsetting\":false,\"has_transforms\":false,\"has_variables\":false,\"data_center\":\"LPCLOUD\",\"short_name\":\"MYD09GA\",\"organizations\":[\"LP DAAC\",\"NASA/GSFC/SED/ESD/TISL/MODAPS\"],\"title\":\"MODIS/Aqua Surface Reflectance Daily L2G Global 1km and 500m SIN Grid V061\",\"coordinate_system\":\"CARTESIAN\",\"summary\":\"The MYD09GA Version 6.1 product provides an estimate of the surface spectral reflectance of Aqua Moderate Resolution Imaging Spectroradiometer (MODIS) Bands 1 through 7, corrected for atmospheric conditions such as gasses, aerosols, and Rayleigh scattering. Provided along with the 500 meter (m) surface reflectance, observation, and quality bands are a set of ten 1 km observation bands and geolocation flags. The reflectance layers from the MYD09GA are used as the source data for many of the MODIS land products. \\\\n\\\\nValidation at stage 3 (https://modis-land.gsfc.nasa.gov/MODLAND_val.html) has been achieved for the MODIS Surface Reflectance products. Further details regarding MODIS land product validation for the MYD09 data product is available from the MODIS Land Team Validation site (https://modis-land.gsfc.nasa.gov/ValStatus.php?ProductID=MOD09).\\\\n\\\\nImprovements/Changes from Previous Versions\\\\n\\\\n* The Version 6.1 Level-1B (L1B) products have been improved by undergoing various calibration changes that include: changes to the response-versus-scan angle (RVS) approach that affects reflectance bands for Aqua and Terra MODIS, corrections to adjust for the optical crosstalk in Terra MODIS infrared (IR) bands, and corrections to the Terra MODIS forward look-up table (LUT) update for the period 2012 - 2017.\\\\n* A polarization correction has been applied to the L1B Reflective Solar Bands (RSB).\",\"service_features\":{\"opendap\":{\"has_formats\":false,\"has_variables\":false,\"has_transforms\":false,\"has_spatial_subsetting\":false,\"has_temporal_subsetting\":false},\"esi\":{\"has_formats\":false,\"has_variables\":false,\"has_transforms\":false,\"has_spatial_subsetting\":false,\"has_temporal_subsetting\":false},\"harmony\":{\"has_formats\":false,\"has_variables\":false,\"has_transforms\":false,\"has_spatial_subsetting\":false,\"has_temporal_subsetting\":false}},\"orbit_parameters\":{},\"id\":\"C2202498116-LPCLOUD\",\"has_formats\":false,\"consortiums\":[\"GEOSS\",\"EOSDIS\"],\"original_format\":\"UMM_JSON\",\"collection_data_type\":\"SCIENCE_QUALITY\",\"archive_center\":\"LP DAAC\",\"has_temporal_subsetting\":false,\"browse_flag\":true,\"platforms\":[\"Aqua\"],\"online_access_flag\":true,\"links\":[{\"rel\":\"http://esipfed.org/ns/fedsearch/1.1/metadata#\",\"hreflang\":\"en-US\",\"href\":\"https://doi.org/10.5067/MODIS/MYD09GA.061\"},{\"rel\":\"http://esipfed.org/ns/fedsearch/1.1/metadata#\",\"hreflang\":\"en-US\",\"href\":\"https://lpdaac.usgs.gov/\"},{\"rel\":\"http://esipfed.org/ns/fedsearch/1.1/data#\",\"hreflang\":\"en-US\",\"href\":\"https://e4ftl01.cr.usgs.gov/MOLA/MYD09GA.061/\"},{\"rel\":\"http://esipfed.org/ns/fedsearch/1.1/data#\",\"hreflang\":\"en-US\",\"href\":\"https://search.earthdata.nasa.gov/search/granules?p=C2202498116-LPCLOUD\"},{\"rel\":\"http://esipfed.org/ns/fedsearch/1.1/data#\",\"hreflang\":\"en-US\",\"href\":\"https://appeears.earthdatacloud.nasa.gov/\"},{\"rel\":\"http://esipfed.org/ns/fedsearch/1.1/data#\",\"hreflang\":\"en-US\",\"href\":\"https://earthexplorer.usgs.gov/\"},{\"rel\":\"http://esipfed.org/ns/fedsearch/1.1/service#\",\"hreflang\":\"en-US\",\"href\":\"https://opendap.cr.usgs.gov/opendap/hyrax/MYD09GA.061/contents.html\"},{\"rel\":\"http://esipfed.org/ns/fedsearch/1.1/documentation#\",\"hreflang\":\"en-US\",\"href\":\"https://lpdaac.usgs.gov/documents/305/MOD09_ATBD.pdf\"},{\"rel\":\"http://esipfed.org/ns/fedsearch/1.1/documentation#\",\"hreflang\":\"en-US\",\"href\":\"https://lpdaac.usgs.gov/documents/925/MOD09_User_Guide_V61.pdf\"},{\"rel\":\"http://esipfed.org/ns/fedsearch/1.1/documentation#\",\"hreflang\":\"en-US\",\"href\":\"https://ladsweb.modaps.eosdis.nasa.gov/filespec/MODIS/61/MYD09GA\"},{\"rel\":\"http://esipfed.org/ns/fedsearch/1.1/documentation#\",\"hreflang\":\"en-US\",\"href\":\"https://modis-land.gsfc.nasa.gov/ValStatus.php?ProductID=MYD09\"},{\"rel\":\"http://esipfed.org/ns/fedsearch/1.1/documentation#\",\"hreflang\":\"en-US\",\"href\":\"https://modis-land.gsfc.nasa.gov/MODLAND_val.html\"},{\"rel\":\"http://esipfed.org/ns/fedsearch/1.1/documentation#\",\"hreflang\":\"en-US\",\"href\":\"https://landweb.modaps.eosdis.nasa.gov/cgi-bin/QA_WWW/qaFlagPage.cgi?sat=aqua&ver=C6\"},{\"rel\":\"http://esipfed.org/ns/fedsearch/1.1/browse#\",\"hreflang\":\"en-US\",\"href\":\"https://cmr.earthdata.nasa.gov/browse-scaler/browse_images/granules/G2358467881-LPCLOUD?h=00&w=500\"}]},{\"processing_level_id\":\"2G\",\"cloud_hosted\":true,\"boxes\":[\"-90 -180 90 180\"],\"time_start\":\"2002-07-04T00:00:00.000Z\",\"version_id\":\"061\",\"updated\":\"2015-09-30T10:48:19.848Z\",\"dataset_id\":\"MODIS/Aqua Surface Reflectance Daily L2G Global 250m SIN Grid V061\",\"has_spatial_subsetting\":false,\"has_transforms\":false,\"has_variables\":false,\"data_center\":\"LPCLOUD\",\"short_name\":\"MYD09GQ\",\"organizations\":[\"LP DAAC\",\"NASA/GSFC/SED/ESD/TISL/MODAPS\"],\"title\":\"MODIS/Aqua Surface Reflectance Daily L2G Global 250m SIN Grid V061\",\"coordinate_system\":\"CARTESIAN\",\"summary\":\"The MYD09GQ Version 6.1 product provides an estimate of the surface spectral reflectance of Aqua Moderate Resolution Imaging Spectroradiometer (MODIS) 250 meter (m) bands 1 and 2, corrected for atmospheric conditions such as gasses, aerosols, and Rayleigh scattering. Along with the 250 m bands are the Quality Assurance (QA) layer and five observation layers. This product is intended to be used in conjunction with the quality and viewing geometry information of the 500 m product (MYD09GA). \\\\r\\\\n\\\\r\\\\nValidation at stage 3 (https://modis-land.gsfc.nasa.gov/MODLAND_val.html) has been achieved for the MODIS Surface Reflectance products. Further details regarding MODIS land product validation for the MYD09 data product is available from the MODIS Land Team Validation site (https://modis-land.gsfc.nasa.gov/ValStatus.php?ProductID=MOD09).\\\\r\\\\n\\\\r\\\\nImprovements/Changes from Previous Versions\\\\r\\\\n\\\\r\\\\n* The Version 6.1 Level-1B (L1B) products have been improved by undergoing various calibration changes that include: changes to the response-versus-scan angle (RVS) approach that affects reflectance bands for Aqua and Terra MODIS, corrections to adjust for the optical crosstalk in Terra MODIS infrared (IR) bands, and corrections to the Terra MODIS forward look-up table (LUT) update for the period 2012 - 2017.\\\\r\\\\n* A polarization correction has been applied to the L1B Reflective Solar Bands (RSB).\",\"service_features\":{\"opendap\":{\"has_formats\":false,\"has_variables\":false,\"has_transforms\":false,\"has_spatial_subsetting\":false,\"has_temporal_subsetting\":false},\"esi\":{\"has_formats\":false,\"has_variables\":false,\"has_transforms\":false,\"has_spatial_subsetting\":false,\"has_temporal_subsetting\":false},\"harmony\":{\"has_formats\":false,\"has_variables\":false,\"has_transforms\":false,\"has_spatial_subsetting\":false,\"has_temporal_subsetting\":false}},\"orbit_parameters\":{},\"id\":\"C2343109950-LPCLOUD\",\"has_formats\":false,\"consortiums\":[\"GEOSS\",\"EOSDIS\"],\"original_format\":\"UMM_JSON\",\"collection_data_type\":\"SCIENCE_QUALITY\",\"archive_center\":\"LP DAAC\",\"has_temporal_subsetting\":false,\"browse_flag\":true,\"platforms\":[\"Aqua\"],\"online_access_flag\":true,\"links\":[{\"rel\":\"http://esipfed.org/ns/fedsearch/1.1/metadata#\",\"hreflang\":\"en-US\",\"href\":\"https://doi.org/10.5067/MODIS/MYD09GQ.061\"},{\"rel\":\"http://esipfed.org/ns/fedsearch/1.1/metadata#\",\"hreflang\":\"en-US\",\"href\":\"https://lpdaac.usgs.gov/\"},{\"rel\":\"http://esipfed.org/ns/fedsearch/1.1/data#\",\"hreflang\":\"en-US\",\"href\":\"https://e4ftl01.cr.usgs.gov/MOLA/MYD09GQ.061/\"},{\"rel\":\"http://esipfed.org/ns/fedsearch/1.1/data#\",\"hreflang\":\"en-US\",\"href\":\"https://search.earthdata.nasa.gov/search/granules?p=C2343109950-LPCLOUD\"},{\"rel\":\"http://esipfed.org/ns/fedsearch/1.1/data#\",\"hreflang\":\"en-US\",\"href\":\"https://appeears.earthdatacloud.nasa.gov/\"},{\"rel\":\"http://esipfed.org/ns/fedsearch/1.1/data#\",\"hreflang\":\"en-US\",\"href\":\"https://earthexplorer.usgs.gov/\"},{\"rel\":\"http://esipfed.org/ns/fedsearch/1.1/service#\",\"hreflang\":\"en-US\",\"href\":\"https://opendap.cr.usgs.gov/opendap/hyrax/MYD09GQ.061/contents.html\"},{\"rel\":\"http://esipfed.org/ns/fedsearch/1.1/documentation#\",\"hreflang\":\"en-US\",\"href\":\"https://lpdaac.usgs.gov/documents/305/MOD09_ATBD.pdf\"},{\"rel\":\"http://esipfed.org/ns/fedsearch/1.1/documentation#\",\"hreflang\":\"en-US\",\"href\":\"https://lpdaac.usgs.gov/documents/925/MOD09_User_Guide_V61.pdf\"},{\"rel\":\"http://esipfed.org/ns/fedsearch/1.1/documentation#\",\"hreflang\":\"en-US\",\"href\":\"https://ladsweb.modaps.eosdis.nasa.gov/filespec/MODIS/61/MYD09GQ\"},{\"rel\":\"http://esipfed.org/ns/fedsearch/1.1/documentation#\",\"hreflang\":\"en-US\",\"href\":\"https://modis-land.gsfc.nasa.gov/ValStatus.php?ProductID=MYD09\"},{\"rel\":\"http://esipfed.org/ns/fedsearch/1.1/documentation#\",\"hreflang\":\"en-US\",\"href\":\"https://modis-land.gsfc.nasa.gov/MODLAND_val.html\"},{\"rel\":\"http://esipfed.org/ns/fedsearch/1.1/documentation#\",\"hreflang\":\"en-US\",\"href\":\"https://landweb.modaps.eosdis.nasa.gov/cgi-bin/QA_WWW/qaFlagPage.cgi?sat=aqua&ver=C6\"},{\"rel\":\"http://esipfed.org/ns/fedsearch/1.1/browse#\",\"hreflang\":\"en-US\",\"href\":\"https://cmr.earthdata.nasa.gov/browse-scaler/browse_images/granules/G2359475509-LPCLOUD?h=500&w=500\"}]}]}}'"
      ]
     },
     "execution_count": 13,
     "metadata": {},
     "output_type": "execute_result"
    }
   ],
   "source": [
    "response.content"
   ]
  },
  {
   "attachments": {},
   "cell_type": "markdown",
   "id": "introductory-manor",
   "metadata": {},
   "source": [
    "A more convenient way to work with this information is to use `json` formatted data. I'm using pretty print `pprint` to print the data in an easy to read way.    \n",
    "\n",
    "**Note**\n",
    "- `response.json()` will format our response in `json` \n",
    "- `['feed']['entry']` returns all entries that CMR returned in the request (not the same as __CMR-Hits__)\n",
    "- `[0]` returns the first entry. Reminder that python starts indexing at 0, not 1!"
   ]
  },
  {
   "cell_type": "code",
   "execution_count": 14,
   "id": "frequent-tucson",
   "metadata": {},
   "outputs": [
    {
     "name": "stdout",
     "output_type": "stream",
     "text": [
      "{'archive_center': 'LP DAAC',\n",
      " 'association_details': {'tools': [{'concept_id': 'TL1860232272-LPDAAC_ECS'}]},\n",
      " 'associations': {'tools': ['TL1860232272-LPDAAC_ECS']},\n",
      " 'boxes': ['-90 -180 90 180'],\n",
      " 'browse_flag': True,\n",
      " 'cloud_hosted': True,\n",
      " 'collection_data_type': 'SCIENCE_QUALITY',\n",
      " 'consortiums': ['GEOSS', 'EOSDIS'],\n",
      " 'coordinate_system': 'CARTESIAN',\n",
      " 'data_center': 'LPCLOUD',\n",
      " 'dataset_id': 'HLS Landsat Operational Land Imager Surface Reflectance and '\n",
      "               'TOA Brightness Daily Global 30m v2.0',\n",
      " 'has_formats': False,\n",
      " 'has_spatial_subsetting': False,\n",
      " 'has_temporal_subsetting': False,\n",
      " 'has_transforms': False,\n",
      " 'has_variables': False,\n",
      " 'id': 'C2021957657-LPCLOUD',\n",
      " 'links': [{'href': 'https://search.earthdata.nasa.gov/search?q=C2021957657-LPCLOUD',\n",
      "            'hreflang': 'en-US',\n",
      "            'rel': 'http://esipfed.org/ns/fedsearch/1.1/data#'},\n",
      "           {'href': 'https://doi.org/10.5067/HLS/HLSL30.002',\n",
      "            'hreflang': 'en-US',\n",
      "            'rel': 'http://esipfed.org/ns/fedsearch/1.1/metadata#'},\n",
      "           {'href': 'https://lpdaac.usgs.gov/',\n",
      "            'hreflang': 'en-US',\n",
      "            'rel': 'http://esipfed.org/ns/fedsearch/1.1/metadata#'},\n",
      "           {'href': 'https://lpdaac.usgs.gov/documents/1326/HLS_User_Guide_V2.pdf',\n",
      "            'hreflang': 'en-US',\n",
      "            'rel': 'http://esipfed.org/ns/fedsearch/1.1/documentation#'},\n",
      "           {'href': 'https://lpdaac.usgs.gov/documents/769/HLS_ATBD_V15_provisional.pdf',\n",
      "            'hreflang': 'en-US',\n",
      "            'rel': 'http://esipfed.org/ns/fedsearch/1.1/documentation#'},\n",
      "           {'href': 'https://lpdaac.usgs.gov/documents/1117/HLS_Quick_Guide_v02.pdf',\n",
      "            'hreflang': 'en-US',\n",
      "            'rel': 'http://esipfed.org/ns/fedsearch/1.1/documentation#'},\n",
      "           {'href': 'https://git.earthdata.nasa.gov/projects/LPDUR/repos/hls-tutorial/browse',\n",
      "            'hreflang': 'en-US',\n",
      "            'rel': 'http://esipfed.org/ns/fedsearch/1.1/documentation#'},\n",
      "           {'href': 'https://git.earthdata.nasa.gov/projects/LPDUR/repos/hls-super-script/browse',\n",
      "            'hreflang': 'en-US',\n",
      "            'rel': 'http://esipfed.org/ns/fedsearch/1.1/documentation#'},\n",
      "           {'href': 'https://cmr.earthdata.nasa.gov/browse-scaler/browse_images/granules/G2095313663-LPCLOUD?h=512&w=512',\n",
      "            'hreflang': 'en-US',\n",
      "            'rel': 'http://esipfed.org/ns/fedsearch/1.1/browse#'},\n",
      "           {'href': 'https://git.earthdata.nasa.gov/projects/LPDUR/repos/hls-bulk-download/browse',\n",
      "            'hreflang': 'en-US',\n",
      "            'rel': 'http://esipfed.org/ns/fedsearch/1.1/documentation#'},\n",
      "           {'href': 'https://lpdaac.usgs.gov/resources/e-learning/getting-started-with-cloud-native-harmonized-landsat-sentinel-2-hls-data-in-r/',\n",
      "            'hreflang': 'en-US',\n",
      "            'rel': 'http://esipfed.org/ns/fedsearch/1.1/documentation#'},\n",
      "           {'href': 'https://appeears.earthdatacloud.nasa.gov/',\n",
      "            'hreflang': 'en-US',\n",
      "            'rel': 'http://esipfed.org/ns/fedsearch/1.1/data#'}],\n",
      " 'online_access_flag': True,\n",
      " 'orbit_parameters': {},\n",
      " 'organizations': ['LP DAAC', 'NASA/IMPACT'],\n",
      " 'original_format': 'UMM_JSON',\n",
      " 'platforms': ['LANDSAT-8', 'LANDSAT-9'],\n",
      " 'processing_level_id': '3',\n",
      " 'service_features': {'esi': {'has_formats': False,\n",
      "                              'has_spatial_subsetting': False,\n",
      "                              'has_temporal_subsetting': False,\n",
      "                              'has_transforms': False,\n",
      "                              'has_variables': False},\n",
      "                      'harmony': {'has_formats': False,\n",
      "                                  'has_spatial_subsetting': False,\n",
      "                                  'has_temporal_subsetting': False,\n",
      "                                  'has_transforms': False,\n",
      "                                  'has_variables': False},\n",
      "                      'opendap': {'has_formats': False,\n",
      "                                  'has_spatial_subsetting': False,\n",
      "                                  'has_temporal_subsetting': False,\n",
      "                                  'has_transforms': False,\n",
      "                                  'has_variables': False}},\n",
      " 'short_name': 'HLSL30',\n",
      " 'summary': 'The Harmonized Landsat Sentinel-2 (HLS) project provides '\n",
      "            'consistent surface reflectance (SR) and top of atmosphere (TOA) '\n",
      "            'brightness data from a virtual constellation of satellite '\n",
      "            'sensors. The Operational Land Imager (OLI) is housed aboard the '\n",
      "            'joint NASA/USGS Landsat 8 and Landsat 9 satellites, while the '\n",
      "            'Multi-Spectral Instrument (MSI) is mounted aboard Europe’s '\n",
      "            'Copernicus Sentinel-2A and Sentinel-2B satellites. The combined '\n",
      "            'measurement enables global observations of the land every 2–3 '\n",
      "            'days at 30-meter (m) spatial resolution. The HLS project uses a '\n",
      "            'set of algorithms to obtain seamless products from OLI and MSI '\n",
      "            'that include atmospheric correction, cloud and cloud-shadow '\n",
      "            'masking, spatial co-registration and common gridding, '\n",
      "            'illumination and view angle normalization, and spectral bandpass '\n",
      "            'adjustment.\\r\\n'\n",
      "            '\\r\\n'\n",
      "            'The HLSL30 product provides 30-m Nadir Bidirectional Reflectance '\n",
      "            'Distribution Function (BRDF)-Adjusted Reflectance (NBAR) and is '\n",
      "            'derived from Landsat 8/9 OLI data products. The HLSS30 and HLSL30 '\n",
      "            'products are gridded to the same resolution and Military Grid '\n",
      "            'Reference System '\n",
      "            '(MGRS)(https://hls.gsfc.nasa.gov/products-description/tiling-system/) '\n",
      "            'tiling system, and thus are “stackable” for time series '\n",
      "            'analysis.\\r\\n'\n",
      "            '\\r\\n'\n",
      "            'The HLSL30 product is provided in Cloud Optimized GeoTIFF (COG) '\n",
      "            'format, and each band is distributed as a separate file. There '\n",
      "            'are 11 bands included in the HLSL30 product along with one '\n",
      "            'quality assessment (QA) band and four angle bands. See the User '\n",
      "            'Guide for a more detailed description of the individual bands '\n",
      "            'provided in the HLSL30 product.',\n",
      " 'time_start': '2013-04-11T00:00:00.000Z',\n",
      " 'title': 'HLS Landsat Operational Land Imager Surface Reflectance and TOA '\n",
      "          'Brightness Daily Global 30m v2.0',\n",
      " 'updated': '2015-12-03T10:57:07.000Z',\n",
      " 'version_id': '2.0'}\n"
     ]
    }
   ],
   "source": [
    "pprint(response.json()['feed']['entry'][0])"
   ]
  },
  {
   "attachments": {},
   "cell_type": "markdown",
   "id": "viral-campus",
   "metadata": {},
   "source": [
    "The first response contains a lot more information than we need. We'll narrow in on a few fields to get a feel for what we have. We'll print the name of the dataset (`dataset_id`) and the concept id (`id`). We can build this variable and print statement like we did above with the `url` variable. "
   ]
  },
  {
   "cell_type": "code",
   "execution_count": 15,
   "id": "radio-lightning",
   "metadata": {},
   "outputs": [],
   "source": [
    "collections = response.json()['feed']['entry']"
   ]
  },
  {
   "cell_type": "code",
   "execution_count": 16,
   "id": "other-grant",
   "metadata": {},
   "outputs": [
    {
     "name": "stdout",
     "output_type": "stream",
     "text": [
      "LP DAAC | HLS Landsat Operational Land Imager Surface Reflectance and TOA Brightness Daily Global 30m v2.0 | HLSL30 |C2021957657-LPCLOUD\n",
      "LP DAAC | HLS Sentinel-2 Multi-spectral Instrument Surface Reflectance Daily Global 30m v2.0 | HLSS30 |C2021957295-LPCLOUD\n",
      "LP DAAC | ASTER Global Digital Elevation Model V003 | ASTGTM |C1711961296-LPCLOUD\n",
      "LP DAAC | MODIS/Aqua Land Surface Temperature/Emissivity Daily L3 Global 1km SIN Grid V061 | MYD11A1 |C1748046084-LPCLOUD\n",
      "LP DAAC | MODIS/Terra Vegetation Indices 16-Day L3 Global 250m SIN Grid V061 | MOD13Q1 |C1748066515-LPCLOUD\n",
      "LP DAAC | MODIS/Terra Surface Reflectance Daily L2G Global 1km and 500m SIN Grid V061 | MOD09GA |C2202497474-LPCLOUD\n",
      "LP DAAC | MODIS/Terra Surface Reflectance Daily L2G Global 250m SIN Grid V061 | MOD09GQ |C2343115666-LPCLOUD\n",
      "LP DAAC | MODIS/Terra Land Surface Temperature/Emissivity Daily L3 Global 1km SIN Grid V061 | MOD11A1 |C1748058432-LPCLOUD\n",
      "LP DAAC | MODIS/Aqua Surface Reflectance Daily L2G Global 1km and 500m SIN Grid V061 | MYD09GA |C2202498116-LPCLOUD\n",
      "LP DAAC | MODIS/Aqua Surface Reflectance Daily L2G Global 250m SIN Grid V061 | MYD09GQ |C2343109950-LPCLOUD\n"
     ]
    }
   ],
   "source": [
    "for collection in collections:\n",
    "    print(f'{collection[\"archive_center\"]} | {collection[\"dataset_id\"]} | {collection[\"short_name\"]} |{collection[\"id\"]}')"
   ]
  },
  {
   "attachments": {},
   "cell_type": "markdown",
   "id": "injured-services",
   "metadata": {},
   "source": [
    "`CMR-Hits` showed 209 data collections above but CMR restricts the number of results returned by each query. The default is 10 but it can be set to a maximum of 2000 by adding `page_size` parameter. We can set the `page_size` parameter to 300 (higher than the number of results returned) so we get all results in a single query."
   ]
  },
  {
   "cell_type": "code",
   "execution_count": 17,
   "id": "federal-analyst",
   "metadata": {},
   "outputs": [
    {
     "data": {
      "text/plain": [
       "<Response [200]>"
      ]
     },
     "execution_count": 17,
     "metadata": {},
     "output_type": "execute_result"
    }
   ],
   "source": [
    "response = requests.get(url,\n",
    "                        params={\n",
    "                            'cloud_hosted': 'True',\n",
    "                            'has_granules': 'True',\n",
    "                            'provider': provider,\n",
    "                            'page_size': 300\n",
    "                        },\n",
    "                        headers={\n",
    "                            'Accept': 'application/json'\n",
    "                            }\n",
    "                       )\n",
    "response"
   ]
  },
  {
   "attachments": {},
   "cell_type": "markdown",
   "id": "46e99c86-39a2-4df0-8aa7-fc5e7f3a1973",
   "metadata": {},
   "source": [
    "Now, when we can re-run our for loop for the collections we now have all of the available collections listed."
   ]
  },
  {
   "cell_type": "code",
   "execution_count": 18,
   "id": "consecutive-detroit",
   "metadata": {},
   "outputs": [
    {
     "name": "stdout",
     "output_type": "stream",
     "text": [
      "LP DAAC | HLS Landsat Operational Land Imager Surface Reflectance and TOA Brightness Daily Global 30m v2.0 | HLSL30 |C2021957657-LPCLOUD\n",
      "LP DAAC | HLS Sentinel-2 Multi-spectral Instrument Surface Reflectance Daily Global 30m v2.0 | HLSS30 |C2021957295-LPCLOUD\n",
      "LP DAAC | ASTER Global Digital Elevation Model V003 | ASTGTM |C1711961296-LPCLOUD\n",
      "LP DAAC | MODIS/Aqua Land Surface Temperature/Emissivity Daily L3 Global 1km SIN Grid V061 | MYD11A1 |C1748046084-LPCLOUD\n",
      "LP DAAC | MODIS/Terra Vegetation Indices 16-Day L3 Global 250m SIN Grid V061 | MOD13Q1 |C1748066515-LPCLOUD\n",
      "LP DAAC | MODIS/Terra Surface Reflectance Daily L2G Global 1km and 500m SIN Grid V061 | MOD09GA |C2202497474-LPCLOUD\n",
      "LP DAAC | MODIS/Terra Surface Reflectance Daily L2G Global 250m SIN Grid V061 | MOD09GQ |C2343115666-LPCLOUD\n",
      "LP DAAC | MODIS/Terra Land Surface Temperature/Emissivity Daily L3 Global 1km SIN Grid V061 | MOD11A1 |C1748058432-LPCLOUD\n",
      "LP DAAC | MODIS/Aqua Surface Reflectance Daily L2G Global 1km and 500m SIN Grid V061 | MYD09GA |C2202498116-LPCLOUD\n",
      "LP DAAC | MODIS/Aqua Surface Reflectance Daily L2G Global 250m SIN Grid V061 | MYD09GQ |C2343109950-LPCLOUD\n",
      "LP DAAC | MODIS/Terra+Aqua BRDF/Albedo Nadir BRDF-Adjusted Ref Daily L3 Global - 500m V061 | MCD43A4 |C2218719731-LPCLOUD\n",
      "LP DAAC | MODIS/Terra Land Surface Temperature/Emissivity 8-Day L3 Global 1km SIN Grid V061 | MOD11A2 |C2269056084-LPCLOUD\n",
      "LP DAAC | MODIS/Terra Vegetation Indices 16-Day L3 Global 1km SIN Grid V061 | MOD13A2 |C2565788905-LPCLOUD\n",
      "LP DAAC | MODIS/Aqua Land Surface Temperature/Emissivity 8-Day L3 Global 1km SIN Grid V061 | MYD11A2 |C2269057787-LPCLOUD\n",
      "LP DAAC | MODIS/Terra Surface Reflectance 8-Day L3 Global 500m SIN Grid V061 | MOD09A1 |C2343111356-LPCLOUD\n",
      "LP DAAC | MODIS/Terra+Aqua Land Aerosol Optical Depth Daily L2G Global 1km SIN Grid V061 | MCD19A2 |C2324689816-LPCLOUD\n",
      "LP DAAC | MODIS/Terra+Aqua BRDF/Albedo Albedo Daily L3 Global - 500m V061 | MCD43A3 |C2278860820-LPCLOUD\n",
      "LP DAAC | MODIS/Terra Thermal Anomalies/Fire 5-Min L2 Swath 1km V061 | MOD14 |C2271754179-LPCLOUD\n",
      "LP DAAC | MODIS/Aqua Thermal Anomalies/Fire 5-Min L2 Swath 1km V061 | MYD14 |C2278858993-LPCLOUD\n",
      "LP DAAC | MODIS/Terra+Aqua BRDF/Albedo Model Parameters Daily L3 Global - 500m V061 | MCD43A1 |C2343116130-LPCLOUD\n",
      "LP DAAC | MODIS/Terra+Aqua BRDF/Albedo Quality Daily L3 Global - 500m V061 | MCD43A2 |C2343116525-LPCLOUD\n",
      "LP DAAC | MODIS/Terra Leaf Area Index/FPAR 8-Day L4 Global 500m SIN Grid V061 | MOD15A2H |C2218777082-LPCLOUD\n",
      "LP DAAC | MODIS/Terra Land Surface Temperature/3-Band Emissivity Daily L3 Global 1km SIN Grid Day V061 | MOD21A1D |C2545303088-LPCLOUD\n",
      "LP DAAC | MODIS/Terra Land Surface Temperature/3-Band Emissivity Daily L3 Global 1km SIN Grid Night V061 | MOD21A1N |C2545303093-LPCLOUD\n",
      "LP DAAC | MODIS/Aqua Vegetation Indices 16-Day L3 Global 250m SIN Grid V061 | MYD13Q1 |C2307290656-LPCLOUD\n",
      "LP DAAC | MODIS/Aqua Land Surface Temperature/3-Band Emissivity Daily L3 Global 1km SIN Grid Day V061 | MYD21A1D |C2565805783-LPCLOUD\n",
      "LP DAAC | MODIS/Terra+Aqua Leaf Area Index/FPAR 4-Day L4 Global 500m SIN Grid V061 | MCD15A3H |C2343110937-LPCLOUD\n",
      "LP DAAC | MODIS/Terra Surface Reflectance 8-Day L3 Global 250m SIN Grid V061 | MOD09Q1 |C2343112831-LPCLOUD\n",
      "LP DAAC | MODIS/Terra Vegetation Indices 16-Day L3 Global 500m SIN Grid V061 | MOD13A1 |C2565788901-LPCLOUD\n",
      "LP DAAC | MODIS/Terra Thermal Anomalies/Fire Daily L3 Global 1km SIN Grid V061 | MOD14A1 |C2565791013-LPCLOUD\n",
      "LP DAAC | MODIS/Terra Net Evapotranspiration 8-Day L4 Global 500m SIN Grid V061 | MOD16A2 |C2343113232-LPCLOUD\n",
      "LP DAAC | MODIS/Terra Gross Primary Productivity 8-Day L4 Global 500m SIN Grid V061 | MOD17A2H |C2565791027-LPCLOUD\n",
      "LP DAAC | MODIS/Aqua Surface Reflectance 8-Day L3 Global 500m SIN Grid V061 | MYD09A1 |C2343113743-LPCLOUD\n",
      "LP DAAC | MODIS/Aqua Land Surface Temperature/Emissivity 5-Min L2 Swath 1km V061 | MYD11_L2 |C2343114808-LPCLOUD\n",
      "LP DAAC | MODIS/Aqua Vegetation Indices 16-Day L3 Global 1km SIN Grid V061 | MYD13A2 |C2565794049-LPCLOUD\n",
      "LP DAAC | MODIS/Aqua Land Surface Temperature/3-Band Emissivity Daily L3 Global 1km SIN Grid Night V061 | MYD21A1N |C2565805789-LPCLOUD\n",
      "LP DAAC | MODIS/Terra Thermal Anomalies/Fire 8-Day L3 Global 1km SIN Grid V061 | MOD14A2 |C2565791018-LPCLOUD\n",
      "LP DAAC | MODIS/Aqua Surface Reflectance 8-Day L3 Global 250m SIN Grid V061 | MYD09Q1 |C2343114343-LPCLOUD\n",
      "LP DAAC | MODIS/Aqua Thermal Anomalies/Fire Daily L3 Global 1km SIN Grid V061 | MYD14A1 |C2565794059-LPCLOUD\n",
      "LP DAAC | MODIS/Aqua Thermal Anomalies/Fire 8-Day L3 Global 1km SIN Grid V061 | MYD14A2 |C2565794060-LPCLOUD\n",
      "LP DAAC | MODIS/Aqua Leaf Area Index/FPAR 8-Day L4 Global 500m SIN Grid V061 | MYD15A2H |C2565794061-LPCLOUD\n",
      "LP DAAC | MODIS/Aqua Net Evapotranspiration 8-Day L4 Global 500m SIN Grid V061 | MYD16A2 |C2565794064-LPCLOUD\n",
      "LP DAAC | MODIS/Terra+Aqua Land Cover Type Yearly L3 Global 500m SIN Grid V061 | MCD12Q1 |C2484079608-LPCLOUD\n",
      "LP DAAC | MODIS/Terra+Aqua Direct Broadcast Burned Area Monthly L3 Global 500m SIN Grid V061 | MCD64A1 |C2565786756-LPCLOUD\n",
      "LP DAAC | MODIS/Terra Vegetation Indices Monthly L3 Global 0.05Deg CMG V061 | MOD13C2 |C2565788914-LPCLOUD\n",
      "LP DAAC | MODIS/Terra Net Primary Production Gap-Filled Yearly L4 Global 500m SIN Grid V061 | MOD17A3HGF |C2565791034-LPCLOUD\n",
      "LP DAAC | MODIS/Aqua Gross Primary Productivity 8-Day L4 Global 500m SIN Grid V061 | MYD17A2H |C2565794796-LPCLOUD\n",
      "LP DAAC | MODIS/Terra+Aqua BRDF/Albedo Albedo Daily L3 Global 0.05Deg CMG V061 | MCD43C3 |C2532068039-LPCLOUD\n",
      "LP DAAC | MODIS/Terra Surface Reflectance Daily L3 Global 0.05Deg CMG V061 | MOD09CMG |C2565788876-LPCLOUD\n",
      "LP DAAC | MODIS/Terra Vegetation Indices Monthly L3 Global 1km SIN Grid V061 | MOD13A3 |C2327962326-LPCLOUD\n",
      "LP DAAC | MODIS/Aqua Vegetation Indices 16-Day L3 Global 500m SIN Grid V061 | MYD13A1 |C2565794046-LPCLOUD\n",
      "LP DAAC | ASTER Global Digital Elevation Model NetCDF V003 | ASTGTM_NC |C2439422590-LPCLOUD\n",
      "LP DAAC | EMIT L1B At-Sensor Calibrated Radiance and Geolocation Data 60 m V001 | EMITL1BRAD |C2408009906-LPCLOUD\n",
      "LP DAAC | EMIT L2A Estimated Surface Reflectance and Uncertainty and Masks 60 m V001 | EMITL2ARFL |C2408750690-LPCLOUD\n",
      "LP DAAC | MODIS/Terra+Aqua Land Cover Type Yearly L3 Global 0.05Deg CMG V061 | MCD12C1 |C2484078896-LPCLOUD\n",
      "LP DAAC | MODIS/Terra+Aqua Land Cover Dynamics Yearly L3 Global 500m SIN Grid V061 | MCD12Q2 |C2484079943-LPCLOUD\n",
      "LP DAAC | MODIS/Terra+Aqua Leaf Area Index/FPAR 8-Day L4 Global 500m SIN Grid V061 | MCD15A2H |C2222147000-LPCLOUD\n",
      "LP DAAC | MODIS/Terra+Aqua Photosynthetically Active Radiation Daily/3-Hour L3 Global 1km SIN Grid V061 | MCD18A2 |C2484080763-LPCLOUD\n",
      "LP DAAC | MODIS/Terra+Aqua Photosynthetically Active Radiation Daily/3-Hour L3 Global 0.05Deg CMG V061 | MCD18C2 |C2484081543-LPCLOUD\n",
      "LP DAAC | MODIS/Terra Land Surface Temperature/Emissivity Monthly L3 Global 0.05Deg CMG V061 | MOD11C3 |C2565788897-LPCLOUD\n",
      "LP DAAC | MODIS/Terra Land Surface Temperature/Emissivity 5-Min L2 Swath 1km V061 | MOD11_L2 |C2343115255-LPCLOUD\n",
      "LP DAAC | MODIS/Terra Vegetation Indices 16-Day L3 Global 0.05Deg CMG V061 | MOD13C1 |C2565788912-LPCLOUD\n",
      "LP DAAC | MODIS/Terra Net Evapotranspiration Gap-Filled 8-Day L4 Global 500m SIN Grid V061 | MOD16A2GF |C2565791021-LPCLOUD\n",
      "LP DAAC | MODIS/Terra Net Evapotranspiration Gap-Filled Yearly L4 Global 500m SIN Grid V061 | MOD16A3GF |C2565791024-LPCLOUD\n",
      "LP DAAC | MODIS/Terra Gross Primary Productivity Gap-Filled 8-Day L4 Global 500m SIN Grid V061 | MOD17A2HGF |C2565791029-LPCLOUD\n",
      "LP DAAC | MODIS/Terra Land Surface Temperature/3-Band Emissivity 5-Min L2 1km V061 | MOD21 |C2565791036-LPCLOUD\n",
      "LP DAAC | MODIS/Terra Land Surface Temperature/3-Band Emissivity Daily L3 Global 0.05Deg CMG V061 | MOD21C1 |C2565791044-LPCLOUD\n",
      "LP DAAC | MODIS/Aqua Surface Reflectance Daily L3 Global 0.05Deg CMG V061 | MYD09CMG |C2565794001-LPCLOUD\n",
      "LP DAAC | ASTER Global Digital Elevation Model Attributes NetCDF V003 | ASTGTM_NUMNC |C2439429778-LPCLOUD\n",
      "LP DAAC | ECOSTRESS Swath Attitude and Ephemeris Instantaneous L1B Global V002 | ECO_L1B_ATT |C2076117996-LPCLOUD\n",
      "LP DAAC | ECOSTRESS Swath Geolocation Instantaneous L1B Global 70 m V002 | ECO_L1B_GEO |C2076087338-LPCLOUD\n",
      "LP DAAC | ECOSTRESS Swath Top of Atmosphere Calibrated Radiance Instantaneous L1B Global 70 m V002 | ECO_L1B_RAD |C2076116385-LPCLOUD\n",
      "LP DAAC | ECOSTRESS Gridded Top of Atmosphere Calibrated Radiance Instantaneous L1C Global 70 m V002 | ECO_L1CG_RAD |C2595678497-LPCLOUD\n",
      "LP DAAC | ECOSTRESS Tiled Top of Atmosphere Calibrated Radiance Instantaneous L1C Global 70 m V002 | ECO_L1CT_RAD |C2595678301-LPCLOUD\n",
      "LP DAAC | ECOSTRESS Gridded Cloud Mask Instantaneous L2 Global 70 m V002 | ECO_L2G_CLOUD |C2076113561-LPCLOUD\n",
      "LP DAAC | ECOSTRESS Gridded Land Surface Temperature and Emissivity Instantaneous L2 Global 70 m V002 | ECO_L2G_LSTE |C2076113037-LPCLOUD\n",
      "LP DAAC | ECOSTRESS Tiled Land Surface Temperature and Emissivity Instantaneous L2 Global 70 m V002 | ECO_L2T_LSTE |C2076090826-LPCLOUD\n",
      "LP DAAC | ECOSTRESS Swath Cloud Mask Instantaneous L2 Global 70 m V002 | ECO_L2_CLOUD |C2076115306-LPCLOUD\n",
      "LP DAAC | ECOSTRESS Swath Land Surface Temperature and Emissivity Instantaneous L2 Global 70 m V002 | ECO_L2_LSTE |C2076114664-LPCLOUD\n",
      "LP DAAC | EMIT L1B Corrected Spacecraft Attitude and Ephemeris V001 | EMITL1BATT |C2408031090-LPCLOUD\n",
      "LP DAAC | EMIT L2B Estimated Mineral Identification and Band Depth and Uncertainty 60 m V001 | EMITL2BMIN |C2408034484-LPCLOUD\n",
      "LP DAAC | MODIS/Terra+Aqua Surface Radiation Daily/3-Hour L3 Global 1km SIN Grid V061 | MCD18A1 |C2484080427-LPCLOUD\n",
      "LP DAAC | MODIS/Terra+Aqua Downward Shortwave Radiation Daily/3-Hour L3 Global 0.05Deg CMG V061 | MCD18C1 |C2484081120-LPCLOUD\n",
      "LP DAAC | MODIS/Terra+Aqua Land Surface BRF Daily L2G Global 500m and 1km SIN Grid V061 | MCD19A1 |C2484086031-LPCLOUD\n",
      "LP DAAC | MODIS/Terra+Aqua BRDF Model Parameters Daily L3 Global 1km SIN Grid V061 | MCD19A3D |C2484086411-LPCLOUD\n",
      "LP DAAC | MODIS/Terra+Aqua BRDF/Albedo Model Parameters Daily L3 Global 0.05Deg CMG V061 | MCD43C1 |C2532015377-LPCLOUD\n",
      "LP DAAC | MODIS/Terra+Aqua BRDF/Albedo Snow-free Model Parameters Daily L3 Global 0.05Deg CMG V061 | MCD43C2 |C2532059394-LPCLOUD\n",
      "LP DAAC | MODIS/Terra+Aqua BRDF/Albedo Nadir BRDF-Adjusted Ref Daily L3 Global 0.05Deg CMG V061 | MCD43C4 |C2532449179-LPCLOUD\n",
      "LP DAAC | MODIS/Terra+Aqua BRDF/Albedo Parameter 1 Band 1 Daily L3 Global 30 ArcSec CMG V061 | MCD43D01 |C2532021230-LPCLOUD\n",
      "LP DAAC | MODIS/Terra+Aqua BRDF/Albedo Parameter 2 Band 1 Daily L3 Global 30 ArcSec CMG V061 | MCD43D02 |C2532020158-LPCLOUD\n",
      "LP DAAC | MODIS/Terra+Aqua BRDF/Albedo Parameter 3 Band 1 Daily L3 Global 30 ArcSec CMG V061 | MCD43D03 |C2532019021-LPCLOUD\n",
      "LP DAAC | MODIS/Terra+Aqua BRDF/Albedo Parameter 1 Band 2 Daily L3 Global 30 ArcSec CMG V061 | MCD43D04 |C2532014841-LPCLOUD\n",
      "LP DAAC | MODIS/Terra+Aqua BRDF/Albedo Parameter 2 Band 2 Daily L3 Global 30 ArcSec CMG V061 | MCD43D05 |C2532011588-LPCLOUD\n",
      "LP DAAC | MODIS/Terra+Aqua BRDF/Albedo Parameter 3 Band 2 Daily L3 Global 30 ArcSec CMG V061 | MCD43D06 |C2532007810-LPCLOUD\n",
      "LP DAAC | MODIS/Terra+Aqua BRDF/Albedo Parameter1 Band3 Daily L3 Global 30ArcSec CMG V061 | MCD43D07 |C2539207575-LPCLOUD\n",
      "LP DAAC | MODIS/Terra+Aqua BRDF/Albedo Parameter2 Band3 Daily L3 Global 30ArcSec CMG V061 | MCD43D08 |C2539208411-LPCLOUD\n",
      "LP DAAC | MODIS/Terra+Aqua BRDF/Albedo Parameter3 Band3 Daily L3 Global 30ArcSec CMG V061 | MCD43D09 |C2539209209-LPCLOUD\n",
      "LP DAAC | MODIS/Terra+Aqua BRDF/Albedo Parameter1 Band4 Daily L3 Global 30ArcSec CMG V061 | MCD43D10 |C2539209814-LPCLOUD\n",
      "LP DAAC | MODIS/Terra+Aqua BRDF/Albedo Parameter2 Band4 Daily L3 Global 30ArcSec CMG V061 | MCD43D11 |C2539902420-LPCLOUD\n",
      "LP DAAC | MODIS/Terra+Aqua BRDF/Albedo Parameter3 Band4 Daily L3 Global 30ArcSec CMG V061 | MCD43D12 |C2539907890-LPCLOUD\n",
      "LP DAAC | MODIS/Terra+Aqua BRDF/Albedo Parameter1 Band5 Daily L3 Global 30ArcSec CMG V061 | MCD43D13 |C2539907921-LPCLOUD\n",
      "LP DAAC | MODIS/Terra+Aqua BRDF/Albedo Parameter2 Band5 Daily L3 Global 30ArcSec CMG V061 | MCD43D14 |C2539907928-LPCLOUD\n",
      "LP DAAC | MODIS/Terra+Aqua BRDF/Albedo Parameter3 Band5 Daily L3 Global 30ArcSec CMG V061 | MCD43D15 |C2539907934-LPCLOUD\n",
      "LP DAAC | MODIS/Terra+Aqua BRDF/Albedo Parameter1 Band6 Daily L3 Global 30ArcSec CMG V061 | MCD43D16 |C2539907940-LPCLOUD\n",
      "LP DAAC | MODIS/Terra+Aqua BRDF/Albedo Parameter2 Band6 Daily L3 Global 30ArcSec CMG V061 | MCD43D17 |C2539907945-LPCLOUD\n",
      "LP DAAC | MODIS/Terra+Aqua BRDF/Albedo Parameter3 Band6 Daily L3 Global 30ArcSec CMG V061 | MCD43D18 |C2539907952-LPCLOUD\n",
      "LP DAAC | MODIS/Terra+Aqua BRDF/Albedo Parameter1 Band7 Daily L3 Global 30ArcSec CMG V061 | MCD43D19 |C2539907958-LPCLOUD\n",
      "LP DAAC | MODIS/Terra+Aqua BRDF/Albedo Parameter2 Band7 Daily L3 Global 30ArcSec CMG V061 | MCD43D20 |C2539907962-LPCLOUD\n",
      "LP DAAC | MODIS/Terra+Aqua BRDF/Albedo Parameter3 Band7 Daily L3 Global 30ArcSec CMG V061 | MCD43D21 |C2540268544-LPCLOUD\n",
      "LP DAAC | MODIS/Terra+Aqua BRDF/Albedo Parameter1 VIS Daily L3 Global 30ArcSec CMG V061 | MCD43D22 |C2540268550-LPCLOUD\n",
      "LP DAAC | MODIS/Terra+Aqua BRDF/Albedo Parameter2 VIS Daily L3 Global 30ArcSec CMG V061 | MCD43D23 |C2540268554-LPCLOUD\n",
      "LP DAAC | MODIS/Terra+Aqua BRDF/Albedo Parameter3 VIS Daily L3 Global 30ArcSec CMG V061 | MCD43D24 |C2540268560-LPCLOUD\n",
      "LP DAAC | MODIS/Terra+Aqua BRDF/Albedo Parameter1 NIR Daily L3 Global 30ArcSec CMG V061 | MCD43D25 |C2540268566-LPCLOUD\n",
      "LP DAAC | MODIS/Terra+Aqua BRDF/Albedo Parameter2 NIR Daily L3 Global 30ArcSec CMG V061 | MCD43D26 |C2540268573-LPCLOUD\n",
      "LP DAAC | MODIS/Terra+Aqua BRDF/Albedo Parameter3 NIR Daily L3 Global 30ArcSec CMG V061 | MCD43D27 |C2540268577-LPCLOUD\n",
      "LP DAAC | MODIS/Terra+Aqua BRDF/Albedo Parameter1 Shortwave Daily L3 Global 30ArcSec CMG V061 | MCD43D28 |C2540268581-LPCLOUD\n",
      "LP DAAC | MODIS/Terra+Aqua BRDF/Albedo Parameter2 Shortwave Daily L3 Global 30ArcSec CMG V061 | MCD43D29 |C2540268586-LPCLOUD\n",
      "LP DAAC | MODIS/Terra+Aqua BRDF/Albedo Parameter3 Shortwave Daily L3 Global 30ArcSec CMG V061 | MCD43D30 |C2540268595-LPCLOUD\n",
      "LP DAAC | MODIS/Terra+Aqua BRDF/Albedo QA BRDFQuality Daily L3 Global 30ArcSec CMG V061 | MCD43D31 |C2540270738-LPCLOUD\n",
      "LP DAAC | MODIS/Terra+Aqua BRDF/Albedo QA LocalSolarNoon Daily L3 Global 30ArcSec CMG V061 | MCD43D32 |C2540270742-LPCLOUD\n",
      "LP DAAC | MODIS/Terra+Aqua BRDF/Albedo QA ValidobsBand1 Daily L3 Global 30ArcSec CMG V061 | MCD43D33 |C2540270747-LPCLOUD\n",
      "LP DAAC | MODIS/Terra+Aqua BRDF/Albedo QA ValidobsBand2 Daily L3 Global 30ArcSec CMG V061 | MCD43D34 |C2540270751-LPCLOUD\n",
      "LP DAAC | MODIS/Terra+Aqua BRDF/Albedo QA ValidobsBand3 Daily L3 Global 30ArcSec CMG V061 | MCD43D35 |C2540270757-LPCLOUD\n",
      "LP DAAC | MODIS/Terra+Aqua BRDF/Albedo QA ValidobsBand4 Daily L3 Global 30ArcSec CMG V061 | MCD43D36 |C2540270762-LPCLOUD\n",
      "LP DAAC | MODIS/Terra+Aqua BRDF/Albedo QA ValidobsBand5 Daily L3 Global 30ArcSec CMG V061 | MCD43D37 |C2540270766-LPCLOUD\n",
      "LP DAAC | MODIS/Terra+Aqua BRDF/Albedo QA ValidobsBand6 Daily L3 Global 30ArcSec CMG V061 | MCD43D38 |C2540270771-LPCLOUD\n",
      "LP DAAC | MODIS/Terra+Aqua BRDF/Albedo QA ValidobsBand7 Daily L3 Global 30ArcSec CMG V061 | MCD43D39 |C2540270775-LPCLOUD\n",
      "LP DAAC | MODIS/Terra+Aqua BRDF/Albedo QA SnowStatus Daily L3 Global 30ArcSec CMG V061 | MCD43D40 |C2540270779-LPCLOUD\n",
      "LP DAAC | MODIS/Terra+Aqua BRDF/Albedo QA Uncertainty Daily L3 Global 30ArcSec CMG V061 | MCD43D41 |C2540271801-LPCLOUD\n",
      "LP DAAC | MODIS/Terra+Aqua BRDF/Albedo Black Sky Albedo Band1 Daily L3 Global 30ArcSec CMG V061 | MCD43D42 |C2540271806-LPCLOUD\n",
      "LP DAAC | MODIS/Terra+Aqua BRDF/Albedo Black Sky Albedo Band2 Daily L3 Global 30ArcSec CMG V061 | MCD43D43 |C2540271810-LPCLOUD\n",
      "LP DAAC | MODIS/Terra+Aqua BRDF/Albedo Black Sky Albedo Band3 Daily L3 Global 30ArcSec CMG V061 | MCD43D44 |C2540271815-LPCLOUD\n",
      "LP DAAC | MODIS/Terra+Aqua BRDF/Albedo Black Sky Albedo Band4 Daily L3 Global 30ArcSec CMG V061 | MCD43D45 |C2540271820-LPCLOUD\n",
      "LP DAAC | MODIS/Terra+Aqua BRDF/Albedo Black Sky Albedo Band5 Daily L3 Global 30ArcSec CMG V061 | MCD43D46 |C2540271825-LPCLOUD\n",
      "LP DAAC | MODIS/Terra+Aqua BRDF/Albedo Black Sky Albedo Band6 Daily L3 Global 30ArcSec CMG V061 | MCD43D47 |C2540271830-LPCLOUD\n",
      "LP DAAC | MODIS/Terra+Aqua BRDF/Albedo Black Sky Albedo Band7 Daily L3 Global 30ArcSec CMG V061 | MCD43D48 |C2540271835-LPCLOUD\n",
      "LP DAAC | MODIS/Terra+Aqua BRDF/Albedo Black Sky Albedo VIS Daily L3 Global 30ArcSec CMG V061 | MCD43D49 |C2540271839-LPCLOUD\n",
      "LP DAAC | MODIS/Terra+Aqua BRDF/Albedo Black Sky Albedo NIR Daily L3 Global 30ArcSec CMG V061 | MCD43D50 |C2540271843-LPCLOUD\n",
      "LP DAAC | MODIS/Terra+Aqua BRDF/Albedo Black Sky Albedo Shortwave Daily L3 Global 30ArcSec CMG V061 | MCD43D51 |C2540273055-LPCLOUD\n",
      "LP DAAC | MODIS/Terra+Aqua BRDF/Albedo White Sky Albedo Band1 Daily L3 Global 30ArcSec CMG V061 | MCD43D52 |C2540273061-LPCLOUD\n",
      "LP DAAC | MODIS/Terra+Aqua BRDF/Albedo White Sky Albedo Band2 Daily L3 Global 30ArcSec CMG V061 | MCD43D53 |C2540273066-LPCLOUD\n",
      "LP DAAC | MODIS/Terra+Aqua BRDF/Albedo White Sky Albedo Band3 Daily L3 Global 30ArcSec CMG V061 | MCD43D54 |C2540273075-LPCLOUD\n",
      "LP DAAC | MODIS/Terra+Aqua BRDF/Albedo White Sky Albedo Band4 Daily L3 Global 30ArcSec CMG V061 | MCD43D55 |C2540273116-LPCLOUD\n",
      "LP DAAC | MODIS/Terra+Aqua BRDF/Albedo White Sky Albedo Band5 Daily L3 Global 30ArcSec CMG V061 | MCD43D56 |C2540273121-LPCLOUD\n",
      "LP DAAC | MODIS/Terra+Aqua BRDF/Albedo White Sky Albedo Band6 Daily L3 Global 30ArcSec CMG V061 | MCD43D57 |C2540273128-LPCLOUD\n",
      "LP DAAC | MODIS/Terra+Aqua BRDF/Albedo White Sky Albedo Band7 Daily L3 Global 30ArcSec CMG V061 | MCD43D58 |C2540273133-LPCLOUD\n",
      "LP DAAC | MODIS/Terra+Aqua BRDF/Albedo White Sky Albedo VIS Daily L3 Global 30ArcSec CMG V061 | MCD43D59 |C2540273183-LPCLOUD\n",
      "LP DAAC | MODIS/Terra+Aqua BRDF/Albedo White Sky Albedo NIR Daily L3 Global 30ArcSec CMG V061 | MCD43D60 |C2540273187-LPCLOUD\n",
      "LP DAAC | MODIS/Terra+Aqua BRDF/Albedo White Sky Albedo Shortwave Daily L3 Global 30ArcSec CMG V061 | MCD43D61 |C2540275672-LPCLOUD\n",
      "LP DAAC | MODIS/Terra+Aqua BRDF/Albedo Nadir BRDF-Adjusted Ref Band1 Daily L3 Global 30ArcSec CMG V061 | MCD43D62 |C2540275683-LPCLOUD\n",
      "LP DAAC | MODIS/Terra+Aqua BRDF/Albedo Nadir BRDF-Adjusted Ref Band2 Daily L3 Global 30ArcSec CMG V061 | MCD43D63 |C2540275688-LPCLOUD\n",
      "LP DAAC | MODIS/Terra+Aqua BRDF/Albedo Nadir BRDF-Adjusted Ref Band3 Daily L3 Global 30ArcSec CMG V061 | MCD43D64 |C2540275694-LPCLOUD\n",
      "LP DAAC | MODIS/Terra+Aqua BRDF/Albedo Nadir BRDF-Adjusted Ref Band4 Daily L3 Global 30ArcSec CMG V061 | MCD43D65 |C2540275719-LPCLOUD\n",
      "LP DAAC | MODIS/Terra+Aqua BRDF/Albedo Nadir BRDF-Adjusted Ref Band5 Daily L3 Global 30ArcSec CMG V061 | MCD43D66 |C2540275742-LPCLOUD\n",
      "LP DAAC | MODIS/Terra+Aqua BRDF/Albedo Nadir BRDF-Adjusted Ref Band6 Daily L3 Global 30ArcSec CMG V061 | MCD43D67 |C2540275748-LPCLOUD\n",
      "LP DAAC | MODIS/Terra+Aqua BRDF/Albedo Nadir BRDF-Adjusted Ref Band7 Daily L3 Global 30ArcSec CMG V061 | MCD43D68 |C2540275753-LPCLOUD\n",
      "LP DAAC | MODIS/Terra Land Surface Temperature/Emissivity Daily L3 Global 6km SIN Grid V061 | MOD11B1 |C2524245159-LPCLOUD\n",
      "LP DAAC | MODIS/Terra Land Surface Temperature/Emissivity 8-Day L3 Global 6km SIN Grid V061 | MOD11B2 |C2565788881-LPCLOUD\n",
      "LP DAAC | MODIS/Terra Land Surface Temperature/Emissivity Monthly L3 Global 6km SIN Grid V061 | MOD11B3 |C2565788885-LPCLOUD\n",
      "LP DAAC | MODIS/Terra Land Surface Temperature/Emissivity Daily L3 Global 0.05Deg CMG V061 | MOD11C1 |C2565788888-LPCLOUD\n",
      "LP DAAC | MODIS/Terra Land Surface Temperature/Emissivity 8-Day L3 Global 0.05Deg CMG V061 | MOD11C2 |C2565788893-LPCLOUD\n",
      "LP DAAC | MODIS/Terra Land Surface Temperature/3-Band Emissivity 8-Day L3 Global 1km SIN Grid V061 | MOD21A2 |C2565791040-LPCLOUD\n",
      "LP DAAC | MODIS/Terra Land Surface Temperature/3-Band Emissivity 8-Day L3 Global 0.05Deg CMG V061 | MOD21C2 |C2565791047-LPCLOUD\n",
      "LP DAAC | MODIS/Terra Land Surface Temperature/3-Band Emissivity Monthly L3 Global 0.05Deg CMG V061 | MOD21C3 |C2565791050-LPCLOUD\n",
      "LP DAAC | MODIS/Terra Water Reservoir 8-Day L3 Global V061 | MOD28C2 |C2565791054-LPCLOUD\n",
      "LP DAAC | MODIS/Terra Water Reservoir Monthly L3 Global V061 | MOD28C3 |C2565791057-LPCLOUD\n",
      "LP DAAC | MODIS/Aqua Land Surface Temperature/Emissivity Daily L3 Global 6km SIN Grid V061 | MYD11B1 |C2565794007-LPCLOUD\n",
      "LP DAAC | MODIS/Aqua Land Surface Temperature/Emissivity 8-Day L3 Global 6km SIN Grid V061 | MYD11B2 |C2565794018-LPCLOUD\n",
      "LP DAAC | MODIS/Aqua Land Surface Temperature/Emissivity Monthly L3 Global 6km SIN Grid V061 | MYD11B3 |C2565794030-LPCLOUD\n",
      "LP DAAC | MODIS/Aqua Land Surface Temperature/Emissivity Daily L3 Global 0.05Deg CMG V061 | MYD11C1 |C2565794038-LPCLOUD\n",
      "LP DAAC | MODIS/Aqua Land Surface Temperature/Emissivity 8-Day L3 Global 0.05Deg CMG V061 | MYD11C2 |C2565794042-LPCLOUD\n",
      "LP DAAC | MODIS/Aqua Land Surface Temperature/Emissivity Monthly L3 Global 0.05Deg CMG V061 | MYD11C3 |C2565794044-LPCLOUD\n",
      "LP DAAC | MODIS/Aqua Vegetation Indices Monthly L3 Global 1km SIN Grid V061 | MYD13A3 |C2327957988-LPCLOUD\n",
      "LP DAAC | MODIS/Aqua Vegetation Indices 16-Day L3 Global 0.05Deg CMG V061 | MYD13C1 |C2565794051-LPCLOUD\n",
      "LP DAAC | MODIS/Aqua Vegetation Indices Monthly L3 Global 0.05Deg CMG V061 | MYD13C2 |C2565794055-LPCLOUD\n",
      "LP DAAC | MODIS/Aqua Net Evapotranspiration Gap-Filled 8-Day L4 Global 500m SIN Grid V061 | MYD16A2GF |C2565794067-LPCLOUD\n",
      "LP DAAC | MODIS/Aqua Net Evapotranspiration Gap-Filled Yearly L4 Global 500m SIN Grid V061 | MYD16A3GF |C2565794069-LPCLOUD\n",
      "LP DAAC | MODIS/Aqua Gross Primary Productivity Gap-Filled 8-Day L4 Global 500m SIN Grid V061 | MYD17A2HGF |C2565794824-LPCLOUD\n",
      "LP DAAC | MODIS/Aqua Net Primary Production Gap-Filled Yearly L4 Global 500m SIN Grid V061 | MYD17A3HGF |C2565794850-LPCLOUD\n",
      "LP DAAC | MODIS/Aqua Land Surface Temperature/3-Band Emissivity 5-Min L2 1km V061 | MYD21 |C2565805776-LPCLOUD\n",
      "LP DAAC | MODIS/Aqua Land Surface Temperature/3-Band Emissivity 8-Day L3 Global 1km SIN Grid V061 | MYD21A2 |C2565805799-LPCLOUD\n",
      "LP DAAC | MODIS/Aqua Land Surface Temperature/3-Band Emissivity Daily L3 Global 0.05Deg CMG V061 | MYD21C1 |C2565805805-LPCLOUD\n",
      "LP DAAC | MODIS/Aqua Land Surface Temperature/3-Band Emissivity 8-Day L3 Global 0.05Deg CMG V061 | MYD21C2 |C2565805807-LPCLOUD\n",
      "LP DAAC | MODIS/Aqua Land Surface Temperature/3-Band Emissivity Monthly L3 Global 0.05Deg CMG V061 | MYD21C3 |C2565805812-LPCLOUD\n",
      "LP DAAC | MODIS/Aqua Water Reservoir 8-Day L3 Global V061 | MYD28C2 |C2565805818-LPCLOUD\n",
      "LP DAAC | MODIS/Aqua Water Reservoir Monthly L3 Global V061 | MYD28C3 |C2565805823-LPCLOUD\n",
      "LP DAAC | OPERA Land Surface Disturbance Alert from Harmonized Landsat Sentinel-2 provisional product (Version 0) | OPERA_L3_DIST-ALERT-HLS_PROVISIONAL_V0 |C2517904291-LPCLOUD\n",
      "LP DAAC | VIIRS/JPSS1 Surface Reflectance 8-Day L3 Global 1km SIN Grid V002 | VJ109A1 |C2501959919-LPCLOUD\n",
      "LP DAAC | VIIRS/JPSS1 Surface Reflectance Daily L3 Global 0.05Deg CMG V002 | VJ109CMG |C2519121257-LPCLOUD\n",
      "LP DAAC | VIIRS/JPSS1 Surface Reflectance Daily L2G Global 1km and 500m SIN Grid V002 | VJ109GA |C2631841524-LPCLOUD\n",
      "LP DAAC | VIIRS/JPSS1 Surface Reflectance 8-Day L3 Global 500m SIN Grid V002 | VJ109H1 |C2519120226-LPCLOUD\n",
      "LP DAAC | VIIRS/JPSS1 Land Surface Temperature and Emissivity 6-Min L2 Swath 750m V002 | VJ121 |C2545310883-LPCLOUD\n",
      "LP DAAC | VIIRS/JPSS1 Land Surface Temperature/Emissivity Daily L3 Global 1km SIN Grid Day V002 | VJ121A1D |C2545310887-LPCLOUD\n",
      "LP DAAC | VIIRS/JPSS1 Land Surface Temperature/Emissivity Daily L3 Global 1km SIN Grid Night V002 | VJ121A1N |C2545310892-LPCLOUD\n",
      "LP DAAC | VIIRS/JPSS1 Land Surface Temperature/Emissivity 8-Day L3 Global 1km SIN Grid V002 | VJ121A2 |C2545310897-LPCLOUD\n",
      "LP DAAC | VIIRS/JPSS1 Land Surface Temperature/Emissivity Daily L3 Global 0.05Deg CMG V002 | VJ121C1 |C2545310901-LPCLOUD\n",
      "LP DAAC | VIIRS/JPSS1 Land Surface Temperature/Emissivity 8-Day L3 Global 0.05Deg CMG V002 | VJ121C2 |C2545310905-LPCLOUD\n",
      "LP DAAC | VIIRS/JPSS1 Land Surface Temperature/Emissivity Monthly L3 Global 0.05Deg CMG V002 | VJ121C3 |C2545310909-LPCLOUD\n",
      "LP DAAC | VIIRS/NPP Surface Reflectance 8-Day L3 Global 1km SIN Grid V002 | VNP09A1 |C2519124793-LPCLOUD\n",
      "LP DAAC | VIIRS/NPP Surface Reflectance Daily L3 Global 0.05Deg CMG V002 | VNP09CMG |C2519126793-LPCLOUD\n",
      "LP DAAC | VIIRS/NPP Surface Reflectance Daily L2G Global 1km and 500m SIN Grid V002 | VNP09GA |C2631841556-LPCLOUD\n",
      "LP DAAC | VIIRS/NPP Surface Reflectance 8-Day L3 Global 500m SIN Grid V002 | VNP09H1 |C2519125808-LPCLOUD\n",
      "LP DAAC | VIIRS/NPP Land Surface Temperature and Emissivity 6-Min L2 Swath 750m V002 | VNP21 |C2545314550-LPCLOUD\n",
      "LP DAAC | VIIRS/NPP Land Surface Temperature/Emissivity Daily L3 Global 1km SIN Grid Day V002 | VNP21A1D |C2545314555-LPCLOUD\n",
      "LP DAAC | VIIRS/NPP Land Surface Temperature/Emissivity Daily L3 Global 1km SIN Grid Night V002 | VNP21A1N |C2545314559-LPCLOUD\n",
      "LP DAAC | VIIRS/NPP Land Surface Temperature/Emissivity 8-Day L3 Global 1km SIN Grid V002 | VNP21A2 |C2545314562-LPCLOUD\n",
      "LP DAAC | VIIRS/NPP Land Surface Temperature/Emissivity Daily L3 Global 0.05Deg CMG V002 | VNP21C1 |C2545314566-LPCLOUD\n",
      "LP DAAC | VIIRS/NPP Land Surface Temperature/Emissivity 8-Day L3 Global 0.05Deg CMG V002 | VNP21C2 |C2545314570-LPCLOUD\n",
      "LP DAAC | VIIRS/NPP Land Surface Temperature/Emissivity Monthly L3 Global 0.05Deg CMG V002 | VNP21C3 |C2545314573-LPCLOUD\n"
     ]
    }
   ],
   "source": [
    "collections = response.json()['feed']['entry']\n",
    "for collection in collections:\n",
    "    print(f'{collection[\"archive_center\"]} | {collection[\"dataset_id\"]} | {collection[\"short_name\"]} |{collection[\"id\"]}')"
   ]
  },
  {
   "attachments": {},
   "cell_type": "markdown",
   "id": "812f42ee",
   "metadata": {},
   "source": [
    "## Query CMR Using Project"
   ]
  },
  {
   "attachments": {},
   "cell_type": "markdown",
   "id": "17a6ad23",
   "metadata": {},
   "source": [
    "Collections can also be queried using project name. Below, we look for data Collections for `ECOSTRESS` and `SNWG/OPERA` projects distributed by LP DAAC and stored in cloud. Please note that all collections do not have a project parameter defined necessarily. "
   ]
  },
  {
   "cell_type": "code",
   "execution_count": 19,
   "id": "335309a8",
   "metadata": {},
   "outputs": [],
   "source": [
    "project = ['ECOSTRESS', 'SNWG/OPERA']"
   ]
  },
  {
   "cell_type": "code",
   "execution_count": 20,
   "id": "2c37576b",
   "metadata": {},
   "outputs": [
    {
     "data": {
      "text/plain": [
       "<Response [200]>"
      ]
     },
     "execution_count": 20,
     "metadata": {},
     "output_type": "execute_result"
    }
   ],
   "source": [
    "response = requests.get(url,\n",
    "                        params={\n",
    "                            'cloud_hosted': 'True',\n",
    "                            'has_granules': 'True',\n",
    "                            'provider': provider,\n",
    "                            'project': project, \n",
    "                            'page_size': 50\n",
    "                        },\n",
    "                        headers={\n",
    "                            'Accept': 'application/json'\n",
    "                            }\n",
    "                       )\n",
    "response"
   ]
  },
  {
   "cell_type": "code",
   "execution_count": 21,
   "id": "6c1da668",
   "metadata": {},
   "outputs": [
    {
     "name": "stdout",
     "output_type": "stream",
     "text": [
      "LP DAAC | ECOSTRESS Swath Geolocation Instantaneous L1B Global 70 m V002 | ECO_L1B_GEO |C2076087338-LPCLOUD\n",
      "LP DAAC | ECOSTRESS Swath Top of Atmosphere Calibrated Radiance Instantaneous L1B Global 70 m V002 | ECO_L1B_RAD |C2076116385-LPCLOUD\n",
      "LP DAAC | ECOSTRESS Gridded Top of Atmosphere Calibrated Radiance Instantaneous L1C Global 70 m V002 | ECO_L1CG_RAD |C2595678497-LPCLOUD\n",
      "LP DAAC | ECOSTRESS Gridded Cloud Mask Instantaneous L2 Global 70 m V002 | ECO_L2G_CLOUD |C2076113561-LPCLOUD\n",
      "LP DAAC | ECOSTRESS Gridded Land Surface Temperature and Emissivity Instantaneous L2 Global 70 m V002 | ECO_L2G_LSTE |C2076113037-LPCLOUD\n",
      "LP DAAC | ECOSTRESS Tiled Land Surface Temperature and Emissivity Instantaneous L2 Global 70 m V002 | ECO_L2T_LSTE |C2076090826-LPCLOUD\n",
      "LP DAAC | ECOSTRESS Swath Cloud Mask Instantaneous L2 Global 70 m V002 | ECO_L2_CLOUD |C2076115306-LPCLOUD\n",
      "LP DAAC | ECOSTRESS Swath Land Surface Temperature and Emissivity Instantaneous L2 Global 70 m V002 | ECO_L2_LSTE |C2076114664-LPCLOUD\n",
      "LP DAAC | OPERA Land Surface Disturbance Alert from Harmonized Landsat Sentinel-2 provisional product (Version 0) | OPERA_L3_DIST-ALERT-HLS_PROVISIONAL_V0 |C2517904291-LPCLOUD\n"
     ]
    }
   ],
   "source": [
    "collections = response.json()['feed']['entry']\n",
    "for collection in collections:\n",
    "    print(f'{collection[\"archive_center\"]} | {collection[\"dataset_id\"]} | {collection[\"short_name\"]} |{collection[\"id\"]}')"
   ]
  },
  {
   "attachments": {},
   "cell_type": "markdown",
   "id": "f9637d24",
   "metadata": {},
   "source": [
    "collection IDs are what we need for searching for granules. "
   ]
  },
  {
   "attachments": {},
   "cell_type": "markdown",
   "id": "swedish-engineer",
   "metadata": {},
   "source": [
    "# Searching for Granules\n",
    "In NASA speak, Granules are files or groups of files. We will search by `concept_id`, `temporal`, and `bounding_box`.  Details about these search parameters can be found in the CMR API Documentation.\n",
    "\n",
    "We need to change the resource url to look for __granules__ instead of collections"
   ]
  },
  {
   "cell_type": "code",
   "execution_count": 22,
   "id": "unlimited-underwear",
   "metadata": {},
   "outputs": [
    {
     "data": {
      "text/plain": [
       "'https://cmr.earthdata.nasa.gov/search/granules'"
      ]
     },
     "execution_count": 22,
     "metadata": {},
     "output_type": "execute_result"
    }
   ],
   "source": [
    "url = f'{CMR_OPS}/{\"granules\"}'\n",
    "url"
   ]
  },
  {
   "attachments": {},
   "cell_type": "markdown",
   "id": "industrial-typing",
   "metadata": {},
   "source": [
    "Below, `concept_id`, `temporal`, and `bounding_box` parameters are stored as a string to variables. Collection IDs are what we found from collection query. Here, we used `C2076090826-LPCLOUD` which is ID for ECOSTRESS Tiled Land Surface Temperature and Emissivity Instantaneous L2 Global 70 m V002 ([ECO_L2T_LSTE](https://doi.org/10.5067/ECOSTRESS/ECO_L2T_LSTE.002)) as an example.\n",
    "\n",
    "The formatting of the values for each parameter is quite specific. For `temporal` and `bounding_box` follow the format below:\n",
    "__Temporal parameters__ are in ISO 8061 format `yyyy-MM-ddTHH:mm:ssZ`.  \n",
    "__Bounding box coordinates__ are lower left longitude, lower left latitude, upper right longitude, upper right latitude. "
   ]
  },
  {
   "cell_type": "code",
   "execution_count": 23,
   "id": "a3769176-73bc-4d80-8284-a0f0b15dc7ea",
   "metadata": {},
   "outputs": [],
   "source": [
    "collection_id = 'C2076090826-LPCLOUD'\n",
    "date_range = '2022-10-20T00:00:00Z,2022-11-14T23:59:59Z'\n",
    "bbox = '-120.295181,34.210026,-119.526215,35.225021'\n"
   ]
  },
  {
   "cell_type": "code",
   "execution_count": 24,
   "id": "identified-johnson",
   "metadata": {},
   "outputs": [
    {
     "name": "stdout",
     "output_type": "stream",
     "text": [
      "200\n"
     ]
    }
   ],
   "source": [
    "response = requests.get(url, \n",
    "                        params={\n",
    "                            'concept_id': collection_id,\n",
    "                            'temporal': date_range,\n",
    "                            'bounding_box': bbox,\n",
    "                            'page_size': 200\n",
    "                            },\n",
    "                        headers={\n",
    "                            'Accept': 'application/json'\n",
    "                            }\n",
    "                       )\n",
    "print(response.status_code)"
   ]
  },
  {
   "attachments": {},
   "cell_type": "markdown",
   "id": "1e93d491",
   "metadata": {},
   "source": [
    "Let's see how many granules are found for this query. "
   ]
  },
  {
   "cell_type": "code",
   "execution_count": 25,
   "id": "aggressive-repair",
   "metadata": {},
   "outputs": [
    {
     "name": "stdout",
     "output_type": "stream",
     "text": [
      "91\n"
     ]
    }
   ],
   "source": [
    "print(response.headers['CMR-Hits'])"
   ]
  },
  {
   "attachments": {},
   "cell_type": "markdown",
   "id": "83a6d480",
   "metadata": {},
   "source": [
    "Now, look at the the first granule metadata. "
   ]
  },
  {
   "cell_type": "code",
   "execution_count": 26,
   "id": "f705ba75",
   "metadata": {},
   "outputs": [
    {
     "name": "stdout",
     "output_type": "stream",
     "text": [
      "{'boxes': ['33.309906 -120.259598 34.3242 -119.044289'],\n",
      " 'browse_flag': True,\n",
      " 'collection_concept_id': 'C2076090826-LPCLOUD',\n",
      " 'coordinate_system': 'GEODETIC',\n",
      " 'data_center': 'LPCLOUD',\n",
      " 'dataset_id': 'ECOSTRESS Tiled Land Surface Temperature and Emissivity '\n",
      "               'Instantaneous L2 Global 70 m V002',\n",
      " 'day_night_flag': 'NIGHT',\n",
      " 'granule_size': '3.36234',\n",
      " 'id': 'G2530780237-LPCLOUD',\n",
      " 'links': [{'href': 'https://data.lpdaac.earthdatacloud.nasa.gov/lp-prod-protected/ECO_L2T_LSTE.002/ECOv002_L2T_LSTE_24418_001_11SKT_20221026T105945_0710_01/ECOv002_L2T_LSTE_24418_001_11SKT_20221026T105945_0710_01_water.tif',\n",
      "            'hreflang': 'en-US',\n",
      "            'rel': 'http://esipfed.org/ns/fedsearch/1.1/data#',\n",
      "            'title': 'Download '\n",
      "                     'ECOv002_L2T_LSTE_24418_001_11SKT_20221026T105945_0710_01_water.tif'},\n",
      "           {'href': 's3://lp-prod-protected/ECO_L2T_LSTE.002/ECOv002_L2T_LSTE_24418_001_11SKT_20221026T105945_0710_01/ECOv002_L2T_LSTE_24418_001_11SKT_20221026T105945_0710_01_water.tif',\n",
      "            'hreflang': 'en-US',\n",
      "            'rel': 'http://esipfed.org/ns/fedsearch/1.1/s3#',\n",
      "            'title': 'This link provides direct download access via S3 to the '\n",
      "                     'granule'},\n",
      "           {'href': 'https://data.lpdaac.earthdatacloud.nasa.gov/lp-prod-protected/ECO_L2T_LSTE.002/ECOv002_L2T_LSTE_24418_001_11SKT_20221026T105945_0710_01/ECOv002_L2T_LSTE_24418_001_11SKT_20221026T105945_0710_01_cloud.tif',\n",
      "            'hreflang': 'en-US',\n",
      "            'rel': 'http://esipfed.org/ns/fedsearch/1.1/data#',\n",
      "            'title': 'Download '\n",
      "                     'ECOv002_L2T_LSTE_24418_001_11SKT_20221026T105945_0710_01_cloud.tif'},\n",
      "           {'href': 's3://lp-prod-protected/ECO_L2T_LSTE.002/ECOv002_L2T_LSTE_24418_001_11SKT_20221026T105945_0710_01/ECOv002_L2T_LSTE_24418_001_11SKT_20221026T105945_0710_01_cloud.tif',\n",
      "            'hreflang': 'en-US',\n",
      "            'rel': 'http://esipfed.org/ns/fedsearch/1.1/s3#',\n",
      "            'title': 'This link provides direct download access via S3 to the '\n",
      "                     'granule'},\n",
      "           {'href': 'https://data.lpdaac.earthdatacloud.nasa.gov/lp-prod-protected/ECO_L2T_LSTE.002/ECOv002_L2T_LSTE_24418_001_11SKT_20221026T105945_0710_01/ECOv002_L2T_LSTE_24418_001_11SKT_20221026T105945_0710_01_height.tif',\n",
      "            'hreflang': 'en-US',\n",
      "            'rel': 'http://esipfed.org/ns/fedsearch/1.1/data#',\n",
      "            'title': 'Download '\n",
      "                     'ECOv002_L2T_LSTE_24418_001_11SKT_20221026T105945_0710_01_height.tif'},\n",
      "           {'href': 's3://lp-prod-protected/ECO_L2T_LSTE.002/ECOv002_L2T_LSTE_24418_001_11SKT_20221026T105945_0710_01/ECOv002_L2T_LSTE_24418_001_11SKT_20221026T105945_0710_01_height.tif',\n",
      "            'hreflang': 'en-US',\n",
      "            'rel': 'http://esipfed.org/ns/fedsearch/1.1/s3#',\n",
      "            'title': 'This link provides direct download access via S3 to the '\n",
      "                     'granule'},\n",
      "           {'href': 'https://data.lpdaac.earthdatacloud.nasa.gov/lp-prod-protected/ECO_L2T_LSTE.002/ECOv002_L2T_LSTE_24418_001_11SKT_20221026T105945_0710_01/ECOv002_L2T_LSTE_24418_001_11SKT_20221026T105945_0710_01_QC.tif',\n",
      "            'hreflang': 'en-US',\n",
      "            'rel': 'http://esipfed.org/ns/fedsearch/1.1/data#',\n",
      "            'title': 'Download '\n",
      "                     'ECOv002_L2T_LSTE_24418_001_11SKT_20221026T105945_0710_01_QC.tif'},\n",
      "           {'href': 's3://lp-prod-protected/ECO_L2T_LSTE.002/ECOv002_L2T_LSTE_24418_001_11SKT_20221026T105945_0710_01/ECOv002_L2T_LSTE_24418_001_11SKT_20221026T105945_0710_01_QC.tif',\n",
      "            'hreflang': 'en-US',\n",
      "            'rel': 'http://esipfed.org/ns/fedsearch/1.1/s3#',\n",
      "            'title': 'This link provides direct download access via S3 to the '\n",
      "                     'granule'},\n",
      "           {'href': 'https://data.lpdaac.earthdatacloud.nasa.gov/lp-prod-protected/ECO_L2T_LSTE.002/ECOv002_L2T_LSTE_24418_001_11SKT_20221026T105945_0710_01/ECOv002_L2T_LSTE_24418_001_11SKT_20221026T105945_0710_01_LST.tif',\n",
      "            'hreflang': 'en-US',\n",
      "            'rel': 'http://esipfed.org/ns/fedsearch/1.1/data#',\n",
      "            'title': 'Download '\n",
      "                     'ECOv002_L2T_LSTE_24418_001_11SKT_20221026T105945_0710_01_LST.tif'},\n",
      "           {'href': 's3://lp-prod-protected/ECO_L2T_LSTE.002/ECOv002_L2T_LSTE_24418_001_11SKT_20221026T105945_0710_01/ECOv002_L2T_LSTE_24418_001_11SKT_20221026T105945_0710_01_LST.tif',\n",
      "            'hreflang': 'en-US',\n",
      "            'rel': 'http://esipfed.org/ns/fedsearch/1.1/s3#',\n",
      "            'title': 'This link provides direct download access via S3 to the '\n",
      "                     'granule'},\n",
      "           {'href': 'https://data.lpdaac.earthdatacloud.nasa.gov/lp-prod-protected/ECO_L2T_LSTE.002/ECOv002_L2T_LSTE_24418_001_11SKT_20221026T105945_0710_01/ECOv002_L2T_LSTE_24418_001_11SKT_20221026T105945_0710_01_LST_err.tif',\n",
      "            'hreflang': 'en-US',\n",
      "            'rel': 'http://esipfed.org/ns/fedsearch/1.1/data#',\n",
      "            'title': 'Download '\n",
      "                     'ECOv002_L2T_LSTE_24418_001_11SKT_20221026T105945_0710_01_LST_err.tif'},\n",
      "           {'href': 's3://lp-prod-protected/ECO_L2T_LSTE.002/ECOv002_L2T_LSTE_24418_001_11SKT_20221026T105945_0710_01/ECOv002_L2T_LSTE_24418_001_11SKT_20221026T105945_0710_01_LST_err.tif',\n",
      "            'hreflang': 'en-US',\n",
      "            'rel': 'http://esipfed.org/ns/fedsearch/1.1/s3#',\n",
      "            'title': 'This link provides direct download access via S3 to the '\n",
      "                     'granule'},\n",
      "           {'href': 'https://data.lpdaac.earthdatacloud.nasa.gov/lp-prod-protected/ECO_L2T_LSTE.002/ECOv002_L2T_LSTE_24418_001_11SKT_20221026T105945_0710_01/ECOv002_L2T_LSTE_24418_001_11SKT_20221026T105945_0710_01_EmisWB.tif',\n",
      "            'hreflang': 'en-US',\n",
      "            'rel': 'http://esipfed.org/ns/fedsearch/1.1/data#',\n",
      "            'title': 'Download '\n",
      "                     'ECOv002_L2T_LSTE_24418_001_11SKT_20221026T105945_0710_01_EmisWB.tif'},\n",
      "           {'href': 's3://lp-prod-protected/ECO_L2T_LSTE.002/ECOv002_L2T_LSTE_24418_001_11SKT_20221026T105945_0710_01/ECOv002_L2T_LSTE_24418_001_11SKT_20221026T105945_0710_01_EmisWB.tif',\n",
      "            'hreflang': 'en-US',\n",
      "            'rel': 'http://esipfed.org/ns/fedsearch/1.1/s3#',\n",
      "            'title': 'This link provides direct download access via S3 to the '\n",
      "                     'granule'},\n",
      "           {'href': 'https://data.lpdaac.earthdatacloud.nasa.gov/lp-prod-protected/ECO_L2T_LSTE.002/ECOv002_L2T_LSTE_24418_001_11SKT_20221026T105945_0710_01/ECOv002_L2T_LSTE_24418_001_11SKT_20221026T105945_0710_01.json',\n",
      "            'hreflang': 'en-US',\n",
      "            'rel': 'http://esipfed.org/ns/fedsearch/1.1/metadata#',\n",
      "            'title': 'Download '\n",
      "                     'ECOv002_L2T_LSTE_24418_001_11SKT_20221026T105945_0710_01.json '\n",
      "                     '(VIEW RELATED INFORMATION)'},\n",
      "           {'href': 's3://lp-prod-protected/ECO_L2T_LSTE.002/ECOv002_L2T_LSTE_24418_001_11SKT_20221026T105945_0710_01/ECOv002_L2T_LSTE_24418_001_11SKT_20221026T105945_0710_01.json',\n",
      "            'hreflang': 'en-US',\n",
      "            'rel': 'http://esipfed.org/ns/fedsearch/1.1/metadata#',\n",
      "            'title': 'This link provides direct download access via S3 to the '\n",
      "                     'granule (VIEW RELATED INFORMATION)'},\n",
      "           {'href': 'https://data.lpdaac.earthdatacloud.nasa.gov/lp-prod-protected/ECO_L2T_LSTE.002/ECOv002_L2T_LSTE_24418_001_11SKT_20221026T105945_0710_01/ECOv002_L2T_LSTE_24418_001_11SKT_20221026T105945_0710_01.cmr.xml',\n",
      "            'hreflang': 'en-US',\n",
      "            'rel': 'http://esipfed.org/ns/fedsearch/1.1/metadata#',\n",
      "            'title': 'Download '\n",
      "                     'ECOv002_L2T_LSTE_24418_001_11SKT_20221026T105945_0710_01.cmr.xml '\n",
      "                     '(EXTENDED METADATA)'},\n",
      "           {'href': 's3://lp-prod-protected/ECO_L2T_LSTE.002/ECOv002_L2T_LSTE_24418_001_11SKT_20221026T105945_0710_01/ECOv002_L2T_LSTE_24418_001_11SKT_20221026T105945_0710_01.cmr.xml',\n",
      "            'hreflang': 'en-US',\n",
      "            'rel': 'http://esipfed.org/ns/fedsearch/1.1/metadata#',\n",
      "            'title': 'This link provides direct download access via S3 to the '\n",
      "                     'granule (EXTENDED METADATA)'},\n",
      "           {'href': 'https://data.lpdaac.earthdatacloud.nasa.gov/s3credentials',\n",
      "            'hreflang': 'en-US',\n",
      "            'rel': 'http://esipfed.org/ns/fedsearch/1.1/metadata#',\n",
      "            'title': 'api endpoint to retrieve temporary credentials valid for '\n",
      "                     'same-region direct s3 access (VIEW RELATED INFORMATION)'},\n",
      "           {'href': 'https://data.lpdaac.earthdatacloud.nasa.gov/lp-prod-public/ECO_L2T_LSTE.002/ECOv002_L2T_LSTE_24418_001_11SKT_20221026T105945_0710_01/ECOv002_L2T_LSTE_24418_001_11SKT_20221026T105945_0710_01.png',\n",
      "            'hreflang': 'en-US',\n",
      "            'rel': 'http://esipfed.org/ns/fedsearch/1.1/browse#',\n",
      "            'title': 'Download '\n",
      "                     'ECOv002_L2T_LSTE_24418_001_11SKT_20221026T105945_0710_01.png'},\n",
      "           {'href': 's3://lp-prod-public/ECO_L2T_LSTE.002/ECOv002_L2T_LSTE_24418_001_11SKT_20221026T105945_0710_01/ECOv002_L2T_LSTE_24418_001_11SKT_20221026T105945_0710_01.png',\n",
      "            'hreflang': 'en-US',\n",
      "            'rel': 'http://esipfed.org/ns/fedsearch/1.1/browse#',\n",
      "            'title': 'This link provides direct download access via S3 to the '\n",
      "                     'granule'},\n",
      "           {'href': 'https://data.lpdaac.earthdatacloud.nasa.gov/lp-prod-protected/ECO_L2T_LSTE.002/ECOv002_L2T_LSTE_24418_001_11SKT_20221026T105945_0710_01/ECOv002_L2T_LSTE_24418_001_11SKT_20221026T105945_0710_01_water.jpeg',\n",
      "            'hreflang': 'en-US',\n",
      "            'rel': 'http://esipfed.org/ns/fedsearch/1.1/browse#',\n",
      "            'title': 'Download '\n",
      "                     'ECOv002_L2T_LSTE_24418_001_11SKT_20221026T105945_0710_01_water.jpeg'},\n",
      "           {'href': 's3://lp-prod-protected/ECO_L2T_LSTE.002/ECOv002_L2T_LSTE_24418_001_11SKT_20221026T105945_0710_01/ECOv002_L2T_LSTE_24418_001_11SKT_20221026T105945_0710_01_water.jpeg',\n",
      "            'hreflang': 'en-US',\n",
      "            'rel': 'http://esipfed.org/ns/fedsearch/1.1/browse#',\n",
      "            'title': 'This link provides direct download access via S3 to the '\n",
      "                     'granule'},\n",
      "           {'href': 'https://data.lpdaac.earthdatacloud.nasa.gov/lp-prod-protected/ECO_L2T_LSTE.002/ECOv002_L2T_LSTE_24418_001_11SKT_20221026T105945_0710_01/ECOv002_L2T_LSTE_24418_001_11SKT_20221026T105945_0710_01_water.jpeg.aux.xml',\n",
      "            'hreflang': 'en-US',\n",
      "            'rel': 'http://esipfed.org/ns/fedsearch/1.1/browse#',\n",
      "            'title': 'Download '\n",
      "                     'ECOv002_L2T_LSTE_24418_001_11SKT_20221026T105945_0710_01_water.jpeg.aux.xml'},\n",
      "           {'href': 's3://lp-prod-protected/ECO_L2T_LSTE.002/ECOv002_L2T_LSTE_24418_001_11SKT_20221026T105945_0710_01/ECOv002_L2T_LSTE_24418_001_11SKT_20221026T105945_0710_01_water.jpeg.aux.xml',\n",
      "            'hreflang': 'en-US',\n",
      "            'rel': 'http://esipfed.org/ns/fedsearch/1.1/browse#',\n",
      "            'title': 'This link provides direct download access via S3 to the '\n",
      "                     'granule'},\n",
      "           {'href': 'https://data.lpdaac.earthdatacloud.nasa.gov/lp-prod-protected/ECO_L2T_LSTE.002/ECOv002_L2T_LSTE_24418_001_11SKT_20221026T105945_0710_01/ECOv002_L2T_LSTE_24418_001_11SKT_20221026T105945_0710_01_cloud.jpeg',\n",
      "            'hreflang': 'en-US',\n",
      "            'rel': 'http://esipfed.org/ns/fedsearch/1.1/browse#',\n",
      "            'title': 'Download '\n",
      "                     'ECOv002_L2T_LSTE_24418_001_11SKT_20221026T105945_0710_01_cloud.jpeg'},\n",
      "           {'href': 's3://lp-prod-protected/ECO_L2T_LSTE.002/ECOv002_L2T_LSTE_24418_001_11SKT_20221026T105945_0710_01/ECOv002_L2T_LSTE_24418_001_11SKT_20221026T105945_0710_01_cloud.jpeg',\n",
      "            'hreflang': 'en-US',\n",
      "            'rel': 'http://esipfed.org/ns/fedsearch/1.1/browse#',\n",
      "            'title': 'This link provides direct download access via S3 to the '\n",
      "                     'granule'},\n",
      "           {'href': 'https://data.lpdaac.earthdatacloud.nasa.gov/lp-prod-protected/ECO_L2T_LSTE.002/ECOv002_L2T_LSTE_24418_001_11SKT_20221026T105945_0710_01/ECOv002_L2T_LSTE_24418_001_11SKT_20221026T105945_0710_01_cloud.jpeg.aux.xml',\n",
      "            'hreflang': 'en-US',\n",
      "            'rel': 'http://esipfed.org/ns/fedsearch/1.1/browse#',\n",
      "            'title': 'Download '\n",
      "                     'ECOv002_L2T_LSTE_24418_001_11SKT_20221026T105945_0710_01_cloud.jpeg.aux.xml'},\n",
      "           {'href': 's3://lp-prod-protected/ECO_L2T_LSTE.002/ECOv002_L2T_LSTE_24418_001_11SKT_20221026T105945_0710_01/ECOv002_L2T_LSTE_24418_001_11SKT_20221026T105945_0710_01_cloud.jpeg.aux.xml',\n",
      "            'hreflang': 'en-US',\n",
      "            'rel': 'http://esipfed.org/ns/fedsearch/1.1/browse#',\n",
      "            'title': 'This link provides direct download access via S3 to the '\n",
      "                     'granule'},\n",
      "           {'href': 'https://data.lpdaac.earthdatacloud.nasa.gov/lp-prod-protected/ECO_L2T_LSTE.002/ECOv002_L2T_LSTE_24418_001_11SKT_20221026T105945_0710_01/ECOv002_L2T_LSTE_24418_001_11SKT_20221026T105945_0710_01_height.jpeg',\n",
      "            'hreflang': 'en-US',\n",
      "            'rel': 'http://esipfed.org/ns/fedsearch/1.1/browse#',\n",
      "            'title': 'Download '\n",
      "                     'ECOv002_L2T_LSTE_24418_001_11SKT_20221026T105945_0710_01_height.jpeg'},\n",
      "           {'href': 's3://lp-prod-protected/ECO_L2T_LSTE.002/ECOv002_L2T_LSTE_24418_001_11SKT_20221026T105945_0710_01/ECOv002_L2T_LSTE_24418_001_11SKT_20221026T105945_0710_01_height.jpeg',\n",
      "            'hreflang': 'en-US',\n",
      "            'rel': 'http://esipfed.org/ns/fedsearch/1.1/browse#',\n",
      "            'title': 'This link provides direct download access via S3 to the '\n",
      "                     'granule'},\n",
      "           {'href': 'https://data.lpdaac.earthdatacloud.nasa.gov/lp-prod-protected/ECO_L2T_LSTE.002/ECOv002_L2T_LSTE_24418_001_11SKT_20221026T105945_0710_01/ECOv002_L2T_LSTE_24418_001_11SKT_20221026T105945_0710_01_height.jpeg.aux.xml',\n",
      "            'hreflang': 'en-US',\n",
      "            'rel': 'http://esipfed.org/ns/fedsearch/1.1/browse#',\n",
      "            'title': 'Download '\n",
      "                     'ECOv002_L2T_LSTE_24418_001_11SKT_20221026T105945_0710_01_height.jpeg.aux.xml'},\n",
      "           {'href': 's3://lp-prod-protected/ECO_L2T_LSTE.002/ECOv002_L2T_LSTE_24418_001_11SKT_20221026T105945_0710_01/ECOv002_L2T_LSTE_24418_001_11SKT_20221026T105945_0710_01_height.jpeg.aux.xml',\n",
      "            'hreflang': 'en-US',\n",
      "            'rel': 'http://esipfed.org/ns/fedsearch/1.1/browse#',\n",
      "            'title': 'This link provides direct download access via S3 to the '\n",
      "                     'granule'},\n",
      "           {'href': 'https://data.lpdaac.earthdatacloud.nasa.gov/lp-prod-protected/ECO_L2T_LSTE.002/ECOv002_L2T_LSTE_24418_001_11SKT_20221026T105945_0710_01/ECOv002_L2T_LSTE_24418_001_11SKT_20221026T105945_0710_01_QC.jpeg',\n",
      "            'hreflang': 'en-US',\n",
      "            'rel': 'http://esipfed.org/ns/fedsearch/1.1/browse#',\n",
      "            'title': 'Download '\n",
      "                     'ECOv002_L2T_LSTE_24418_001_11SKT_20221026T105945_0710_01_QC.jpeg'},\n",
      "           {'href': 's3://lp-prod-protected/ECO_L2T_LSTE.002/ECOv002_L2T_LSTE_24418_001_11SKT_20221026T105945_0710_01/ECOv002_L2T_LSTE_24418_001_11SKT_20221026T105945_0710_01_QC.jpeg',\n",
      "            'hreflang': 'en-US',\n",
      "            'rel': 'http://esipfed.org/ns/fedsearch/1.1/browse#',\n",
      "            'title': 'This link provides direct download access via S3 to the '\n",
      "                     'granule'},\n",
      "           {'href': 'https://data.lpdaac.earthdatacloud.nasa.gov/lp-prod-protected/ECO_L2T_LSTE.002/ECOv002_L2T_LSTE_24418_001_11SKT_20221026T105945_0710_01/ECOv002_L2T_LSTE_24418_001_11SKT_20221026T105945_0710_01_QC.jpeg.aux.xml',\n",
      "            'hreflang': 'en-US',\n",
      "            'rel': 'http://esipfed.org/ns/fedsearch/1.1/browse#',\n",
      "            'title': 'Download '\n",
      "                     'ECOv002_L2T_LSTE_24418_001_11SKT_20221026T105945_0710_01_QC.jpeg.aux.xml'},\n",
      "           {'href': 's3://lp-prod-protected/ECO_L2T_LSTE.002/ECOv002_L2T_LSTE_24418_001_11SKT_20221026T105945_0710_01/ECOv002_L2T_LSTE_24418_001_11SKT_20221026T105945_0710_01_QC.jpeg.aux.xml',\n",
      "            'hreflang': 'en-US',\n",
      "            'rel': 'http://esipfed.org/ns/fedsearch/1.1/browse#',\n",
      "            'title': 'This link provides direct download access via S3 to the '\n",
      "                     'granule'},\n",
      "           {'href': 'https://data.lpdaac.earthdatacloud.nasa.gov/lp-prod-protected/ECO_L2T_LSTE.002/ECOv002_L2T_LSTE_24418_001_11SKT_20221026T105945_0710_01/ECOv002_L2T_LSTE_24418_001_11SKT_20221026T105945_0710_01_LST.jpeg',\n",
      "            'hreflang': 'en-US',\n",
      "            'rel': 'http://esipfed.org/ns/fedsearch/1.1/browse#',\n",
      "            'title': 'Download '\n",
      "                     'ECOv002_L2T_LSTE_24418_001_11SKT_20221026T105945_0710_01_LST.jpeg'},\n",
      "           {'href': 's3://lp-prod-protected/ECO_L2T_LSTE.002/ECOv002_L2T_LSTE_24418_001_11SKT_20221026T105945_0710_01/ECOv002_L2T_LSTE_24418_001_11SKT_20221026T105945_0710_01_LST.jpeg',\n",
      "            'hreflang': 'en-US',\n",
      "            'rel': 'http://esipfed.org/ns/fedsearch/1.1/browse#',\n",
      "            'title': 'This link provides direct download access via S3 to the '\n",
      "                     'granule'},\n",
      "           {'href': 'https://data.lpdaac.earthdatacloud.nasa.gov/lp-prod-protected/ECO_L2T_LSTE.002/ECOv002_L2T_LSTE_24418_001_11SKT_20221026T105945_0710_01/ECOv002_L2T_LSTE_24418_001_11SKT_20221026T105945_0710_01_LST.jpeg.aux.xml',\n",
      "            'hreflang': 'en-US',\n",
      "            'rel': 'http://esipfed.org/ns/fedsearch/1.1/browse#',\n",
      "            'title': 'Download '\n",
      "                     'ECOv002_L2T_LSTE_24418_001_11SKT_20221026T105945_0710_01_LST.jpeg.aux.xml'},\n",
      "           {'href': 's3://lp-prod-protected/ECO_L2T_LSTE.002/ECOv002_L2T_LSTE_24418_001_11SKT_20221026T105945_0710_01/ECOv002_L2T_LSTE_24418_001_11SKT_20221026T105945_0710_01_LST.jpeg.aux.xml',\n",
      "            'hreflang': 'en-US',\n",
      "            'rel': 'http://esipfed.org/ns/fedsearch/1.1/browse#',\n",
      "            'title': 'This link provides direct download access via S3 to the '\n",
      "                     'granule'},\n",
      "           {'href': 'https://data.lpdaac.earthdatacloud.nasa.gov/lp-prod-protected/ECO_L2T_LSTE.002/ECOv002_L2T_LSTE_24418_001_11SKT_20221026T105945_0710_01/ECOv002_L2T_LSTE_24418_001_11SKT_20221026T105945_0710_01_LST_err.jpeg',\n",
      "            'hreflang': 'en-US',\n",
      "            'rel': 'http://esipfed.org/ns/fedsearch/1.1/browse#',\n",
      "            'title': 'Download '\n",
      "                     'ECOv002_L2T_LSTE_24418_001_11SKT_20221026T105945_0710_01_LST_err.jpeg'},\n",
      "           {'href': 's3://lp-prod-protected/ECO_L2T_LSTE.002/ECOv002_L2T_LSTE_24418_001_11SKT_20221026T105945_0710_01/ECOv002_L2T_LSTE_24418_001_11SKT_20221026T105945_0710_01_LST_err.jpeg',\n",
      "            'hreflang': 'en-US',\n",
      "            'rel': 'http://esipfed.org/ns/fedsearch/1.1/browse#',\n",
      "            'title': 'This link provides direct download access via S3 to the '\n",
      "                     'granule'},\n",
      "           {'href': 'https://data.lpdaac.earthdatacloud.nasa.gov/lp-prod-protected/ECO_L2T_LSTE.002/ECOv002_L2T_LSTE_24418_001_11SKT_20221026T105945_0710_01/ECOv002_L2T_LSTE_24418_001_11SKT_20221026T105945_0710_01_LST_err.jpeg.aux.xml',\n",
      "            'hreflang': 'en-US',\n",
      "            'rel': 'http://esipfed.org/ns/fedsearch/1.1/browse#',\n",
      "            'title': 'Download '\n",
      "                     'ECOv002_L2T_LSTE_24418_001_11SKT_20221026T105945_0710_01_LST_err.jpeg.aux.xml'},\n",
      "           {'href': 's3://lp-prod-protected/ECO_L2T_LSTE.002/ECOv002_L2T_LSTE_24418_001_11SKT_20221026T105945_0710_01/ECOv002_L2T_LSTE_24418_001_11SKT_20221026T105945_0710_01_LST_err.jpeg.aux.xml',\n",
      "            'hreflang': 'en-US',\n",
      "            'rel': 'http://esipfed.org/ns/fedsearch/1.1/browse#',\n",
      "            'title': 'This link provides direct download access via S3 to the '\n",
      "                     'granule'},\n",
      "           {'href': 'https://data.lpdaac.earthdatacloud.nasa.gov/lp-prod-protected/ECO_L2T_LSTE.002/ECOv002_L2T_LSTE_24418_001_11SKT_20221026T105945_0710_01/ECOv002_L2T_LSTE_24418_001_11SKT_20221026T105945_0710_01_EmisWB.jpeg',\n",
      "            'hreflang': 'en-US',\n",
      "            'rel': 'http://esipfed.org/ns/fedsearch/1.1/browse#',\n",
      "            'title': 'Download '\n",
      "                     'ECOv002_L2T_LSTE_24418_001_11SKT_20221026T105945_0710_01_EmisWB.jpeg'},\n",
      "           {'href': 's3://lp-prod-protected/ECO_L2T_LSTE.002/ECOv002_L2T_LSTE_24418_001_11SKT_20221026T105945_0710_01/ECOv002_L2T_LSTE_24418_001_11SKT_20221026T105945_0710_01_EmisWB.jpeg',\n",
      "            'hreflang': 'en-US',\n",
      "            'rel': 'http://esipfed.org/ns/fedsearch/1.1/browse#',\n",
      "            'title': 'This link provides direct download access via S3 to the '\n",
      "                     'granule'},\n",
      "           {'href': 'https://data.lpdaac.earthdatacloud.nasa.gov/lp-prod-protected/ECO_L2T_LSTE.002/ECOv002_L2T_LSTE_24418_001_11SKT_20221026T105945_0710_01/ECOv002_L2T_LSTE_24418_001_11SKT_20221026T105945_0710_01_EmisWB.jpeg.aux.xml',\n",
      "            'hreflang': 'en-US',\n",
      "            'rel': 'http://esipfed.org/ns/fedsearch/1.1/browse#',\n",
      "            'title': 'Download '\n",
      "                     'ECOv002_L2T_LSTE_24418_001_11SKT_20221026T105945_0710_01_EmisWB.jpeg.aux.xml'},\n",
      "           {'href': 's3://lp-prod-protected/ECO_L2T_LSTE.002/ECOv002_L2T_LSTE_24418_001_11SKT_20221026T105945_0710_01/ECOv002_L2T_LSTE_24418_001_11SKT_20221026T105945_0710_01_EmisWB.jpeg.aux.xml',\n",
      "            'hreflang': 'en-US',\n",
      "            'rel': 'http://esipfed.org/ns/fedsearch/1.1/browse#',\n",
      "            'title': 'This link provides direct download access via S3 to the '\n",
      "                     'granule'},\n",
      "           {'href': 'https://search.earthdata.nasa.gov/search?q=C2076090826-LPCLOUD',\n",
      "            'hreflang': 'en-US',\n",
      "            'inherited': True,\n",
      "            'rel': 'http://esipfed.org/ns/fedsearch/1.1/data#'},\n",
      "           {'href': 'https://doi.org/10.5067/ECOSTRESS/ECO_L2T_LSTE.002',\n",
      "            'hreflang': 'en-US',\n",
      "            'inherited': True,\n",
      "            'rel': 'http://esipfed.org/ns/fedsearch/1.1/metadata#'},\n",
      "           {'href': 'https://lpdaac.usgs.gov/',\n",
      "            'hreflang': 'en-US',\n",
      "            'inherited': True,\n",
      "            'rel': 'http://esipfed.org/ns/fedsearch/1.1/metadata#'},\n",
      "           {'href': 'https://lpdaac.usgs.gov/documents/1324/ECO2_LSTE_ATBD_V1.pdf',\n",
      "            'hreflang': 'en-US',\n",
      "            'inherited': True,\n",
      "            'rel': 'http://esipfed.org/ns/fedsearch/1.1/documentation#'},\n",
      "           {'href': 'https://lpdaac.usgs.gov/documents/380/ECO2_PSD_V1.pdf',\n",
      "            'hreflang': 'en-US',\n",
      "            'inherited': True,\n",
      "            'rel': 'http://esipfed.org/ns/fedsearch/1.1/documentation#'},\n",
      "           {'href': 'https://lpdaac.usgs.gov/documents/299/ECO2_ASD_V1.pdf',\n",
      "            'hreflang': 'en-US',\n",
      "            'inherited': True,\n",
      "            'rel': 'http://esipfed.org/ns/fedsearch/1.1/documentation#'},\n",
      "           {'href': 'https://lpdaac.usgs.gov/documents/1655/ECO_L1C-4_Grid_Tile_User_Guide_V2.pdf',\n",
      "            'hreflang': 'en-US',\n",
      "            'inherited': True,\n",
      "            'rel': 'http://esipfed.org/ns/fedsearch/1.1/documentation#'},\n",
      "           {'href': 'https://lpdaac-ops.cr.usgs.gov/documents/1574/ECOL2_User_Guide_V2.pdf',\n",
      "            'hreflang': 'en-US',\n",
      "            'inherited': True,\n",
      "            'rel': 'http://esipfed.org/ns/fedsearch/1.1/documentation#'},\n",
      "           {'href': 'https://appeears.earthdatacloud.nasa.gov/',\n",
      "            'hreflang': 'en-US',\n",
      "            'inherited': True,\n",
      "            'rel': 'http://esipfed.org/ns/fedsearch/1.1/data#'},\n",
      "           {'href': 'https://ecostress.jpl.nasa.gov/science',\n",
      "            'hreflang': 'en-US',\n",
      "            'inherited': True,\n",
      "            'rel': 'http://esipfed.org/ns/fedsearch/1.1/metadata#'}],\n",
      " 'online_access_flag': True,\n",
      " 'orbit_calculated_spatial_domains': [{'start_orbit_number': '24418',\n",
      "                                       'stop_orbit_number': '24418'}],\n",
      " 'original_format': 'ECHO10',\n",
      " 'producer_granule_id': 'ECOv002_L2T_LSTE_24418_001_11SKT_20221026T105945_0710_01',\n",
      " 'time_end': '2022-10-26T11:00:36.970Z',\n",
      " 'time_start': '2022-10-26T10:59:45.000Z',\n",
      " 'title': 'ECOv002_L2T_LSTE_24418_001_11SKT_20221026T105945_0710_01',\n",
      " 'updated': '2022-10-28T10:41:15.849Z'}\n"
     ]
    }
   ],
   "source": [
    "granules = response.json()['feed']['entry']\n",
    "pprint(granules[0])"
   ]
  },
  {
   "attachments": {},
   "cell_type": "markdown",
   "id": "11cefbd1",
   "metadata": {},
   "source": [
    "Below, the information for granules are printed. Looking at the granules' spatial box and start time shows they are filtered spatially and temporally for this collection."
   ]
  },
  {
   "cell_type": "code",
   "execution_count": 27,
   "id": "animal-facing",
   "metadata": {},
   "outputs": [
    {
     "name": "stdout",
     "output_type": "stream",
     "text": [
      "LPCLOUD | ECOv002_L2T_LSTE_24418_001_11SKT_20221026T105945_0710_01 | G2530780237-LPCLOUD | 2022-10-26T10:59:45.000Z | ['33.309906 -120.259598 34.3242 -119.044289']\n",
      "LPCLOUD | ECOv002_L2T_LSTE_24418_001_10SGC_20221026T105945_0710_01 | G2530780962-LPCLOUD | 2022-10-26T10:59:45.000Z | ['33.307163 -120.851555 34.322372 -119.635178']\n",
      "LPCLOUD | ECOv002_L2T_LSTE_24418_001_10SGD_20221026T105945_0710_01 | G2530781111-LPCLOUD | 2022-10-26T10:59:45.000Z | ['34.207188 -120.828926 35.223133 -119.598442']\n",
      "LPCLOUD | ECOv002_L2T_LSTE_24418_002_10SGD_20221026T110036_0710_01 | G2530775818-LPCLOUD | 2022-10-26T11:00:36.970Z | ['34.207188 -120.828926 35.223133 -119.598442']\n",
      "LPCLOUD | ECOv002_L2T_LSTE_24418_002_10SGE_20221026T110036_0710_01 | G2530778344-LPCLOUD | 2022-10-26T11:00:36.970Z | ['35.10759 -120.80526 36.124283 -119.560028']\n",
      "LPCLOUD | ECOv002_L2T_LSTE_24418_002_11SKV_20221026T110036_0710_01 | G2530780217-LPCLOUD | 2022-10-26T11:00:36.970Z | ['35.110527 -120.332405 36.126236 -119.088341']\n",
      "LPCLOUD | ECOv002_L2T_LSTE_24418_002_11SKU_20221026T110036_0710_01 | G2530780251-LPCLOUD | 2022-10-26T11:00:36.970Z | ['34.210026 -120.295181 35.225021 -119.065819']\n",
      "LPCLOUD | ECOv002_L2T_LSTE_24418_002_11SKT_20221026T110036_0710_01 | G2530780282-LPCLOUD | 2022-10-26T11:00:36.970Z | ['33.309906 -120.259598 34.3242 -119.044289']\n",
      "LPCLOUD | ECOv002_L2T_LSTE_24418_002_10SGC_20221026T110036_0710_01 | G2530780296-LPCLOUD | 2022-10-26T11:00:36.970Z | ['33.307163 -120.851555 34.322372 -119.635178']\n",
      "LPCLOUD | ECOv002_L2T_LSTE_24479_001_10SGE_20221030T092522_0710_01 | G2535607120-LPCLOUD | 2022-10-30T09:25:22.460Z | ['35.10759 -120.80526 36.124283 -119.560028']\n",
      "LPCLOUD | ECOv002_L2T_LSTE_24479_001_10SGD_20221030T092522_0710_01 | G2535607552-LPCLOUD | 2022-10-30T09:25:22.460Z | ['34.207188 -120.828926 35.223133 -119.598442']\n",
      "LPCLOUD | ECOv002_L2T_LSTE_24479_001_10SGC_20221030T092522_0710_01 | G2535607555-LPCLOUD | 2022-10-30T09:25:22.460Z | ['33.307163 -120.851555 34.322372 -119.635178']\n",
      "LPCLOUD | ECOv002_L2T_LSTE_24479_001_11SKT_20221030T092522_0710_01 | G2535609921-LPCLOUD | 2022-10-30T09:25:22.460Z | ['33.309906 -120.259598 34.3242 -119.044289']\n",
      "LPCLOUD | ECOv002_L2T_LSTE_24479_001_11SKU_20221030T092522_0710_01 | G2535610056-LPCLOUD | 2022-10-30T09:25:22.460Z | ['34.210026 -120.295181 35.225021 -119.065819']\n",
      "LPCLOUD | ECOv002_L2T_LSTE_24479_001_11SKV_20221030T092522_0710_01 | G2535611479-LPCLOUD | 2022-10-30T09:25:22.460Z | ['35.110527 -120.332405 36.126236 -119.088341']\n",
      "LPCLOUD | ECOv002_L2T_LSTE_24494_003_11SKT_20221031T083716_0710_01 | G2536450014-LPCLOUD | 2022-10-31T08:37:16.490Z | ['33.309906 -120.259598 34.3242 -119.044289']\n",
      "LPCLOUD | ECOv002_L2T_LSTE_24514_011_10SGC_20221101T155724_0710_01 | G2539193798-LPCLOUD | 2022-11-01T15:57:24.370Z | ['33.307163 -120.851555 34.322372 -119.635178']\n",
      "LPCLOUD | ECOv002_L2T_LSTE_24514_011_10SGD_20221101T155724_0710_01 | G2539195601-LPCLOUD | 2022-11-01T15:57:24.370Z | ['34.207188 -120.828926 35.223133 -119.598442']\n",
      "LPCLOUD | ECOv002_L2T_LSTE_24514_011_10SGE_20221101T155724_0710_01 | G2539196967-LPCLOUD | 2022-11-01T15:57:24.370Z | ['35.10759 -120.80526 36.124283 -119.560028']\n",
      "LPCLOUD | ECOv002_L2T_LSTE_24514_011_11SKV_20221101T155724_0710_01 | G2539199950-LPCLOUD | 2022-11-01T15:57:24.370Z | ['35.110527 -120.332405 36.126236 -119.088341']\n",
      "LPCLOUD | ECOv002_L2T_LSTE_24514_012_11SKT_20221101T155816_0710_01 | G2539203544-LPCLOUD | 2022-11-01T15:58:16.340Z | ['33.309906 -120.259598 34.3242 -119.044289']\n",
      "LPCLOUD | ECOv002_L2T_LSTE_24514_012_11SKV_20221101T155816_0710_01 | G2539203547-LPCLOUD | 2022-11-01T15:58:16.340Z | ['35.110527 -120.332405 36.126236 -119.088341']\n",
      "LPCLOUD | ECOv002_L2T_LSTE_24514_012_10SGE_20221101T155816_0710_01 | G2539203627-LPCLOUD | 2022-11-01T15:58:16.340Z | ['35.10759 -120.80526 36.124283 -119.560028']\n",
      "LPCLOUD | ECOv002_L2T_LSTE_24514_012_10SGD_20221101T155816_0710_01 | G2539205423-LPCLOUD | 2022-11-01T15:58:16.340Z | ['34.207188 -120.828926 35.223133 -119.598442']\n",
      "LPCLOUD | ECOv002_L2T_LSTE_24514_012_10SGC_20221101T155816_0710_01 | G2539205436-LPCLOUD | 2022-11-01T15:58:16.340Z | ['33.307163 -120.851555 34.322372 -119.635178']\n",
      "LPCLOUD | ECOv002_L2T_LSTE_24514_012_11SKU_20221101T155816_0710_01 | G2539206874-LPCLOUD | 2022-11-01T15:58:16.340Z | ['34.210026 -120.295181 35.225021 -119.065819']\n",
      "LPCLOUD | ECOv002_L2T_LSTE_24540_005_10SGE_20221103T074954_0710_01 | G2541389219-LPCLOUD | 2022-11-03T07:49:54.910Z | ['35.10759 -120.80526 36.124283 -119.560028']\n",
      "LPCLOUD | ECOv002_L2T_LSTE_24540_005_10SGD_20221103T074954_0710_01 | G2541389633-LPCLOUD | 2022-11-03T07:49:54.910Z | ['34.207188 -120.828926 35.223133 -119.598442']\n",
      "LPCLOUD | ECOv002_L2T_LSTE_24540_005_10SGC_20221103T074954_0710_01 | G2541390013-LPCLOUD | 2022-11-03T07:49:54.910Z | ['33.307163 -120.851555 34.322372 -119.635178']\n",
      "LPCLOUD | ECOv002_L2T_LSTE_24540_005_11SKV_20221103T074954_0710_01 | G2541390707-LPCLOUD | 2022-11-03T07:49:54.910Z | ['35.110527 -120.332405 36.126236 -119.088341']\n",
      "LPCLOUD | ECOv002_L2T_LSTE_24540_005_11SKT_20221103T074954_0710_01 | G2541390948-LPCLOUD | 2022-11-03T07:49:54.910Z | ['33.309906 -120.259598 34.3242 -119.044289']\n",
      "LPCLOUD | ECOv002_L2T_LSTE_24540_005_11SKU_20221103T074954_0710_01 | G2541391017-LPCLOUD | 2022-11-03T07:49:54.910Z | ['34.210026 -120.295181 35.225021 -119.065819']\n",
      "LPCLOUD | ECOv002_L2T_LSTE_24540_006_11SKV_20221103T075046_0710_01 | G2541390173-LPCLOUD | 2022-11-03T07:50:46.870Z | ['35.110527 -120.332405 36.126236 -119.088341']\n",
      "LPCLOUD | ECOv002_L2T_LSTE_24560_012_10SGC_20221104T151000_0710_01 | G2543733039-LPCLOUD | 2022-11-04T15:10:00.780Z | ['33.307163 -120.851555 34.322372 -119.635178']\n",
      "LPCLOUD | ECOv002_L2T_LSTE_24560_012_10SGD_20221104T151000_0710_01 | G2543733267-LPCLOUD | 2022-11-04T15:10:00.780Z | ['34.207188 -120.828926 35.223133 -119.598442']\n",
      "LPCLOUD | ECOv002_L2T_LSTE_24560_013_10SGD_20221104T151052_0710_01 | G2543738483-LPCLOUD | 2022-11-04T15:10:52.750Z | ['34.207188 -120.828926 35.223133 -119.598442']\n",
      "LPCLOUD | ECOv002_L2T_LSTE_24560_013_11SKT_20221104T151052_0710_01 | G2543739516-LPCLOUD | 2022-11-04T15:10:52.750Z | ['33.309906 -120.259598 34.3242 -119.044289']\n",
      "LPCLOUD | ECOv002_L2T_LSTE_24560_013_10SGC_20221104T151052_0710_01 | G2543740062-LPCLOUD | 2022-11-04T15:10:52.750Z | ['33.307163 -120.851555 34.322372 -119.635178']\n",
      "LPCLOUD | ECOv002_L2T_LSTE_24575_011_10SGD_20221105T142134_0710_01 | G2545346904-LPCLOUD | 2022-11-05T14:21:34.540Z | ['34.207188 -120.828926 35.223133 -119.598442']\n",
      "LPCLOUD | ECOv002_L2T_LSTE_24575_011_10SGE_20221105T142134_0710_01 | G2545347453-LPCLOUD | 2022-11-05T14:21:34.540Z | ['35.10759 -120.80526 36.124283 -119.560028']\n",
      "LPCLOUD | ECOv002_L2T_LSTE_24575_011_11SKV_20221105T142134_0710_01 | G2545348685-LPCLOUD | 2022-11-05T14:21:34.540Z | ['35.110527 -120.332405 36.126236 -119.088341']\n",
      "LPCLOUD | ECOv002_L2T_LSTE_24575_012_10SGC_20221105T142226_0710_01 | G2545349703-LPCLOUD | 2022-11-05T14:22:26.510Z | ['33.307163 -120.851555 34.322372 -119.635178']\n",
      "LPCLOUD | ECOv002_L2T_LSTE_24575_012_10SGD_20221105T142226_0710_01 | G2545349707-LPCLOUD | 2022-11-05T14:22:26.510Z | ['34.207188 -120.828926 35.223133 -119.598442']\n",
      "LPCLOUD | ECOv002_L2T_LSTE_24575_012_10SGE_20221105T142226_0710_01 | G2545350290-LPCLOUD | 2022-11-05T14:22:26.510Z | ['35.10759 -120.80526 36.124283 -119.560028']\n",
      "LPCLOUD | ECOv002_L2T_LSTE_24575_012_11SKV_20221105T142226_0710_01 | G2545350562-LPCLOUD | 2022-11-05T14:22:26.510Z | ['35.110527 -120.332405 36.126236 -119.088341']\n",
      "LPCLOUD | ECOv002_L2T_LSTE_24575_012_11SKT_20221105T142226_0710_01 | G2545350572-LPCLOUD | 2022-11-05T14:22:26.510Z | ['33.309906 -120.259598 34.3242 -119.044289']\n",
      "LPCLOUD | ECOv002_L2T_LSTE_24575_012_11SKU_20221105T142226_0710_01 | G2545351427-LPCLOUD | 2022-11-05T14:22:26.510Z | ['34.210026 -120.295181 35.225021 -119.065819']\n",
      "LPCLOUD | ECOv002_L2T_LSTE_24586_005_10SGE_20221106T070230_0710_01 | G2547924621-LPCLOUD | 2022-11-06T07:02:30.120Z | ['35.10759 -120.80526 36.124283 -119.560028']\n",
      "LPCLOUD | ECOv002_L2T_LSTE_24601_001_10SGC_20221107T061356_0710_01 | G2549534375-LPCLOUD | 2022-11-07T06:13:56.780Z | ['33.307163 -120.851555 34.322372 -119.635178']\n",
      "LPCLOUD | ECOv002_L2T_LSTE_24601_001_10SGD_20221107T061356_0710_01 | G2549537569-LPCLOUD | 2022-11-07T06:13:56.780Z | ['34.207188 -120.828926 35.223133 -119.598442']\n",
      "LPCLOUD | ECOv002_L2T_LSTE_24601_001_11SKT_20221107T061356_0710_01 | G2549539722-LPCLOUD | 2022-11-07T06:13:56.780Z | ['33.309906 -120.259598 34.3242 -119.044289']\n",
      "LPCLOUD | ECOv002_L2T_LSTE_24601_001_11SKV_20221107T061356_0710_01 | G2549541811-LPCLOUD | 2022-11-07T06:13:56.780Z | ['35.110527 -120.332405 36.126236 -119.088341']\n",
      "LPCLOUD | ECOv002_L2T_LSTE_24601_001_11SKU_20221107T061356_0710_01 | G2549542048-LPCLOUD | 2022-11-07T06:13:56.780Z | ['34.210026 -120.295181 35.225021 -119.065819']\n",
      "LPCLOUD | ECOv002_L2T_LSTE_24601_001_10SGE_20221107T061356_0710_01 | G2549544152-LPCLOUD | 2022-11-07T06:13:56.780Z | ['35.10759 -120.80526 36.124283 -119.560028']\n",
      "LPCLOUD | ECOv002_L2T_LSTE_24601_002_10SGD_20221107T061448_0710_01 | G2549543455-LPCLOUD | 2022-11-07T06:14:48.750Z | ['34.207188 -120.828926 35.223133 -119.598442']\n",
      "LPCLOUD | ECOv002_L2T_LSTE_24601_002_11SKV_20221107T061448_0710_01 | G2549545353-LPCLOUD | 2022-11-07T06:14:48.750Z | ['35.110527 -120.332405 36.126236 -119.088341']\n",
      "LPCLOUD | ECOv002_L2T_LSTE_24601_002_11SKU_20221107T061448_0710_01 | G2549545958-LPCLOUD | 2022-11-07T06:14:48.750Z | ['34.210026 -120.295181 35.225021 -119.065819']\n",
      "LPCLOUD | ECOv002_L2T_LSTE_24601_002_10SGE_20221107T061448_0710_01 | G2549546174-LPCLOUD | 2022-11-07T06:14:48.750Z | ['35.10759 -120.80526 36.124283 -119.560028']\n",
      "LPCLOUD | ECOv002_L2T_LSTE_24621_014_10SGE_20221108T133404_0710_01 | G2552498791-LPCLOUD | 2022-11-08T13:34:04.820Z | ['35.10759 -120.80526 36.124283 -119.560028']\n",
      "LPCLOUD | ECOv002_L2T_LSTE_24621_014_10SGC_20221108T133404_0710_01 | G2552498842-LPCLOUD | 2022-11-08T13:34:04.820Z | ['33.307163 -120.851555 34.322372 -119.635178']\n",
      "LPCLOUD | ECOv002_L2T_LSTE_24621_014_10SGD_20221108T133404_0710_01 | G2552499035-LPCLOUD | 2022-11-08T13:34:04.820Z | ['34.207188 -120.828926 35.223133 -119.598442']\n",
      "LPCLOUD | ECOv002_L2T_LSTE_24621_014_11SKU_20221108T133404_0710_01 | G2552499106-LPCLOUD | 2022-11-08T13:34:04.820Z | ['34.210026 -120.295181 35.225021 -119.065819']\n",
      "LPCLOUD | ECOv002_L2T_LSTE_24621_015_10SGC_20221108T133456_0710_01 | G2552499524-LPCLOUD | 2022-11-08T13:34:56.780Z | ['33.307163 -120.851555 34.322372 -119.635178']\n",
      "LPCLOUD | ECOv002_L2T_LSTE_24621_015_10SGD_20221108T133456_0710_01 | G2552499737-LPCLOUD | 2022-11-08T13:34:56.780Z | ['34.207188 -120.828926 35.223133 -119.598442']\n",
      "LPCLOUD | ECOv002_L2T_LSTE_24621_015_11SKU_20221108T133456_0710_01 | G2552500199-LPCLOUD | 2022-11-08T13:34:56.780Z | ['34.210026 -120.295181 35.225021 -119.065819']\n",
      "LPCLOUD | ECOv002_L2T_LSTE_24621_015_11SKT_20221108T133456_0710_01 | G2552500209-LPCLOUD | 2022-11-08T13:34:56.780Z | ['33.309906 -120.259598 34.3242 -119.044289']\n",
      "LPCLOUD | ECOv002_L2T_LSTE_24636_014_10SGE_20221109T124603_0710_01 | G2552928897-LPCLOUD | 2022-11-09T12:46:03.360Z | ['35.10759 -120.80526 36.124283 -119.560028']\n",
      "LPCLOUD | ECOv002_L2T_LSTE_24636_014_11SKU_20221109T124603_0710_01 | G2552928920-LPCLOUD | 2022-11-09T12:46:03.360Z | ['34.210026 -120.295181 35.225021 -119.065819']\n",
      "LPCLOUD | ECOv002_L2T_LSTE_24636_014_10SGD_20221109T124603_0710_01 | G2552928925-LPCLOUD | 2022-11-09T12:46:03.360Z | ['34.207188 -120.828926 35.223133 -119.598442']\n",
      "LPCLOUD | ECOv002_L2T_LSTE_24636_014_11SKT_20221109T124603_0710_01 | G2552928949-LPCLOUD | 2022-11-09T12:46:03.360Z | ['33.309906 -120.259598 34.3242 -119.044289']\n",
      "LPCLOUD | ECOv002_L2T_LSTE_24636_014_11SKV_20221109T124603_0710_01 | G2552929009-LPCLOUD | 2022-11-09T12:46:03.360Z | ['35.110527 -120.332405 36.126236 -119.088341']\n",
      "LPCLOUD | ECOv002_L2T_LSTE_24662_001_10SGE_20221111T043744_0710_01 | G2553034860-LPCLOUD | 2022-11-11T04:37:44.260Z | ['35.10759 -120.80526 36.124283 -119.560028']\n",
      "LPCLOUD | ECOv002_L2T_LSTE_24662_001_11SKU_20221111T043744_0710_01 | G2553034938-LPCLOUD | 2022-11-11T04:37:44.260Z | ['34.210026 -120.295181 35.225021 -119.065819']\n",
      "LPCLOUD | ECOv002_L2T_LSTE_24662_001_10SGD_20221111T043744_0710_01 | G2553035041-LPCLOUD | 2022-11-11T04:37:44.260Z | ['34.207188 -120.828926 35.223133 -119.598442']\n",
      "LPCLOUD | ECOv002_L2T_LSTE_24662_001_11SKV_20221111T043744_0710_01 | G2553035200-LPCLOUD | 2022-11-11T04:37:44.260Z | ['35.110527 -120.332405 36.126236 -119.088341']\n",
      "LPCLOUD | ECOv002_L2T_LSTE_24662_001_11SKT_20221111T043744_0710_01 | G2553035219-LPCLOUD | 2022-11-11T04:37:44.260Z | ['33.309906 -120.259598 34.3242 -119.044289']\n",
      "LPCLOUD | ECOv002_L2T_LSTE_24662_001_10SGC_20221111T043744_0710_01 | G2553035253-LPCLOUD | 2022-11-11T04:37:44.260Z | ['33.307163 -120.851555 34.322372 -119.635178']\n",
      "LPCLOUD | ECOv002_L2T_LSTE_24662_002_11SKV_20221111T043836_0710_01 | G2553035117-LPCLOUD | 2022-11-11T04:38:36.230Z | ['35.110527 -120.332405 36.126236 -119.088341']\n",
      "LPCLOUD | ECOv002_L2T_LSTE_24682_012_11SKU_20221112T115757_0710_01 | G2555428866-LPCLOUD | 2022-11-12T11:57:57.020Z | ['34.210026 -120.295181 35.225021 -119.065819']\n",
      "LPCLOUD | ECOv002_L2T_LSTE_24682_012_10SGE_20221112T115757_0710_01 | G2555428917-LPCLOUD | 2022-11-12T11:57:57.020Z | ['35.10759 -120.80526 36.124283 -119.560028']\n",
      "LPCLOUD | ECOv002_L2T_LSTE_24682_012_10SGC_20221112T115757_0710_01 | G2555428936-LPCLOUD | 2022-11-12T11:57:57.020Z | ['33.307163 -120.851555 34.322372 -119.635178']\n",
      "LPCLOUD | ECOv002_L2T_LSTE_24682_012_11SKV_20221112T115757_0710_01 | G2555429029-LPCLOUD | 2022-11-12T11:57:57.020Z | ['35.110527 -120.332405 36.126236 -119.088341']\n",
      "LPCLOUD | ECOv002_L2T_LSTE_24682_012_11SKT_20221112T115757_0710_01 | G2555429051-LPCLOUD | 2022-11-12T11:57:57.020Z | ['33.309906 -120.259598 34.3242 -119.044289']\n",
      "LPCLOUD | ECOv002_L2T_LSTE_24682_012_10SGD_20221112T115757_0710_01 | G2555429069-LPCLOUD | 2022-11-12T11:57:57.020Z | ['34.207188 -120.828926 35.223133 -119.598442']\n",
      "LPCLOUD | ECOv002_L2T_LSTE_24697_012_11SKU_20221113T110920_0710_01 | G2555421232-LPCLOUD | 2022-11-13T11:09:20.140Z | ['34.210026 -120.295181 35.225021 -119.065819']\n",
      "LPCLOUD | ECOv002_L2T_LSTE_24697_012_11SKV_20221113T110920_0710_01 | G2555421277-LPCLOUD | 2022-11-13T11:09:20.140Z | ['35.110527 -120.332405 36.126236 -119.088341']\n",
      "LPCLOUD | ECOv002_L2T_LSTE_24697_012_10SGD_20221113T110920_0710_01 | G2555421290-LPCLOUD | 2022-11-13T11:09:20.140Z | ['34.207188 -120.828926 35.223133 -119.598442']\n",
      "LPCLOUD | ECOv002_L2T_LSTE_24697_012_10SGE_20221113T110920_0710_01 | G2555421372-LPCLOUD | 2022-11-13T11:09:20.140Z | ['35.10759 -120.80526 36.124283 -119.560028']\n",
      "LPCLOUD | ECOv002_L2T_LSTE_24708_007_10SGE_20221114T034942_0710_01 | G2555339715-LPCLOUD | 2022-11-14T03:49:42.650Z | ['35.10759 -120.80526 36.124283 -119.560028']\n",
      "LPCLOUD | ECOv002_L2T_LSTE_24708_007_10SGD_20221114T034942_0710_01 | G2555395190-LPCLOUD | 2022-11-14T03:49:42.650Z | ['34.207188 -120.828926 35.223133 -119.598442']\n",
      "LPCLOUD | ECOv002_L2T_LSTE_24708_007_11SKV_20221114T034942_0710_01 | G2555398551-LPCLOUD | 2022-11-14T03:49:42.650Z | ['35.110527 -120.332405 36.126236 -119.088341']\n"
     ]
    }
   ],
   "source": [
    "for granule in granules:\n",
    "    print(f'{granule[\"data_center\"]} | {granule[\"title\"]} | {granule[\"id\"]} | {granule[\"time_start\"]} | {granule[\"boxes\"]}')"
   ]
  },
  {
   "attachments": {},
   "cell_type": "markdown",
   "id": "48f5f279-d2f2-4dff-bc41-15a92535ee1c",
   "metadata": {},
   "source": [
    "## Get URLs to cloud data assets"
   ]
  },
  {
   "attachments": {},
   "cell_type": "markdown",
   "id": "ad70a648",
   "metadata": {},
   "source": [
    "Now that we have a list of granules filtered spatially and temporally for our collection, we can save the links to access the data. \n",
    "Below, HTTPS and S3 links are stored in two different lists. HTTPS links can be used to access data locally while S3 links can be used to access data in the cloud. View [LP DAAC Data Resources](hub.com/nasa/LPDAAC-Data-Resources) for resources available for accessing and working with data collections in the Earthdata Cloud."
   ]
  },
  {
   "cell_type": "code",
   "execution_count": 28,
   "id": "opposed-times",
   "metadata": {},
   "outputs": [
    {
     "data": {
      "text/plain": [
       "['https://data.lpdaac.earthdatacloud.nasa.gov/lp-prod-protected/ECO_L2T_LSTE.002/ECOv002_L2T_LSTE_24479_001_11SKU_20221030T092522_0710_01/ECOv002_L2T_LSTE_24479_001_11SKU_20221030T092522_0710_01_water.tif',\n",
       " 'https://data.lpdaac.earthdatacloud.nasa.gov/lp-prod-protected/ECO_L2T_LSTE.002/ECOv002_L2T_LSTE_24479_001_11SKU_20221030T092522_0710_01/ECOv002_L2T_LSTE_24479_001_11SKU_20221030T092522_0710_01_cloud.tif',\n",
       " 'https://data.lpdaac.earthdatacloud.nasa.gov/lp-prod-protected/ECO_L2T_LSTE.002/ECOv002_L2T_LSTE_24479_001_11SKU_20221030T092522_0710_01/ECOv002_L2T_LSTE_24479_001_11SKU_20221030T092522_0710_01_height.tif',\n",
       " 'https://data.lpdaac.earthdatacloud.nasa.gov/lp-prod-protected/ECO_L2T_LSTE.002/ECOv002_L2T_LSTE_24479_001_11SKU_20221030T092522_0710_01/ECOv002_L2T_LSTE_24479_001_11SKU_20221030T092522_0710_01_QC.tif',\n",
       " 'https://data.lpdaac.earthdatacloud.nasa.gov/lp-prod-protected/ECO_L2T_LSTE.002/ECOv002_L2T_LSTE_24479_001_11SKU_20221030T092522_0710_01/ECOv002_L2T_LSTE_24479_001_11SKU_20221030T092522_0710_01_LST.tif',\n",
       " 'https://data.lpdaac.earthdatacloud.nasa.gov/lp-prod-protected/ECO_L2T_LSTE.002/ECOv002_L2T_LSTE_24479_001_11SKU_20221030T092522_0710_01/ECOv002_L2T_LSTE_24479_001_11SKU_20221030T092522_0710_01_LST_err.tif',\n",
       " 'https://data.lpdaac.earthdatacloud.nasa.gov/lp-prod-protected/ECO_L2T_LSTE.002/ECOv002_L2T_LSTE_24479_001_11SKU_20221030T092522_0710_01/ECOv002_L2T_LSTE_24479_001_11SKU_20221030T092522_0710_01_EmisWB.tif']"
      ]
     },
     "execution_count": 28,
     "metadata": {},
     "output_type": "execute_result"
    }
   ],
   "source": [
    "https_urls = [l['href'] for l in granules[13]['links'] if 'https' in l['href'] and '.tif' in l['href']]\n",
    "https_urls"
   ]
  },
  {
   "cell_type": "code",
   "execution_count": 29,
   "id": "3d967958-0b7e-4c6f-be56-09d2b8e7b40a",
   "metadata": {},
   "outputs": [
    {
     "data": {
      "text/plain": [
       "['s3://lp-prod-protected/ECO_L2T_LSTE.002/ECOv002_L2T_LSTE_24479_001_11SKU_20221030T092522_0710_01/ECOv002_L2T_LSTE_24479_001_11SKU_20221030T092522_0710_01_water.tif',\n",
       " 's3://lp-prod-protected/ECO_L2T_LSTE.002/ECOv002_L2T_LSTE_24479_001_11SKU_20221030T092522_0710_01/ECOv002_L2T_LSTE_24479_001_11SKU_20221030T092522_0710_01_cloud.tif',\n",
       " 's3://lp-prod-protected/ECO_L2T_LSTE.002/ECOv002_L2T_LSTE_24479_001_11SKU_20221030T092522_0710_01/ECOv002_L2T_LSTE_24479_001_11SKU_20221030T092522_0710_01_height.tif',\n",
       " 's3://lp-prod-protected/ECO_L2T_LSTE.002/ECOv002_L2T_LSTE_24479_001_11SKU_20221030T092522_0710_01/ECOv002_L2T_LSTE_24479_001_11SKU_20221030T092522_0710_01_QC.tif',\n",
       " 's3://lp-prod-protected/ECO_L2T_LSTE.002/ECOv002_L2T_LSTE_24479_001_11SKU_20221030T092522_0710_01/ECOv002_L2T_LSTE_24479_001_11SKU_20221030T092522_0710_01_LST.tif',\n",
       " 's3://lp-prod-protected/ECO_L2T_LSTE.002/ECOv002_L2T_LSTE_24479_001_11SKU_20221030T092522_0710_01/ECOv002_L2T_LSTE_24479_001_11SKU_20221030T092522_0710_01_LST_err.tif',\n",
       " 's3://lp-prod-protected/ECO_L2T_LSTE.002/ECOv002_L2T_LSTE_24479_001_11SKU_20221030T092522_0710_01/ECOv002_L2T_LSTE_24479_001_11SKU_20221030T092522_0710_01_EmisWB.tif']"
      ]
     },
     "execution_count": 29,
     "metadata": {},
     "output_type": "execute_result"
    }
   ],
   "source": [
    "s3_urls = [l['href'] for l in granules[13]['links'] if 's3' in l['href'] and '.tif' in l['href']]\n",
    "s3_urls"
   ]
  },
  {
   "attachments": {},
   "cell_type": "markdown",
   "id": "c05ab782",
   "metadata": {},
   "source": [
    "## Contact Info:  \n",
    "\n",
    "Email: LPDAAC@usgs.gov  \n",
    "Voice: +1-866-573-3222  \n",
    "Organization: Land Processes Distributed Active Archive Center (LP DAAC)¹  \n",
    "Website: <https://lpdaac.usgs.gov/>  \n",
    "Date last modified: 7-5-2023  \n",
    "\n",
    "¹Work performed under USGS contract G15PD00467 for NASA contract NNG14HH33I.  "
   ]
  }
 ],
 "metadata": {
  "kernelspec": {
   "display_name": "Python 3 (ipykernel)",
   "language": "python",
   "name": "python3"
  },
  "language_info": {
   "codemirror_mode": {
    "name": "ipython",
    "version": 3
   },
   "file_extension": ".py",
   "mimetype": "text/x-python",
   "name": "python",
   "nbconvert_exporter": "python",
   "pygments_lexer": "ipython3",
   "version": "3.9.16"
  }
 },
 "nbformat": 4,
 "nbformat_minor": 5
}
