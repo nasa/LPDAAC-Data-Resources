{
 "cells": [
  {
   "cell_type": "markdown",
   "id": "667cf922",
   "metadata": {},
   "source": [
    "# LP DAAC GitHub Resources Metrics\n",
    "\n",
    "This notebook summarizes and visualizes metrics from the NASA Land Processes Distributed Active Archive Center (LP DAAC) for GitHub hosted Data Resources. These resources include text-based guides explaining how to work with NASA tools and services, and tutorials and scripts written to facilite use of data. Resources are categorized based on product or tool, across 7 repositories.\n",
    "\n",
    "| Resource Repository | Summary | Services and Tools |\n",
    "|----|-----|----|\n",
    "|[LP DAAC Data Resources](https://github.com/nasa/LPDAAC-Data-Resources) |Generalized examples for finding accessing and working with data archived by LPDAAC |Tutorials, AppEEARS API, Direct S3 Access |\n",
    "|[AppEEARS Data Resources](https://github.com/nasa/AppEEARS-Data-Resources) |How to use the Application for Extracting and Exploring Analysis Ready Samples (AppEEARS) |Tutorials, AppEEARS API, Direct S3 Access |\n",
    "|[ECOSTRESS Data](https://github.com/nasa/ECOSTRESS-Data-Resources)|How to find, access, and work with ECOSTRESS data (The ECOsystem Spaceborne Thermal Radiometer Experiment on Space Station)|Tutorials, Scripts, Direct S3 Access|\n",
    "|[EMIT Data](https://github.com/nasa/EMIT-Data-Resources) |How to find, access, and work with EMIT data (Earth Surface Mineral Dust Source Investigation)|Tutorials, Scripts, Direct S3 Access |\n",
    "|[GEDI Data](https://github.com/nasa/GEDI-Data-Resources) |How to find, access, and work with GEDI data (Global Ecosystem Dynamics Investigation)|Tutorials |\n",
    "|[HLS Data](https://github.com/nasa/HLS-Data-Resources)|How to find, access, and work with HLS data (Harmonized Landsat Sentinel-2)|Tutorials, Scripts, Direct S3 Access|\n",
    "|[VITALS](https://github.com/nasa/VITALS)|How to find and work with EMIT and ECOSTRESS data together |Tutorials|\n",
    "\n",
    "GitHub Traffic Metrics capture Views, Unique Views, Clones, Unique Clones, Referrers and Popular repository content. These contain the most recent 14 day period. We capture these metrics every 14 days. Views, Unique Views, Clones and Unique Clones have a single date associated with them. Referrers and popular content do not have a date associated and are just aggregated over the previous 14-day window. We capture these metrics every 14 days, giving daily insight into views and clones, but only a 14-day summary of referrers and popular content. "
   ]
  },
  {
   "cell_type": "code",
   "execution_count": null,
   "id": "3df65447",
   "metadata": {},
   "outputs": [],
   "source": [
    "import os\n",
    "import pandas as pd\n",
    "import hvplot.pandas\n",
    "import panel as pn\n",
    "import holoviews as hv\n",
    "from bokeh.palettes import Colorblind as colormap\n",
    "hv.extension('bokeh')"
   ]
  },
  {
   "cell_type": "code",
   "execution_count": null,
   "id": "9ce210e8",
   "metadata": {},
   "outputs": [],
   "source": [
    "# Open Data\n",
    "traffic = pd.read_csv(\"traffic_metrics.csv\", parse_dates=['date'])\n",
    "paths = pd.read_csv(\"popular_content.csv\", parse_dates=['date'])\n",
    "refs = pd.read_csv(\"referrers.csv\", parse_dates=['date'])"
   ]
  },
  {
   "cell_type": "code",
   "execution_count": null,
   "id": "58f40838",
   "metadata": {},
   "outputs": [],
   "source": [
    "# View Traffic\n",
    "def view_traffic(df, freq: str = \"month\"):\n",
    "    \"\"\"\n",
    "    df:     traffic dataframe\n",
    "    freq:   \"month\" to see daily\n",
    "            \"year\" to see aggregated monthly\n",
    "    \"\"\"\n",
    "    # Update Data\n",
    "    df = df.copy()\n",
    "    df[\"year\"]  = df[\"date\"].dt.year.astype(str)\n",
    "    df[\"month\"] = df[\"date\"].dt.to_period(\"M\").astype(str)\n",
    "       \n",
    "    options = sorted(df[freq].unique())\n",
    "    widget = pn.widgets.Select(name=freq.title(),options=options, value=options[-1])\n",
    "    metric_widget = pn.widgets.Select(name=\"Metric\", options=[\"views\", \"unique views\", \"clones\",\"unique clones\"], value=\"views\")\n",
    "\n",
    "    area_opts = hv.opts.Area(hover_tooltips=[(\"Repo\",  \"$name\"), (\"Date\",  \"@x{%F}\"),(\"Value\", \"@y\")],hover_formatters={'@x': 'datetime'})\n",
    "\n",
    "    @pn.depends(sel=widget, metric=metric_widget)\n",
    "    def _plot(sel, metric):\n",
    "        if freq == \"month\":\n",
    "            data = df[df[\"month\"] == sel]\n",
    "            pivot = (\n",
    "                data.pivot_table(index=\"date\",columns=\"repository\",values=metric,fill_value=0)\n",
    "                .sort_index(axis=1)\n",
    "            )\n",
    "            return pivot.hvplot.area(\n",
    "                stacked=True,\n",
    "                width=750,\n",
    "                height=375,\n",
    "                color=list(colormap[len(pivot.columns)]),\n",
    "                title=f'{metric.title()} in {sel}',\n",
    "                ylabel=metric.title(),\n",
    "            ).opts(area_opts)\n",
    "        else:\n",
    "            data = df[df[\"year\"] == sel]\n",
    "            pivot = (\n",
    "                data\n",
    "                .groupby([\"month\",\"repository\"])[metric]\n",
    "                .sum()\n",
    "                .unstack(fill_value=0)\n",
    "                .sort_index(axis=1)\n",
    "            )\n",
    "            return pivot.hvplot.area(\n",
    "                stacked=True,\n",
    "                width=750,\n",
    "                height=375,\n",
    "                color=list(colormap[len(pivot.columns)]),\n",
    "                title=f\"Monthly {metric.title()} in {sel}\",\n",
    "                xlabel=\"Month\",\n",
    "                ylabel=metric.title(),\n",
    "            ).opts(area_opts)\n",
    "    return pn.Row(_plot, pn.Column(widget, metric_widget))"
   ]
  },
  {
   "cell_type": "markdown",
   "id": "5f0ecdfe",
   "metadata": {},
   "source": [
    "## Monthly Traffic Visual"
   ]
  },
  {
   "cell_type": "code",
   "execution_count": null,
   "id": "3d678fd4",
   "metadata": {},
   "outputs": [],
   "source": [
    "monthly_figure = view_traffic(traffic, 'month')\n",
    "monthly_figure"
   ]
  },
  {
   "cell_type": "code",
   "execution_count": null,
   "id": "16da8712",
   "metadata": {},
   "outputs": [],
   "source": [
    "#pn.panel(monthly_figure).save('monthly_traffic.html',embed=True)"
   ]
  },
  {
   "cell_type": "markdown",
   "id": "992fc9d7",
   "metadata": {},
   "source": [
    "# Annual Traffic Visual"
   ]
  },
  {
   "cell_type": "code",
   "execution_count": null,
   "id": "788617d0",
   "metadata": {},
   "outputs": [],
   "source": [
    "annual_figure = view_traffic(traffic, 'year')\n",
    "annual_figure"
   ]
  },
  {
   "cell_type": "code",
   "execution_count": null,
   "id": "b2b438ef",
   "metadata": {},
   "outputs": [],
   "source": [
    "#pn.panel(monthly_figure).save('annual_traffic.html',embed=True)"
   ]
  },
  {
   "cell_type": "markdown",
   "id": "221f667e",
   "metadata": {},
   "source": [
    "## Monthly Popular Resource Paths\n",
    "Note that these numbers are not exact monthly counts, they are 28 days of data collected at the end of two 2-week periods where the end date fell within the month."
   ]
  },
  {
   "cell_type": "code",
   "execution_count": null,
   "id": "26f341b0",
   "metadata": {},
   "outputs": [],
   "source": [
    "# Monthly Popular Resource Paths\n",
    "paths['month'] = paths['date'].dt.to_period('M')\n",
    "paths['ext'] = paths['path'].apply(lambda p: os.path.splitext(os.path.basename(p))[1])\n",
    "filtered_paths = paths[paths['ext'] != ''].copy()\n",
    "monthly_paths = (filtered_paths.groupby(['month','path']).agg(total_count=('count','sum'),total_uniques = ('uniques','sum')).reset_index())\n",
    "pd.set_option('display.max_colwidth', None)\n",
    "monthly_paths.sort_values(['month','total_uniques'],ascending=[True,False]).groupby('month').head(10).reset_index(drop=True)"
   ]
  },
  {
   "cell_type": "code",
   "execution_count": null,
   "id": "4d64e6df",
   "metadata": {},
   "outputs": [],
   "source": [
    "# Annual Popular Resources Paths\n",
    "# TODO"
   ]
  },
  {
   "cell_type": "markdown",
   "id": "918412f6",
   "metadata": {},
   "source": [
    "## Monthly Top Referrers\n",
    "Note that these numbers are not exact monthly counts, they are 28 days of data collected at the end of two 2-week periods where the end date fell within the month."
   ]
  },
  {
   "cell_type": "code",
   "execution_count": null,
   "id": "3f401790",
   "metadata": {},
   "outputs": [],
   "source": [
    "# Monthly Top Referrers\n",
    "refs['month'] = refs['date'].dt.to_period('M')\n",
    "monthly_refs = (refs.groupby(['month','referrer'])['count'].sum().reset_index())\n",
    "monthly_refs.sort_values(['month','count'],ascending=[True,False]).groupby('month').head(10).reset_index(drop=True)"
   ]
  },
  {
   "cell_type": "code",
   "execution_count": null,
   "id": "bc9099c1",
   "metadata": {},
   "outputs": [],
   "source": [
    "# Annual Top Referrers\n",
    "# TODO"
   ]
  },
  {
   "cell_type": "markdown",
   "id": "29659e7b",
   "metadata": {},
   "source": [
    "## Contact Info  \n",
    "\n",
    "Email: <LPDAAC@usgs.gov>  \n",
    "Voice: +1-866-573-3222  \n",
    "Organization: Land Processes Distributed Active Archive Center (LP DAAC)¹  \n",
    "Website: <https://www.earthdata.nasa.gov/centers/lp-daac>  \n",
    "\n",
    "¹Work performed under USGS contract 140G0121D0001 for NASA contract NNG14HH33I. "
   ]
  }
 ],
 "metadata": {
  "kernelspec": {
   "display_name": "lpdaac",
   "language": "python",
   "name": "python3"
  },
  "language_info": {
   "codemirror_mode": {
    "name": "ipython",
    "version": 3
   },
   "file_extension": ".py",
   "mimetype": "text/x-python",
   "name": "python",
   "nbconvert_exporter": "python",
   "pygments_lexer": "ipython3",
   "version": "3.12.9"
  }
 },
 "nbformat": 4,
 "nbformat_minor": 5
}
